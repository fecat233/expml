{
  "cells": [
    {
      "cell_type": "markdown",
      "id": "a729388b-1bbb-467a-a69b-8abc2e5b639d",
      "metadata": {
        "id": "a729388b-1bbb-467a-a69b-8abc2e5b639d"
      },
      "source": [
        "## 加载数据集"
      ]
    },
    {
      "cell_type": "code",
      "source": [
        "# comment if local else uncomment \n",
        "!pip install transformers datasets seqeval\n",
        "!git clone https://github.com/fecat233/exp-ml-.git"
      ],
      "metadata": {
        "id": "X7jalkD5Kugk",
        "outputId": "31e6fc91-64e6-4603-f7c9-1d0c0fd511a2",
        "colab": {
          "base_uri": "https://localhost:8080/"
        }
      },
      "id": "X7jalkD5Kugk",
      "execution_count": 1,
      "outputs": [
        {
          "output_type": "stream",
          "name": "stdout",
          "text": [
            "Looking in indexes: https://pypi.org/simple, https://us-python.pkg.dev/colab-wheels/public/simple/\n",
            "Collecting transformers\n",
            "  Downloading transformers-4.22.1-py3-none-any.whl (4.9 MB)\n",
            "\u001b[K     |████████████████████████████████| 4.9 MB 33.6 MB/s \n",
            "\u001b[?25hCollecting datasets\n",
            "  Downloading datasets-2.5.1-py3-none-any.whl (431 kB)\n",
            "\u001b[K     |████████████████████████████████| 431 kB 64.1 MB/s \n",
            "\u001b[?25hCollecting seqeval\n",
            "  Downloading seqeval-1.2.2.tar.gz (43 kB)\n",
            "\u001b[K     |████████████████████████████████| 43 kB 2.2 MB/s \n",
            "\u001b[?25hRequirement already satisfied: numpy>=1.17 in /usr/local/lib/python3.7/dist-packages (from transformers) (1.21.6)\n",
            "Requirement already satisfied: regex!=2019.12.17 in /usr/local/lib/python3.7/dist-packages (from transformers) (2022.6.2)\n",
            "Requirement already satisfied: tqdm>=4.27 in /usr/local/lib/python3.7/dist-packages (from transformers) (4.64.1)\n",
            "Requirement already satisfied: pyyaml>=5.1 in /usr/local/lib/python3.7/dist-packages (from transformers) (6.0)\n",
            "Requirement already satisfied: filelock in /usr/local/lib/python3.7/dist-packages (from transformers) (3.8.0)\n",
            "Collecting tokenizers!=0.11.3,<0.13,>=0.11.1\n",
            "  Downloading tokenizers-0.12.1-cp37-cp37m-manylinux_2_12_x86_64.manylinux2010_x86_64.whl (6.6 MB)\n",
            "\u001b[K     |████████████████████████████████| 6.6 MB 48.3 MB/s \n",
            "\u001b[?25hRequirement already satisfied: requests in /usr/local/lib/python3.7/dist-packages (from transformers) (2.23.0)\n",
            "Requirement already satisfied: importlib-metadata in /usr/local/lib/python3.7/dist-packages (from transformers) (4.12.0)\n",
            "Collecting huggingface-hub<1.0,>=0.9.0\n",
            "  Downloading huggingface_hub-0.9.1-py3-none-any.whl (120 kB)\n",
            "\u001b[K     |████████████████████████████████| 120 kB 67.4 MB/s \n",
            "\u001b[?25hRequirement already satisfied: packaging>=20.0 in /usr/local/lib/python3.7/dist-packages (from transformers) (21.3)\n",
            "Requirement already satisfied: typing-extensions>=3.7.4.3 in /usr/local/lib/python3.7/dist-packages (from huggingface-hub<1.0,>=0.9.0->transformers) (4.1.1)\n",
            "Requirement already satisfied: pyparsing!=3.0.5,>=2.0.2 in /usr/local/lib/python3.7/dist-packages (from packaging>=20.0->transformers) (3.0.9)\n",
            "Requirement already satisfied: pandas in /usr/local/lib/python3.7/dist-packages (from datasets) (1.3.5)\n",
            "Requirement already satisfied: fsspec[http]>=2021.11.1 in /usr/local/lib/python3.7/dist-packages (from datasets) (2022.8.2)\n",
            "Collecting responses<0.19\n",
            "  Downloading responses-0.18.0-py3-none-any.whl (38 kB)\n",
            "Collecting xxhash\n",
            "  Downloading xxhash-3.0.0-cp37-cp37m-manylinux_2_17_x86_64.manylinux2014_x86_64.whl (212 kB)\n",
            "\u001b[K     |████████████████████████████████| 212 kB 77.6 MB/s \n",
            "\u001b[?25hRequirement already satisfied: aiohttp in /usr/local/lib/python3.7/dist-packages (from datasets) (3.8.1)\n",
            "Requirement already satisfied: pyarrow>=6.0.0 in /usr/local/lib/python3.7/dist-packages (from datasets) (6.0.1)\n",
            "Collecting multiprocess\n",
            "  Downloading multiprocess-0.70.13-py37-none-any.whl (115 kB)\n",
            "\u001b[K     |████████████████████████████████| 115 kB 75.8 MB/s \n",
            "\u001b[?25hRequirement already satisfied: dill<0.3.6 in /usr/local/lib/python3.7/dist-packages (from datasets) (0.3.5.1)\n",
            "Requirement already satisfied: attrs>=17.3.0 in /usr/local/lib/python3.7/dist-packages (from aiohttp->datasets) (22.1.0)\n",
            "Requirement already satisfied: multidict<7.0,>=4.5 in /usr/local/lib/python3.7/dist-packages (from aiohttp->datasets) (6.0.2)\n",
            "Requirement already satisfied: charset-normalizer<3.0,>=2.0 in /usr/local/lib/python3.7/dist-packages (from aiohttp->datasets) (2.1.1)\n",
            "Requirement already satisfied: yarl<2.0,>=1.0 in /usr/local/lib/python3.7/dist-packages (from aiohttp->datasets) (1.8.1)\n",
            "Requirement already satisfied: async-timeout<5.0,>=4.0.0a3 in /usr/local/lib/python3.7/dist-packages (from aiohttp->datasets) (4.0.2)\n",
            "Requirement already satisfied: frozenlist>=1.1.1 in /usr/local/lib/python3.7/dist-packages (from aiohttp->datasets) (1.3.1)\n",
            "Requirement already satisfied: asynctest==0.13.0 in /usr/local/lib/python3.7/dist-packages (from aiohttp->datasets) (0.13.0)\n",
            "Requirement already satisfied: aiosignal>=1.1.2 in /usr/local/lib/python3.7/dist-packages (from aiohttp->datasets) (1.2.0)\n",
            "Requirement already satisfied: certifi>=2017.4.17 in /usr/local/lib/python3.7/dist-packages (from requests->transformers) (2022.6.15)\n",
            "Requirement already satisfied: idna<3,>=2.5 in /usr/local/lib/python3.7/dist-packages (from requests->transformers) (2.10)\n",
            "Requirement already satisfied: chardet<4,>=3.0.2 in /usr/local/lib/python3.7/dist-packages (from requests->transformers) (3.0.4)\n",
            "Requirement already satisfied: urllib3!=1.25.0,!=1.25.1,<1.26,>=1.21.1 in /usr/local/lib/python3.7/dist-packages (from requests->transformers) (1.24.3)\n",
            "Collecting urllib3!=1.25.0,!=1.25.1,<1.26,>=1.21.1\n",
            "  Downloading urllib3-1.25.11-py2.py3-none-any.whl (127 kB)\n",
            "\u001b[K     |████████████████████████████████| 127 kB 56.2 MB/s \n",
            "\u001b[?25hRequirement already satisfied: scikit-learn>=0.21.3 in /usr/local/lib/python3.7/dist-packages (from seqeval) (1.0.2)\n",
            "Requirement already satisfied: joblib>=0.11 in /usr/local/lib/python3.7/dist-packages (from scikit-learn>=0.21.3->seqeval) (1.1.0)\n",
            "Requirement already satisfied: threadpoolctl>=2.0.0 in /usr/local/lib/python3.7/dist-packages (from scikit-learn>=0.21.3->seqeval) (3.1.0)\n",
            "Requirement already satisfied: scipy>=1.1.0 in /usr/local/lib/python3.7/dist-packages (from scikit-learn>=0.21.3->seqeval) (1.7.3)\n",
            "Requirement already satisfied: zipp>=0.5 in /usr/local/lib/python3.7/dist-packages (from importlib-metadata->transformers) (3.8.1)\n",
            "Requirement already satisfied: pytz>=2017.3 in /usr/local/lib/python3.7/dist-packages (from pandas->datasets) (2022.2.1)\n",
            "Requirement already satisfied: python-dateutil>=2.7.3 in /usr/local/lib/python3.7/dist-packages (from pandas->datasets) (2.8.2)\n",
            "Requirement already satisfied: six>=1.5 in /usr/local/lib/python3.7/dist-packages (from python-dateutil>=2.7.3->pandas->datasets) (1.15.0)\n",
            "Building wheels for collected packages: seqeval\n",
            "  Building wheel for seqeval (setup.py) ... \u001b[?25l\u001b[?25hdone\n",
            "  Created wheel for seqeval: filename=seqeval-1.2.2-py3-none-any.whl size=16180 sha256=8b33c5f8eb0837599d257418c0554691fc30e44dde2c64cc729e86bbbcf256b7\n",
            "  Stored in directory: /root/.cache/pip/wheels/05/96/ee/7cac4e74f3b19e3158dce26a20a1c86b3533c43ec72a549fd7\n",
            "Successfully built seqeval\n",
            "Installing collected packages: urllib3, xxhash, tokenizers, responses, multiprocess, huggingface-hub, transformers, seqeval, datasets\n",
            "  Attempting uninstall: urllib3\n",
            "    Found existing installation: urllib3 1.24.3\n",
            "    Uninstalling urllib3-1.24.3:\n",
            "      Successfully uninstalled urllib3-1.24.3\n",
            "Successfully installed datasets-2.5.1 huggingface-hub-0.9.1 multiprocess-0.70.13 responses-0.18.0 seqeval-1.2.2 tokenizers-0.12.1 transformers-4.22.1 urllib3-1.25.11 xxhash-3.0.0\n",
            "Cloning into 'exp-ml-'...\n",
            "remote: Enumerating objects: 44, done.\u001b[K\n",
            "remote: Counting objects: 100% (44/44), done.\u001b[K\n",
            "remote: Compressing objects: 100% (24/24), done.\u001b[K\n",
            "remote: Total 44 (delta 16), reused 43 (delta 15), pack-reused 0\u001b[K\n",
            "Unpacking objects: 100% (44/44), done.\n"
          ]
        }
      ]
    },
    {
      "cell_type": "code",
      "execution_count": 3,
      "id": "dc16d524-6f5c-4ad0-8c95-7544eb5ef809",
      "metadata": {
        "id": "dc16d524-6f5c-4ad0-8c95-7544eb5ef809"
      },
      "outputs": [],
      "source": [
        "from datasets import load_from_disk\n",
        "\n",
        "atis_dataset = load_from_disk(\"dataset/atis/atis\")"
      ]
    },
    {
      "cell_type": "code",
      "execution_count": 4,
      "id": "318a4aab-ab55-491a-a7d0-f3ba80882413",
      "metadata": {
        "id": "318a4aab-ab55-491a-a7d0-f3ba80882413",
        "outputId": "5e3bb533-e9c0-46ff-f35a-23afbd0fd010",
        "colab": {
          "base_uri": "https://localhost:8080/"
        }
      },
      "outputs": [
        {
          "output_type": "execute_result",
          "data": {
            "text/plain": [
              "DatasetDict({\n",
              "    train: Dataset({\n",
              "        features: ['text', 'tags_name', 'tags'],\n",
              "        num_rows: 4978\n",
              "    })\n",
              "    validate: Dataset({\n",
              "        features: ['text', 'tags_name', 'tags'],\n",
              "        num_rows: 893\n",
              "    })\n",
              "})"
            ]
          },
          "metadata": {},
          "execution_count": 4
        }
      ],
      "source": [
        "atis_dataset"
      ]
    },
    {
      "cell_type": "code",
      "execution_count": 5,
      "id": "3723ed5d-b35c-4854-b7f1-9b471be28e25",
      "metadata": {
        "id": "3723ed5d-b35c-4854-b7f1-9b471be28e25",
        "outputId": "168f04e0-00fa-4f79-e064-6b95036fdc8d",
        "colab": {
          "base_uri": "https://localhost:8080/"
        }
      },
      "outputs": [
        {
          "output_type": "execute_result",
          "data": {
            "text/plain": [
              "{'text': ['i',\n",
              "  'want',\n",
              "  'to',\n",
              "  'fly',\n",
              "  'from',\n",
              "  'boston',\n",
              "  'at',\n",
              "  '838',\n",
              "  'am',\n",
              "  'and',\n",
              "  'arrive',\n",
              "  'in',\n",
              "  'denver',\n",
              "  'at',\n",
              "  '1110',\n",
              "  'in',\n",
              "  'the',\n",
              "  'morning'],\n",
              " 'tags_name': ['O',\n",
              "  'O',\n",
              "  'O',\n",
              "  'O',\n",
              "  'O',\n",
              "  'B-fromloc.city_name',\n",
              "  'O',\n",
              "  'B-depart_time.time',\n",
              "  'I-depart_time.time',\n",
              "  'O',\n",
              "  'O',\n",
              "  'O',\n",
              "  'B-toloc.city_name',\n",
              "  'O',\n",
              "  'B-arrive_time.time',\n",
              "  'O',\n",
              "  'O',\n",
              "  'B-arrive_time.period_of_day'],\n",
              " 'tags': [126,\n",
              "  126,\n",
              "  126,\n",
              "  126,\n",
              "  126,\n",
              "  48,\n",
              "  126,\n",
              "  35,\n",
              "  99,\n",
              "  126,\n",
              "  126,\n",
              "  126,\n",
              "  78,\n",
              "  126,\n",
              "  14,\n",
              "  126,\n",
              "  126,\n",
              "  12]}"
            ]
          },
          "metadata": {},
          "execution_count": 5
        }
      ],
      "source": [
        "atis_dataset[\"train\"][0]"
      ]
    },
    {
      "cell_type": "markdown",
      "id": "5021a609-16c9-40f1-acad-900212144773",
      "metadata": {
        "id": "5021a609-16c9-40f1-acad-900212144773"
      },
      "source": [
        "## Tokenizer"
      ]
    },
    {
      "cell_type": "code",
      "execution_count": 6,
      "id": "1349b5cf-134c-4f74-bae9-4df0be755842",
      "metadata": {
        "id": "1349b5cf-134c-4f74-bae9-4df0be755842",
        "outputId": "4136b1ae-682c-469c-bcd1-dcc2f7870b7d",
        "colab": {
          "base_uri": "https://localhost:8080/",
          "height": 200,
          "referenced_widgets": [
            "398decef308b4560ab67a1a3d47aa55a",
            "b45d324b1cf04eccad656708b30ff0c0",
            "1a7f8b3012f44e6aa1e2e66744be6def",
            "59d4b062fb2b40088eb5cec86dbbf714",
            "30e0f78a2ce847519c80c285ea0ec0f4",
            "1ab770245a22433d9b0471aeecd390ce",
            "4c3912468a754a1e91058b496fe7a664",
            "9445ba5141cc4ea2bf9abe151dcd1e12",
            "318a65f7bf01473c9434724eaa14cce0",
            "b9fb8cfc0b7948a5a031e688a25dba3b",
            "202d077cdb914ac5a7a0ddaf5a80e582",
            "5631e99f27724a3f831ecedf1caf0ffe",
            "2eb3bca7437e4b7c85815b6e7a564918",
            "8e81bb70d7a4435c8decd324e771a09c",
            "4131e5f1f680408898993d52ff50872a",
            "ae65825f013c44ad83d66d25fab59cbf",
            "9729369e0bed4a3a98690e942c42caa8",
            "2b0d607bec8842cfb7bcb48d5fbb9120",
            "f7c9508bcfba4f47aa6a8a12234fb244",
            "3057807a4d71410fbd91094197c48381",
            "6e0c58fffb2b4979879cbf162c91ece5",
            "d84dec2764e74f3581804b0e9e537a11",
            "c44d42ae842d48dfa1a803ce4581f0c7",
            "5f26fdd2862648e6bd4b1410eb15fbd4",
            "2e9444d3c4404cbd9b3dbd9f99027ae1",
            "96fd32105e834c909097c5d5c7b88271",
            "5c36b9b6594d49d99307be54c472150a",
            "9f02596b49394e9ca091467de58a319f",
            "4bb2c4a152f74d149d1b3c293e6eda95",
            "bf276b7ab4fc43af908b4c0d930890d6",
            "cf87b2bf17b748c6a4c18c3ec6a3ed2d",
            "a73d65fe103d433abd5ebe7e9c1891db",
            "524f187747044c0bb009e0720e2f5368",
            "881e3292e51e469594b8e60a91f82385",
            "7bbeef8b4acd4125a3787c6b33d10436",
            "36a4edf63d0d4b2c9bcc274a950abec5",
            "f04494d9f41943e3844c4bb157f6fae0",
            "3f499336adb7498ba75b9e1db1083137",
            "d8666df52c53485bb30cc9442983bd8b",
            "a21274370b9f4339bdf1074f899f2b91",
            "30ee65f3c78241c49b293da19df1e8ac",
            "a12b6861cf994d949fe253855942fe5c",
            "660038b691e74721bdba41dbef7be448",
            "e1184a7fb12746c084e38cf356a251de"
          ]
        }
      },
      "outputs": [
        {
          "output_type": "stream",
          "name": "stderr",
          "text": [
            "The cache for model files in Transformers v4.22.0 has been updated. Migrating your old cache. This is a one-time only operation. You can interrupt this and resume the migration later on by calling `transformers.utils.move_cache()`.\n"
          ]
        },
        {
          "output_type": "stream",
          "name": "stdout",
          "text": [
            "Moving 0 files to the new cache system\n"
          ]
        },
        {
          "output_type": "display_data",
          "data": {
            "text/plain": [
              "0it [00:00, ?it/s]"
            ],
            "application/vnd.jupyter.widget-view+json": {
              "version_major": 2,
              "version_minor": 0,
              "model_id": "398decef308b4560ab67a1a3d47aa55a"
            }
          },
          "metadata": {}
        },
        {
          "output_type": "display_data",
          "data": {
            "text/plain": [
              "Downloading:   0%|          | 0.00/615 [00:00<?, ?B/s]"
            ],
            "application/vnd.jupyter.widget-view+json": {
              "version_major": 2,
              "version_minor": 0,
              "model_id": "5631e99f27724a3f831ecedf1caf0ffe"
            }
          },
          "metadata": {}
        },
        {
          "output_type": "display_data",
          "data": {
            "text/plain": [
              "Downloading:   0%|          | 0.00/5.07M [00:00<?, ?B/s]"
            ],
            "application/vnd.jupyter.widget-view+json": {
              "version_major": 2,
              "version_minor": 0,
              "model_id": "c44d42ae842d48dfa1a803ce4581f0c7"
            }
          },
          "metadata": {}
        },
        {
          "output_type": "display_data",
          "data": {
            "text/plain": [
              "Downloading:   0%|          | 0.00/9.10M [00:00<?, ?B/s]"
            ],
            "application/vnd.jupyter.widget-view+json": {
              "version_major": 2,
              "version_minor": 0,
              "model_id": "881e3292e51e469594b8e60a91f82385"
            }
          },
          "metadata": {}
        }
      ],
      "source": [
        "from transformers import AutoTokenizer\n",
        "model_name = 'xlm-roberta-base'\n",
        "tokenizer = AutoTokenizer.from_pretrained(model_name)"
      ]
    },
    {
      "cell_type": "code",
      "execution_count": 7,
      "id": "985504e4-ddc4-43d5-a5ba-4181fd860166",
      "metadata": {
        "id": "985504e4-ddc4-43d5-a5ba-4181fd860166",
        "outputId": "86e5aff9-c536-4006-9228-f5436d13d9f4",
        "colab": {
          "base_uri": "https://localhost:8080/"
        }
      },
      "outputs": [
        {
          "output_type": "execute_result",
          "data": {
            "text/plain": [
              "250002"
            ]
          },
          "metadata": {},
          "execution_count": 7
        }
      ],
      "source": [
        "tokenizer.vocab_size"
      ]
    },
    {
      "cell_type": "code",
      "execution_count": 8,
      "id": "fb7af12f-5177-4537-8bf0-c5ce2daea157",
      "metadata": {
        "id": "fb7af12f-5177-4537-8bf0-c5ce2daea157",
        "outputId": "cb216417-d106-4576-e6af-b9cbe3613b41",
        "colab": {
          "base_uri": "https://localhost:8080/"
        }
      },
      "outputs": [
        {
          "output_type": "execute_result",
          "data": {
            "text/plain": [
              "['input_ids', 'attention_mask']"
            ]
          },
          "metadata": {},
          "execution_count": 8
        }
      ],
      "source": [
        "tokenizer.model_input_names"
      ]
    },
    {
      "cell_type": "code",
      "execution_count": null,
      "id": "92b13c77-a157-4438-bef4-c816c5c4a3bf",
      "metadata": {
        "id": "92b13c77-a157-4438-bef4-c816c5c4a3bf"
      },
      "outputs": [],
      "source": [
        "index_0_data = atis_dataset[\"train\"][0]"
      ]
    },
    {
      "cell_type": "code",
      "execution_count": null,
      "id": "1c2ad5ea-dae3-447a-af79-a17972af05d2",
      "metadata": {
        "id": "1c2ad5ea-dae3-447a-af79-a17972af05d2"
      },
      "outputs": [],
      "source": [
        "index_0_data_encoded = tokenizer(index_0_data[\"text\"], is_split_into_words=True, return_tensors=\"pt\")"
      ]
    },
    {
      "cell_type": "code",
      "execution_count": null,
      "id": "6b77e003-097c-4665-9c1d-2974fda511ff",
      "metadata": {
        "id": "6b77e003-097c-4665-9c1d-2974fda511ff"
      },
      "outputs": [],
      "source": [
        "tokens = index_0_data_encoded.tokens()"
      ]
    },
    {
      "cell_type": "code",
      "execution_count": null,
      "id": "187df0d5-4864-4005-abfa-bef82ac457f8",
      "metadata": {
        "id": "187df0d5-4864-4005-abfa-bef82ac457f8"
      },
      "outputs": [],
      "source": [
        "word_ids = index_0_data_encoded.word_ids()"
      ]
    },
    {
      "cell_type": "code",
      "execution_count": null,
      "id": "949315ae-e6dd-4430-bcb1-a32b8c011afe",
      "metadata": {
        "id": "949315ae-e6dd-4430-bcb1-a32b8c011afe",
        "outputId": "430e4954-6811-42a8-991f-a39b6e092903"
      },
      "outputs": [
        {
          "data": {
            "text/plain": [
              "{'input_ids': tensor([[     0,     17,   3444,     47,  12403,   1295,    337,  19386,     99,\n",
              "              6, 190955,    444,    136,  54410,     23,    168,    814,     99,\n",
              "            534,    963,     23,     70,  42141,      2]]), 'attention_mask': tensor([[1, 1, 1, 1, 1, 1, 1, 1, 1, 1, 1, 1, 1, 1, 1, 1, 1, 1, 1, 1, 1, 1, 1, 1]])}"
            ]
          },
          "execution_count": 10,
          "metadata": {},
          "output_type": "execute_result"
        }
      ],
      "source": [
        "index_0_data_encoded"
      ]
    },
    {
      "cell_type": "code",
      "execution_count": null,
      "id": "34243795-37af-4921-8b5b-84dc2c3c969c",
      "metadata": {
        "id": "34243795-37af-4921-8b5b-84dc2c3c969c"
      },
      "outputs": [],
      "source": [
        "previous_word_idx = None\n",
        "label_ids = []\n",
        "\n",
        "for word_idx in word_ids:\n",
        "    if word_idx is None or word_idx == previous_word_idx:\n",
        "        label_ids.append(-100)\n",
        "    elif word_idx != previous_word_idx:\n",
        "        label_ids.append(index_0_data['tags'][word_idx])\n",
        "    previous_word_idx = word_idx"
      ]
    },
    {
      "cell_type": "code",
      "execution_count": null,
      "id": "d34e3314-e97d-4e6f-b407-6589fcf4f0f5",
      "metadata": {
        "id": "d34e3314-e97d-4e6f-b407-6589fcf4f0f5",
        "outputId": "24a94d91-d9e9-442d-b59a-241c6f570006"
      },
      "outputs": [
        {
          "data": {
            "text/html": [
              "<div>\n",
              "<style scoped>\n",
              "    .dataframe tbody tr th:only-of-type {\n",
              "        vertical-align: middle;\n",
              "    }\n",
              "\n",
              "    .dataframe tbody tr th {\n",
              "        vertical-align: top;\n",
              "    }\n",
              "\n",
              "    .dataframe thead th {\n",
              "        text-align: right;\n",
              "    }\n",
              "</style>\n",
              "<table border=\"1\" class=\"dataframe\">\n",
              "  <thead>\n",
              "    <tr style=\"text-align: right;\">\n",
              "      <th></th>\n",
              "      <th>0</th>\n",
              "      <th>1</th>\n",
              "      <th>2</th>\n",
              "      <th>3</th>\n",
              "      <th>4</th>\n",
              "      <th>5</th>\n",
              "      <th>6</th>\n",
              "      <th>7</th>\n",
              "      <th>8</th>\n",
              "      <th>9</th>\n",
              "      <th>...</th>\n",
              "      <th>14</th>\n",
              "      <th>15</th>\n",
              "      <th>16</th>\n",
              "      <th>17</th>\n",
              "      <th>18</th>\n",
              "      <th>19</th>\n",
              "      <th>20</th>\n",
              "      <th>21</th>\n",
              "      <th>22</th>\n",
              "      <th>23</th>\n",
              "    </tr>\n",
              "  </thead>\n",
              "  <tbody>\n",
              "    <tr>\n",
              "      <th>Tokens</th>\n",
              "      <td>&lt;s&gt;</td>\n",
              "      <td>▁i</td>\n",
              "      <td>▁want</td>\n",
              "      <td>▁to</td>\n",
              "      <td>▁fly</td>\n",
              "      <td>▁from</td>\n",
              "      <td>▁bo</td>\n",
              "      <td>ston</td>\n",
              "      <td>▁at</td>\n",
              "      <td>▁</td>\n",
              "      <td>...</td>\n",
              "      <td>▁in</td>\n",
              "      <td>▁den</td>\n",
              "      <td>ver</td>\n",
              "      <td>▁at</td>\n",
              "      <td>▁11</td>\n",
              "      <td>10</td>\n",
              "      <td>▁in</td>\n",
              "      <td>▁the</td>\n",
              "      <td>▁morning</td>\n",
              "      <td>&lt;/s&gt;</td>\n",
              "    </tr>\n",
              "    <tr>\n",
              "      <th>Word IDs</th>\n",
              "      <td>None</td>\n",
              "      <td>0</td>\n",
              "      <td>1</td>\n",
              "      <td>2</td>\n",
              "      <td>3</td>\n",
              "      <td>4</td>\n",
              "      <td>5</td>\n",
              "      <td>5</td>\n",
              "      <td>6</td>\n",
              "      <td>7</td>\n",
              "      <td>...</td>\n",
              "      <td>11</td>\n",
              "      <td>12</td>\n",
              "      <td>12</td>\n",
              "      <td>13</td>\n",
              "      <td>14</td>\n",
              "      <td>14</td>\n",
              "      <td>15</td>\n",
              "      <td>16</td>\n",
              "      <td>17</td>\n",
              "      <td>None</td>\n",
              "    </tr>\n",
              "    <tr>\n",
              "      <th>Label IDs</th>\n",
              "      <td>-100</td>\n",
              "      <td>126</td>\n",
              "      <td>126</td>\n",
              "      <td>126</td>\n",
              "      <td>126</td>\n",
              "      <td>126</td>\n",
              "      <td>48</td>\n",
              "      <td>-100</td>\n",
              "      <td>126</td>\n",
              "      <td>35</td>\n",
              "      <td>...</td>\n",
              "      <td>126</td>\n",
              "      <td>78</td>\n",
              "      <td>-100</td>\n",
              "      <td>126</td>\n",
              "      <td>14</td>\n",
              "      <td>-100</td>\n",
              "      <td>126</td>\n",
              "      <td>126</td>\n",
              "      <td>12</td>\n",
              "      <td>-100</td>\n",
              "    </tr>\n",
              "  </tbody>\n",
              "</table>\n",
              "<p>3 rows × 24 columns</p>\n",
              "</div>"
            ],
            "text/plain": [
              "             0    1      2    3     4      5    6     7    8   9   ...   14  \\\n",
              "Tokens      <s>   ▁i  ▁want  ▁to  ▁fly  ▁from  ▁bo  ston  ▁at   ▁  ...  ▁in   \n",
              "Word IDs   None    0      1    2     3      4    5     5    6   7  ...   11   \n",
              "Label IDs  -100  126    126  126   126    126   48  -100  126  35  ...  126   \n",
              "\n",
              "             15    16   17   18    19   20    21        22    23  \n",
              "Tokens     ▁den   ver  ▁at  ▁11    10  ▁in  ▁the  ▁morning  </s>  \n",
              "Word IDs     12    12   13   14    14   15    16        17  None  \n",
              "Label IDs    78  -100  126   14  -100  126   126        12  -100  \n",
              "\n",
              "[3 rows x 24 columns]"
            ]
          },
          "execution_count": 29,
          "metadata": {},
          "output_type": "execute_result"
        }
      ],
      "source": [
        "import pandas as pd\n",
        "index = [\"Tokens\", \"Word IDs\", \"Label IDs\"]\n",
        "pd.DataFrame([tokens, word_ids, label_ids], index=index)"
      ]
    },
    {
      "cell_type": "code",
      "execution_count": 9,
      "id": "877dbfa2-f954-4c3e-ab3c-cb14b85d4801",
      "metadata": {
        "id": "877dbfa2-f954-4c3e-ab3c-cb14b85d4801"
      },
      "outputs": [],
      "source": [
        "def tokenize_and_align_labels(examples):\n",
        "    tokenized_inputs = tokenizer(examples[\"text\"], truncation=True, \n",
        "                                      is_split_into_words=True)\n",
        "    word_ids = tokenized_inputs.word_ids()\n",
        "    previous_word_idx = None\n",
        "    label_ids = []\n",
        "    for word_idx in word_ids:\n",
        "        if word_idx is None or word_idx == previous_word_idx:\n",
        "            label_ids.append(-100)\n",
        "        else:\n",
        "            label_ids.append(examples[\"tags\"][word_idx])\n",
        "        previous_word_idx = word_idx\n",
        "    tokenized_inputs[\"labels\"] = label_ids\n",
        "    return tokenized_inputs"
      ]
    },
    {
      "cell_type": "code",
      "execution_count": 10,
      "id": "3a227616-27eb-4fb6-879f-291ab267b578",
      "metadata": {
        "id": "3a227616-27eb-4fb6-879f-291ab267b578",
        "outputId": "f39465cf-cb65-4d5e-cf77-08449f64b163",
        "colab": {
          "base_uri": "https://localhost:8080/",
          "height": 81,
          "referenced_widgets": [
            "a0077e55504f4738bbe8d41fb520fad3",
            "3f7516ab5fd546d99bc9715bdd3c8445",
            "3bc512af9a54483ab3d326187064a7a4",
            "b46a7a2c22914facaa1fe5b153d2d859",
            "fdcf42d9cf744355af8e0258ccd4cd34",
            "d4d47e2a53b043a69a9d7d4882b066e3",
            "0f849c7bffcf45f48524a07321d4674e",
            "68dc9318e46e468f9a3c8cc92b89d0b0",
            "b3634bc6d2564c978fe2b9ee7ff4997c",
            "93a81759ccf344be848447dc674ad4c3",
            "773d5ce5c8064b5fbd1f52022a94be0b",
            "e951de79e57d449880a475f8eb78f26c",
            "807b1738bd72448a91083e3fc43c2be2",
            "25a76a2450c145a8844a597aec107b0b",
            "3626139a1b354481b97d530e32db0181",
            "f494d3cd783e419cbc972bf76c93d433",
            "8691effad6db43999b646f3fe1da5ea9",
            "84ef6a701f1b4ffc8d034f55c17777e3",
            "0183b5eff33d43ec9932244e470fee39",
            "cca8a9bcec6048ea896143cc37b5fcf8",
            "35a421a504394d94a90630b01f7a5f4f",
            "b61f76a39b364b0c9e63f8e77ef526a9"
          ]
        }
      },
      "outputs": [
        {
          "output_type": "display_data",
          "data": {
            "text/plain": [
              "  0%|          | 0/4978 [00:00<?, ?ex/s]"
            ],
            "application/vnd.jupyter.widget-view+json": {
              "version_major": 2,
              "version_minor": 0,
              "model_id": "a0077e55504f4738bbe8d41fb520fad3"
            }
          },
          "metadata": {}
        },
        {
          "output_type": "display_data",
          "data": {
            "text/plain": [
              "  0%|          | 0/893 [00:00<?, ?ex/s]"
            ],
            "application/vnd.jupyter.widget-view+json": {
              "version_major": 2,
              "version_minor": 0,
              "model_id": "e951de79e57d449880a475f8eb78f26c"
            }
          },
          "metadata": {}
        }
      ],
      "source": [
        "atis_dataset_encoded = atis_dataset.map(tokenize_and_align_labels, remove_columns=[\"text\", \"tags_name\", \"tags\"])"
      ]
    },
    {
      "cell_type": "code",
      "execution_count": 11,
      "id": "a2e74a9e-faf1-4240-ad65-5b66089ce7dd",
      "metadata": {
        "id": "a2e74a9e-faf1-4240-ad65-5b66089ce7dd",
        "outputId": "9e428bdd-f6c3-4bc5-ccfa-2e6f92e5be9e",
        "colab": {
          "base_uri": "https://localhost:8080/"
        }
      },
      "outputs": [
        {
          "output_type": "execute_result",
          "data": {
            "text/plain": [
              "DatasetDict({\n",
              "    train: Dataset({\n",
              "        features: ['input_ids', 'attention_mask', 'labels'],\n",
              "        num_rows: 4978\n",
              "    })\n",
              "    validate: Dataset({\n",
              "        features: ['input_ids', 'attention_mask', 'labels'],\n",
              "        num_rows: 893\n",
              "    })\n",
              "})"
            ]
          },
          "metadata": {},
          "execution_count": 11
        }
      ],
      "source": [
        "atis_dataset_encoded"
      ]
    },
    {
      "cell_type": "code",
      "execution_count": 12,
      "id": "2044aff1-0656-4969-8a9a-85f30c8ed1f3",
      "metadata": {
        "id": "2044aff1-0656-4969-8a9a-85f30c8ed1f3",
        "outputId": "3e615271-e107-4722-ff96-06a5d401404e",
        "colab": {
          "base_uri": "https://localhost:8080/"
        }
      },
      "outputs": [
        {
          "output_type": "execute_result",
          "data": {
            "text/plain": [
              "{'input_ids': [0,\n",
              "  17,\n",
              "  3444,\n",
              "  47,\n",
              "  12403,\n",
              "  1295,\n",
              "  337,\n",
              "  19386,\n",
              "  99,\n",
              "  6,\n",
              "  190955,\n",
              "  444,\n",
              "  136,\n",
              "  54410,\n",
              "  23,\n",
              "  168,\n",
              "  814,\n",
              "  99,\n",
              "  534,\n",
              "  963,\n",
              "  23,\n",
              "  70,\n",
              "  42141,\n",
              "  2],\n",
              " 'attention_mask': [1,\n",
              "  1,\n",
              "  1,\n",
              "  1,\n",
              "  1,\n",
              "  1,\n",
              "  1,\n",
              "  1,\n",
              "  1,\n",
              "  1,\n",
              "  1,\n",
              "  1,\n",
              "  1,\n",
              "  1,\n",
              "  1,\n",
              "  1,\n",
              "  1,\n",
              "  1,\n",
              "  1,\n",
              "  1,\n",
              "  1,\n",
              "  1,\n",
              "  1,\n",
              "  1],\n",
              " 'labels': [-100,\n",
              "  126,\n",
              "  126,\n",
              "  126,\n",
              "  126,\n",
              "  126,\n",
              "  48,\n",
              "  -100,\n",
              "  126,\n",
              "  35,\n",
              "  -100,\n",
              "  99,\n",
              "  126,\n",
              "  126,\n",
              "  126,\n",
              "  78,\n",
              "  -100,\n",
              "  126,\n",
              "  14,\n",
              "  -100,\n",
              "  126,\n",
              "  126,\n",
              "  12,\n",
              "  -100]}"
            ]
          },
          "metadata": {},
          "execution_count": 12
        }
      ],
      "source": [
        "atis_dataset_encoded[\"train\"][0]"
      ]
    },
    {
      "cell_type": "markdown",
      "id": "20614aa2-5be5-4596-99a5-437808a0db43",
      "metadata": {
        "id": "20614aa2-5be5-4596-99a5-437808a0db43"
      },
      "source": [
        "## 加载XLMR模型"
      ]
    },
    {
      "cell_type": "code",
      "execution_count": 13,
      "id": "c2ea05cf-de23-4fb6-b3aa-b8be5d527525",
      "metadata": {
        "id": "c2ea05cf-de23-4fb6-b3aa-b8be5d527525"
      },
      "outputs": [],
      "source": [
        "import torch\n",
        "device = torch.device(\"cuda\" if torch.cuda.is_available() else \"cpu\")"
      ]
    },
    {
      "cell_type": "code",
      "execution_count": 14,
      "id": "39990b32-ea42-403c-be48-a58ac0d2ce6f",
      "metadata": {
        "id": "39990b32-ea42-403c-be48-a58ac0d2ce6f",
        "outputId": "2024b81c-8106-4456-9071-d33ce4e4fe35",
        "colab": {
          "base_uri": "https://localhost:8080/"
        }
      },
      "outputs": [
        {
          "output_type": "execute_result",
          "data": {
            "text/plain": [
              "device(type='cuda')"
            ]
          },
          "metadata": {},
          "execution_count": 14
        }
      ],
      "source": [
        "device"
      ]
    },
    {
      "cell_type": "code",
      "execution_count": 15,
      "id": "7ca38943-bd73-45cd-9554-d8b0e5e2ecdd",
      "metadata": {
        "id": "7ca38943-bd73-45cd-9554-d8b0e5e2ecdd",
        "outputId": "be96572a-9b37-45f4-897a-fce4e76f042e",
        "colab": {
          "base_uri": "https://localhost:8080/",
          "height": 156,
          "referenced_widgets": [
            "5d902db721a44ca4b22aa9aecb21c0da",
            "2903af0a05964b828d458e776dba2a0d",
            "b49fb54273734fbaa2ed03585b8bbca7",
            "8c0599fc6fb34214a8948e4a10deda9c",
            "f890d3adf2454ab8af253c43f3ca4ce1",
            "317981303cf94c6f95b852120d700efb",
            "309adcc5aee144309d7e1f4c82b8a10d",
            "d22fe578c0834db49201cc6a9797e3eb",
            "783c83ef86604a4db9139252c177ad0b",
            "44c8dd73b46a47a88d2ec33881c3f386",
            "4b4904cbc38e4b308743e0b24885db75"
          ]
        }
      },
      "outputs": [
        {
          "output_type": "display_data",
          "data": {
            "text/plain": [
              "Downloading:   0%|          | 0.00/1.12G [00:00<?, ?B/s]"
            ],
            "application/vnd.jupyter.widget-view+json": {
              "version_major": 2,
              "version_minor": 0,
              "model_id": "5d902db721a44ca4b22aa9aecb21c0da"
            }
          },
          "metadata": {}
        },
        {
          "output_type": "stream",
          "name": "stderr",
          "text": [
            "Some weights of the model checkpoint at xlm-roberta-base were not used when initializing XLMRobertaForTokenClassification: ['lm_head.decoder.weight', 'lm_head.layer_norm.bias', 'lm_head.dense.bias', 'lm_head.layer_norm.weight', 'lm_head.bias', 'lm_head.dense.weight']\n",
            "- This IS expected if you are initializing XLMRobertaForTokenClassification from the checkpoint of a model trained on another task or with another architecture (e.g. initializing a BertForSequenceClassification model from a BertForPreTraining model).\n",
            "- This IS NOT expected if you are initializing XLMRobertaForTokenClassification from the checkpoint of a model that you expect to be exactly identical (initializing a BertForSequenceClassification model from a BertForSequenceClassification model).\n",
            "Some weights of XLMRobertaForTokenClassification were not initialized from the model checkpoint at xlm-roberta-base and are newly initialized: ['classifier.weight', 'classifier.bias']\n",
            "You should probably TRAIN this model on a down-stream task to be able to use it for predictions and inference.\n"
          ]
        }
      ],
      "source": [
        "from transformers import AutoModelForTokenClassification\n",
        "\n",
        "num_labels = 127\n",
        "model = AutoModelForTokenClassification.from_pretrained(model_name, num_labels=num_labels).to(device)"
      ]
    },
    {
      "cell_type": "code",
      "execution_count": null,
      "id": "e114f1c4-1ca6-40f4-832f-b6fb7053e9e3",
      "metadata": {
        "id": "e114f1c4-1ca6-40f4-832f-b6fb7053e9e3"
      },
      "outputs": [],
      "source": [
        "index_0_data_encoded_input = {k:v.to(device) for k,v in index_0_data_encoded.items()}"
      ]
    },
    {
      "cell_type": "code",
      "execution_count": null,
      "id": "d8904a56-8ac0-468c-aa1d-0e8349bac037",
      "metadata": {
        "id": "d8904a56-8ac0-468c-aa1d-0e8349bac037"
      },
      "outputs": [],
      "source": [
        "index_0_encoded_output = model(**index_0_data_encoded_input)"
      ]
    },
    {
      "cell_type": "code",
      "execution_count": null,
      "id": "397b771c-8fb1-4c6a-9e47-5ae4a5db5acf",
      "metadata": {
        "id": "397b771c-8fb1-4c6a-9e47-5ae4a5db5acf",
        "outputId": "bb01b75a-ddfc-4462-82d3-72a4e91f8088"
      },
      "outputs": [
        {
          "data": {
            "text/plain": [
              "TokenClassifierOutput(loss=None, logits=tensor([[[-0.1447,  0.1849, -0.5500,  ..., -0.1669, -0.0084, -0.0949],\n",
              "         [-0.2162, -0.0523, -0.6306,  ..., -0.4601, -0.2152, -0.0867],\n",
              "         [-0.2005, -0.0521, -0.5692,  ..., -0.4737, -0.2419, -0.0266],\n",
              "         ...,\n",
              "         [-0.2873,  0.0736, -0.6032,  ..., -0.3147, -0.1009, -0.1183],\n",
              "         [-0.2899, -0.0458, -0.5619,  ..., -0.3323, -0.1595, -0.0937],\n",
              "         [-0.1738,  0.1949, -0.5485,  ..., -0.1840, -0.0017, -0.1020]]],\n",
              "       device='cuda:0', grad_fn=<ViewBackward0>), hidden_states=None, attentions=None)"
            ]
          },
          "execution_count": 16,
          "metadata": {},
          "output_type": "execute_result"
        }
      ],
      "source": [
        "index_0_encoded_output"
      ]
    },
    {
      "cell_type": "code",
      "execution_count": null,
      "id": "e0f567ac-8300-4877-835a-d42947ac43c1",
      "metadata": {
        "id": "e0f567ac-8300-4877-835a-d42947ac43c1",
        "outputId": "c0e07639-faa2-48d7-a897-11d41a2bbd6a"
      },
      "outputs": [
        {
          "data": {
            "text/plain": [
              "torch.Size([1, 24, 127])"
            ]
          },
          "execution_count": 17,
          "metadata": {},
          "output_type": "execute_result"
        }
      ],
      "source": [
        "index_0_encoded_output.logits.shape"
      ]
    },
    {
      "cell_type": "code",
      "execution_count": null,
      "id": "704c07b4-956f-4b40-bccc-d0e763f120f3",
      "metadata": {
        "id": "704c07b4-956f-4b40-bccc-d0e763f120f3"
      },
      "outputs": [],
      "source": [
        "predictions = torch.argmax(index_0_encoded_output.logits, dim=-1)"
      ]
    },
    {
      "cell_type": "code",
      "execution_count": null,
      "id": "d2d49e8c-7122-4556-b0fd-fc560acb7a87",
      "metadata": {
        "id": "d2d49e8c-7122-4556-b0fd-fc560acb7a87",
        "outputId": "f32fb1bf-90a1-4d87-ccf6-e4d41327bd00"
      },
      "outputs": [
        {
          "data": {
            "text/plain": [
              "tensor([[ 8,  6,  6, 73,  6,  6,  8,  8,  8,  6, 58,  6, 73,  6,  6,  8,  8,  8,\n",
              "          6,  6,  6,  6,  8,  8]], device='cuda:0')"
            ]
          },
          "execution_count": 20,
          "metadata": {},
          "output_type": "execute_result"
        }
      ],
      "source": [
        "predictions"
      ]
    },
    {
      "cell_type": "code",
      "execution_count": null,
      "id": "1e5cf062-578b-4863-9d1e-502a4b7efca1",
      "metadata": {
        "id": "1e5cf062-578b-4863-9d1e-502a4b7efca1"
      },
      "outputs": [],
      "source": []
    },
    {
      "cell_type": "markdown",
      "id": "843ec2c1-a25a-4b85-9d28-9250b398307b",
      "metadata": {
        "id": "843ec2c1-a25a-4b85-9d28-9250b398307b"
      },
      "source": [
        "### 定义性能指标"
      ]
    },
    {
      "cell_type": "code",
      "execution_count": null,
      "id": "ee3b31db-7e1d-48e7-a25e-ab64ba48f33d",
      "metadata": {
        "id": "ee3b31db-7e1d-48e7-a25e-ab64ba48f33d",
        "outputId": "b28a7784-a293-484e-fed7-f8d4a3a8b59f"
      },
      "outputs": [
        {
          "name": "stdout",
          "output_type": "stream",
          "text": [
            "              precision    recall  f1-score   support\n",
            "\n",
            "        MISC       0.00      0.00      0.00         1\n",
            "         PER       1.00      1.00      1.00         1\n",
            "\n",
            "   micro avg       0.50      0.50      0.50         2\n",
            "   macro avg       0.50      0.50      0.50         2\n",
            "weighted avg       0.50      0.50      0.50         2\n",
            "\n"
          ]
        }
      ],
      "source": [
        "from seqeval.metrics import classification_report\n",
        "\n",
        "y_true = [[\"O\", \"O\", \"O\", \"B-MISC\", \"I-MISC\", \"I-MISC\", \"O\"],\n",
        "          [\"B-PER\", \"I-PER\", \"O\"]]\n",
        "y_pred = [[\"O\", \"O\", \"B-MISC\", \"I-MISC\", \"I-MISC\", \"I-MISC\", \"O\"],\n",
        "          [\"B-PER\", \"I-PER\", \"O\"]]\n",
        "print(classification_report(y_true, y_pred))"
      ]
    },
    {
      "cell_type": "code",
      "source": [
        "label_names = ['B-aircraft_code', 'B-airline_code', 'B-airline_name',\n",
        "       'B-airport_code', 'B-airport_name', 'B-arrive_date.date_relative',\n",
        "       'B-arrive_date.day_name', 'B-arrive_date.day_number',\n",
        "       'B-arrive_date.month_name', 'B-arrive_date.today_relative',\n",
        "       'B-arrive_time.end_time', 'B-arrive_time.period_mod',\n",
        "       'B-arrive_time.period_of_day', 'B-arrive_time.start_time',\n",
        "       'B-arrive_time.time', 'B-arrive_time.time_relative',\n",
        "       'B-booking_class', 'B-city_name', 'B-class_type', 'B-compartment',\n",
        "       'B-connect', 'B-cost_relative', 'B-day_name', 'B-day_number',\n",
        "       'B-days_code', 'B-depart_date.date_relative',\n",
        "       'B-depart_date.day_name', 'B-depart_date.day_number',\n",
        "       'B-depart_date.month_name', 'B-depart_date.today_relative',\n",
        "       'B-depart_date.year', 'B-depart_time.end_time',\n",
        "       'B-depart_time.period_mod', 'B-depart_time.period_of_day',\n",
        "       'B-depart_time.start_time', 'B-depart_time.time',\n",
        "       'B-depart_time.time_relative', 'B-economy', 'B-fare_amount',\n",
        "       'B-fare_basis_code', 'B-flight', 'B-flight_days', 'B-flight_mod',\n",
        "       'B-flight_number', 'B-flight_stop', 'B-flight_time',\n",
        "       'B-fromloc.airport_code', 'B-fromloc.airport_name',\n",
        "       'B-fromloc.city_name', 'B-fromloc.state_code',\n",
        "       'B-fromloc.state_name', 'B-meal', 'B-meal_code',\n",
        "       'B-meal_description', 'B-mod', 'B-month_name', 'B-or',\n",
        "       'B-period_of_day', 'B-restriction_code',\n",
        "       'B-return_date.date_relative', 'B-return_date.day_name',\n",
        "       'B-return_date.day_number', 'B-return_date.month_name',\n",
        "       'B-return_date.today_relative', 'B-return_time.period_mod',\n",
        "       'B-return_time.period_of_day', 'B-round_trip', 'B-state_code',\n",
        "       'B-state_name', 'B-stoploc.airport_code', 'B-stoploc.airport_name',\n",
        "       'B-stoploc.city_name', 'B-stoploc.state_code', 'B-time',\n",
        "       'B-time_relative', 'B-today_relative', 'B-toloc.airport_code',\n",
        "       'B-toloc.airport_name', 'B-toloc.city_name',\n",
        "       'B-toloc.country_name', 'B-toloc.state_code', 'B-toloc.state_name',\n",
        "       'B-transport_type', 'I-airline_name', 'I-airport_name',\n",
        "       'I-arrive_date.day_number', 'I-arrive_time.end_time',\n",
        "       'I-arrive_time.period_of_day', 'I-arrive_time.start_time',\n",
        "       'I-arrive_time.time', 'I-arrive_time.time_relative', 'I-city_name',\n",
        "       'I-class_type', 'I-cost_relative', 'I-depart_date.day_number',\n",
        "       'I-depart_date.today_relative', 'I-depart_time.end_time',\n",
        "       'I-depart_time.period_of_day', 'I-depart_time.start_time',\n",
        "       'I-depart_time.time', 'I-depart_time.time_relative', 'I-economy',\n",
        "       'I-fare_amount', 'I-fare_basis_code', 'I-flight_mod',\n",
        "       'I-flight_number', 'I-flight_stop', 'I-flight_time',\n",
        "       'I-fromloc.airport_name', 'I-fromloc.city_name',\n",
        "       'I-fromloc.state_name', 'I-meal_code', 'I-meal_description',\n",
        "       'I-restriction_code', 'I-return_date.date_relative',\n",
        "       'I-return_date.day_number', 'I-return_date.today_relative',\n",
        "       'I-round_trip', 'I-state_name', 'I-stoploc.city_name', 'I-time',\n",
        "       'I-today_relative', 'I-toloc.airport_name', 'I-toloc.city_name',\n",
        "       'I-toloc.state_name', 'I-transport_type', 'O']"
      ],
      "metadata": {
        "id": "RbAuUe8Af-8E"
      },
      "id": "RbAuUe8Af-8E",
      "execution_count": 16,
      "outputs": []
    },
    {
      "cell_type": "code",
      "source": [
        "len(label_names)"
      ],
      "metadata": {
        "id": "ddSlUjkYgKKE",
        "outputId": "4c45b363-b63b-4a82-f128-b0585b612ce5",
        "colab": {
          "base_uri": "https://localhost:8080/"
        }
      },
      "id": "ddSlUjkYgKKE",
      "execution_count": 17,
      "outputs": [
        {
          "output_type": "execute_result",
          "data": {
            "text/plain": [
              "127"
            ]
          },
          "metadata": {},
          "execution_count": 17
        }
      ]
    },
    {
      "cell_type": "code",
      "execution_count": 18,
      "id": "700be3aa-7a22-4953-9fb0-a6535c7264ab",
      "metadata": {
        "id": "700be3aa-7a22-4953-9fb0-a6535c7264ab"
      },
      "outputs": [],
      "source": [
        "import numpy as np\n",
        "\n",
        "def align_predictions(predictions, label_ids):\n",
        "    preds = np.argmax(predictions, axis=2)\n",
        "    batch_size, seq_len = preds.shape\n",
        "    labels_list, preds_list = [], []\n",
        "\n",
        "    for batch_idx in range(batch_size):\n",
        "        example_labels, example_preds = [], []\n",
        "        for seq_idx in range(seq_len):\n",
        "            # Ignore label IDs = -100\n",
        "            if label_ids[batch_idx, seq_idx] != -100:\n",
        "                example_labels.append(label_names[label_ids[batch_idx][seq_idx]])\n",
        "                example_preds.append(label_names[preds[batch_idx][seq_idx]])\n",
        "\n",
        "        labels_list.append(example_labels)\n",
        "        preds_list.append(example_preds)\n",
        "\n",
        "    return preds_list, labels_list"
      ]
    },
    {
      "cell_type": "code",
      "execution_count": 19,
      "id": "2cc99c6b-f518-42d9-b7d4-1b9a4807afa2",
      "metadata": {
        "id": "2cc99c6b-f518-42d9-b7d4-1b9a4807afa2"
      },
      "outputs": [],
      "source": [
        "from seqeval.metrics import f1_score\n",
        "\n",
        "def compute_metrics(eval_pred):\n",
        "    y_pred, y_true = align_predictions(eval_pred.predictions, \n",
        "                                       eval_pred.label_ids)\n",
        "    return {\"f1\": f1_score(y_true, y_pred)}"
      ]
    },
    {
      "cell_type": "markdown",
      "id": "f25c8dc6-4ad4-4d38-9ef3-01c4394f83b3",
      "metadata": {
        "id": "f25c8dc6-4ad4-4d38-9ef3-01c4394f83b3"
      },
      "source": [
        "### 定义训练参数"
      ]
    },
    {
      "cell_type": "code",
      "execution_count": 23,
      "id": "6622c501-633b-4984-b4cf-b04080c64f66",
      "metadata": {
        "id": "6622c501-633b-4984-b4cf-b04080c64f66"
      },
      "outputs": [],
      "source": [
        "from transformers import TrainingArguments\n",
        "\n",
        "num_epochs = 2\n",
        "batch_size = 4\n",
        "logging_steps = len(atis_dataset_encoded[\"train\"]) // batch_size\n",
        "model_name = f\"{model_name}-finetuned-atis-slot\"\n",
        "training_args = TrainingArguments(\n",
        "    output_dir=model_name, log_level=\"error\", num_train_epochs=num_epochs, \n",
        "    per_device_train_batch_size=batch_size, \n",
        "    per_device_eval_batch_size=batch_size, evaluation_strategy=\"epoch\", \n",
        "    save_steps=1e6, weight_decay=0.01, disable_tqdm=False, \n",
        "    logging_steps=logging_steps, push_to_hub=False)"
      ]
    },
    {
      "cell_type": "code",
      "execution_count": 24,
      "id": "1bc4274f-bc2d-4676-b2e7-e1233edd521e",
      "metadata": {
        "id": "1bc4274f-bc2d-4676-b2e7-e1233edd521e"
      },
      "outputs": [],
      "source": [
        "from transformers import DataCollatorForTokenClassification\n",
        "\n",
        "data_collator = DataCollatorForTokenClassification(tokenizer)"
      ]
    },
    {
      "cell_type": "code",
      "execution_count": 23,
      "id": "a01655a1-0eb8-4255-8823-778ca91b8b5a",
      "metadata": {
        "id": "a01655a1-0eb8-4255-8823-778ca91b8b5a",
        "outputId": "6e767b20-d5a0-4620-9e49-6a1c69ef896f",
        "colab": {
          "base_uri": "https://localhost:8080/"
        }
      },
      "outputs": [
        {
          "output_type": "execute_result",
          "data": {
            "text/plain": [
              "DataCollatorForTokenClassification(tokenizer=PreTrainedTokenizerFast(name_or_path='xlm-roberta-base', vocab_size=250002, model_max_len=512, is_fast=True, padding_side='right', truncation_side='right', special_tokens={'bos_token': '<s>', 'eos_token': '</s>', 'unk_token': '<unk>', 'sep_token': '</s>', 'pad_token': '<pad>', 'cls_token': '<s>', 'mask_token': AddedToken(\"<mask>\", rstrip=False, lstrip=True, single_word=False, normalized=False)}), padding=True, max_length=None, pad_to_multiple_of=None, label_pad_token_id=-100, return_tensors='pt')"
            ]
          },
          "metadata": {},
          "execution_count": 23
        }
      ],
      "source": [
        "data_collator"
      ]
    },
    {
      "cell_type": "markdown",
      "id": "8d070322-40df-40af-a775-5d78acfcba40",
      "metadata": {
        "id": "8d070322-40df-40af-a775-5d78acfcba40"
      },
      "source": [
        "### 训练模型"
      ]
    },
    {
      "cell_type": "code",
      "execution_count": 25,
      "id": "c3de1a02-7cad-4fe8-8934-20355cf77b66",
      "metadata": {
        "id": "c3de1a02-7cad-4fe8-8934-20355cf77b66",
        "outputId": "4a7aee51-7184-49f4-b2a9-2bb4a9130583",
        "colab": {
          "base_uri": "https://localhost:8080/",
          "height": 173
        }
      },
      "outputs": [
        {
          "output_type": "display_data",
          "data": {
            "text/plain": [
              "<IPython.core.display.HTML object>"
            ],
            "text/html": [
              "\n",
              "    <div>\n",
              "      \n",
              "      <progress value='2490' max='2490' style='width:300px; height:20px; vertical-align: middle;'></progress>\n",
              "      [2490/2490 06:39, Epoch 2/2]\n",
              "    </div>\n",
              "    <table border=\"1\" class=\"dataframe\">\n",
              "  <thead>\n",
              " <tr style=\"text-align: left;\">\n",
              "      <th>Epoch</th>\n",
              "      <th>Training Loss</th>\n",
              "      <th>Validation Loss</th>\n",
              "      <th>F1</th>\n",
              "    </tr>\n",
              "  </thead>\n",
              "  <tbody>\n",
              "    <tr>\n",
              "      <td>1</td>\n",
              "      <td>0.044300</td>\n",
              "      <td>0.179624</td>\n",
              "      <td>0.947812</td>\n",
              "    </tr>\n",
              "    <tr>\n",
              "      <td>2</td>\n",
              "      <td>0.017900</td>\n",
              "      <td>0.160524</td>\n",
              "      <td>0.948349</td>\n",
              "    </tr>\n",
              "  </tbody>\n",
              "</table><p>"
            ]
          },
          "metadata": {}
        },
        {
          "output_type": "execute_result",
          "data": {
            "text/plain": [
              "TrainOutput(global_step=2490, training_loss=0.031075788683531034, metrics={'train_runtime': 399.2382, 'train_samples_per_second': 24.937, 'train_steps_per_second': 6.237, 'total_flos': 124849916388036.0, 'train_loss': 0.031075788683531034, 'epoch': 2.0})"
            ]
          },
          "metadata": {},
          "execution_count": 25
        }
      ],
      "source": [
        "from transformers import Trainer\n",
        "\n",
        "trainer = Trainer(model=model, args=training_args, \n",
        "                  data_collator=data_collator, compute_metrics=compute_metrics,\n",
        "                  train_dataset=atis_dataset_encoded[\"train\"],\n",
        "                  eval_dataset=atis_dataset_encoded[\"validate\"],\n",
        "                  tokenizer=tokenizer)\n",
        "trainer.train()"
      ]
    },
    {
      "cell_type": "markdown",
      "source": [
        "## 模型推理"
      ],
      "metadata": {
        "id": "C0yGnq8blO5a"
      },
      "id": "C0yGnq8blO5a"
    },
    {
      "cell_type": "code",
      "source": [
        "custom_text = \"I want to go to Beijing from Shanghai\""
      ],
      "metadata": {
        "id": "wg9jT_0SlTIz"
      },
      "id": "wg9jT_0SlTIz",
      "execution_count": 26,
      "outputs": []
    },
    {
      "cell_type": "code",
      "source": [
        "custom_test_encoded = tokenizer(custom_text, return_tensors=\"pt\")"
      ],
      "metadata": {
        "id": "ktB5ERPRltdC"
      },
      "id": "ktB5ERPRltdC",
      "execution_count": 28,
      "outputs": []
    },
    {
      "cell_type": "code",
      "source": [
        "custom_test_encoded"
      ],
      "metadata": {
        "id": "XqVkj2Htl-ng",
        "outputId": "df984eb6-910c-46f6-eecf-7a37ac51901c",
        "colab": {
          "base_uri": "https://localhost:8080/"
        }
      },
      "id": "XqVkj2Htl-ng",
      "execution_count": 29,
      "outputs": [
        {
          "output_type": "execute_result",
          "data": {
            "text/plain": [
              "{'input_ids': tensor([[     0,     87,   3444,     47,    738,     47, 134288,   1295, 128291,\n",
              "              2]]), 'attention_mask': tensor([[1, 1, 1, 1, 1, 1, 1, 1, 1, 1]])}"
            ]
          },
          "metadata": {},
          "execution_count": 29
        }
      ]
    },
    {
      "cell_type": "code",
      "source": [
        "custom_test_encoded_input = {k: v.to(device) for k, v in custom_test_encoded.items()}"
      ],
      "metadata": {
        "id": "NYAhqyEOmKsB"
      },
      "id": "NYAhqyEOmKsB",
      "execution_count": 30,
      "outputs": []
    },
    {
      "cell_type": "code",
      "source": [
        "custom_test_encoded_input"
      ],
      "metadata": {
        "id": "Z7MK2Z62mb3I",
        "outputId": "b6574236-d003-458a-af5f-8d00967ce999",
        "colab": {
          "base_uri": "https://localhost:8080/"
        }
      },
      "id": "Z7MK2Z62mb3I",
      "execution_count": 31,
      "outputs": [
        {
          "output_type": "execute_result",
          "data": {
            "text/plain": [
              "{'input_ids': tensor([[     0,     87,   3444,     47,    738,     47, 134288,   1295, 128291,\n",
              "               2]], device='cuda:0'),\n",
              " 'attention_mask': tensor([[1, 1, 1, 1, 1, 1, 1, 1, 1, 1]], device='cuda:0')}"
            ]
          },
          "metadata": {},
          "execution_count": 31
        }
      ]
    },
    {
      "cell_type": "code",
      "source": [
        "with torch.no_grad():\n",
        "  custom_test_encoded_output = model(**custom_test_encoded_input)"
      ],
      "metadata": {
        "id": "wCDAoliUmdnO"
      },
      "id": "wCDAoliUmdnO",
      "execution_count": 34,
      "outputs": []
    },
    {
      "cell_type": "code",
      "source": [
        "custom_test_encoded_output"
      ],
      "metadata": {
        "id": "i3pcGWgymk_0",
        "outputId": "8d463826-60f0-4255-875a-62bcaa9a577c",
        "colab": {
          "base_uri": "https://localhost:8080/"
        }
      },
      "id": "i3pcGWgymk_0",
      "execution_count": 35,
      "outputs": [
        {
          "output_type": "execute_result",
          "data": {
            "text/plain": [
              "TokenClassifierOutput(loss=None, logits=tensor([[[-1.2608, -0.0370,  1.2756,  ..., -2.0682, -1.2716,  5.4601],\n",
              "         [-1.1668, -0.7800, -0.3597,  ..., -2.5888, -1.6398, 14.6150],\n",
              "         [-1.1942, -0.8886, -0.3754,  ..., -2.5887, -1.5350, 14.5023],\n",
              "         ...,\n",
              "         [-1.2643, -1.0462, -0.5901,  ..., -2.6587, -1.4806, 14.6865],\n",
              "         [-1.1128, -0.8031, -0.3085,  ..., -1.6176, -0.3213,  1.2915],\n",
              "         [-1.2354, -0.0226,  1.2511,  ..., -2.0249, -1.2636,  5.3639]]],\n",
              "       device='cuda:0'), hidden_states=None, attentions=None)"
            ]
          },
          "metadata": {},
          "execution_count": 35
        }
      ]
    },
    {
      "cell_type": "code",
      "source": [
        "predictions = torch.argmax(custom_test_encoded_output.logits, dim=-1)"
      ],
      "metadata": {
        "id": "W7Dvai0bmnDB"
      },
      "id": "W7Dvai0bmnDB",
      "execution_count": 36,
      "outputs": []
    },
    {
      "cell_type": "code",
      "source": [
        "predictions"
      ],
      "metadata": {
        "id": "c4OmyO3Wm_11",
        "outputId": "7fc86d28-fdea-40de-e477-a871a3f94a0f",
        "colab": {
          "base_uri": "https://localhost:8080/"
        }
      },
      "id": "c4OmyO3Wm_11",
      "execution_count": 37,
      "outputs": [
        {
          "output_type": "execute_result",
          "data": {
            "text/plain": [
              "tensor([[126, 126, 126, 126, 126, 126,  78, 126,  48, 126]], device='cuda:0')"
            ]
          },
          "metadata": {},
          "execution_count": 37
        }
      ]
    },
    {
      "cell_type": "code",
      "source": [
        "predictions_list = predictions.cpu().detach().numpy().tolist()"
      ],
      "metadata": {
        "id": "a0MNjiDOnt4O"
      },
      "id": "a0MNjiDOnt4O",
      "execution_count": 40,
      "outputs": []
    },
    {
      "cell_type": "code",
      "source": [
        "predictions_list[0]"
      ],
      "metadata": {
        "id": "YFkoUQOgn3Th",
        "outputId": "16c38f51-195b-4b4b-fb88-ee17797083eb",
        "colab": {
          "base_uri": "https://localhost:8080/"
        }
      },
      "id": "YFkoUQOgn3Th",
      "execution_count": 42,
      "outputs": [
        {
          "output_type": "execute_result",
          "data": {
            "text/plain": [
              "[126, 126, 126, 126, 126, 126, 78, 126, 48, 126]"
            ]
          },
          "metadata": {},
          "execution_count": 42
        }
      ]
    },
    {
      "cell_type": "code",
      "source": [
        "prediction_labels = []\n",
        "for label_idx in predictions_list[0]:\n",
        "  prediction_labels.append(label_names[label_idx])"
      ],
      "metadata": {
        "id": "OVZLXWDMnBsl"
      },
      "id": "OVZLXWDMnBsl",
      "execution_count": 44,
      "outputs": []
    },
    {
      "cell_type": "code",
      "source": [
        "prediction_labels"
      ],
      "metadata": {
        "id": "rShDjdC4oDx3",
        "outputId": "e65bb7f3-580f-466c-bfb7-e5d761adbc4d",
        "colab": {
          "base_uri": "https://localhost:8080/"
        }
      },
      "id": "rShDjdC4oDx3",
      "execution_count": 45,
      "outputs": [
        {
          "output_type": "execute_result",
          "data": {
            "text/plain": [
              "['O',\n",
              " 'O',\n",
              " 'O',\n",
              " 'O',\n",
              " 'O',\n",
              " 'O',\n",
              " 'B-toloc.city_name',\n",
              " 'O',\n",
              " 'B-fromloc.city_name',\n",
              " 'O']"
            ]
          },
          "metadata": {},
          "execution_count": 45
        }
      ]
    },
    {
      "cell_type": "code",
      "source": [],
      "metadata": {
        "id": "v2eZEZYIoj3d"
      },
      "id": "v2eZEZYIoj3d",
      "execution_count": null,
      "outputs": []
    }
  ],
  "metadata": {
    "kernelspec": {
      "display_name": "Python 3 (ipykernel)",
      "language": "python",
      "name": "python3"
    },
    "language_info": {
      "codemirror_mode": {
        "name": "ipython",
        "version": 3
      },
      "file_extension": ".py",
      "mimetype": "text/x-python",
      "name": "python",
      "nbconvert_exporter": "python",
      "pygments_lexer": "ipython3",
      "version": "3.9.13"
    },
    "colab": {
      "provenance": []
    },
    "accelerator": "GPU",
    "widgets": {
      "application/vnd.jupyter.widget-state+json": {
        "398decef308b4560ab67a1a3d47aa55a": {
          "model_module": "@jupyter-widgets/controls",
          "model_name": "HBoxModel",
          "model_module_version": "1.5.0",
          "state": {
            "_dom_classes": [],
            "_model_module": "@jupyter-widgets/controls",
            "_model_module_version": "1.5.0",
            "_model_name": "HBoxModel",
            "_view_count": null,
            "_view_module": "@jupyter-widgets/controls",
            "_view_module_version": "1.5.0",
            "_view_name": "HBoxView",
            "box_style": "",
            "children": [
              "IPY_MODEL_b45d324b1cf04eccad656708b30ff0c0",
              "IPY_MODEL_1a7f8b3012f44e6aa1e2e66744be6def",
              "IPY_MODEL_59d4b062fb2b40088eb5cec86dbbf714"
            ],
            "layout": "IPY_MODEL_30e0f78a2ce847519c80c285ea0ec0f4"
          }
        },
        "b45d324b1cf04eccad656708b30ff0c0": {
          "model_module": "@jupyter-widgets/controls",
          "model_name": "HTMLModel",
          "model_module_version": "1.5.0",
          "state": {
            "_dom_classes": [],
            "_model_module": "@jupyter-widgets/controls",
            "_model_module_version": "1.5.0",
            "_model_name": "HTMLModel",
            "_view_count": null,
            "_view_module": "@jupyter-widgets/controls",
            "_view_module_version": "1.5.0",
            "_view_name": "HTMLView",
            "description": "",
            "description_tooltip": null,
            "layout": "IPY_MODEL_1ab770245a22433d9b0471aeecd390ce",
            "placeholder": "​",
            "style": "IPY_MODEL_4c3912468a754a1e91058b496fe7a664",
            "value": ""
          }
        },
        "1a7f8b3012f44e6aa1e2e66744be6def": {
          "model_module": "@jupyter-widgets/controls",
          "model_name": "FloatProgressModel",
          "model_module_version": "1.5.0",
          "state": {
            "_dom_classes": [],
            "_model_module": "@jupyter-widgets/controls",
            "_model_module_version": "1.5.0",
            "_model_name": "FloatProgressModel",
            "_view_count": null,
            "_view_module": "@jupyter-widgets/controls",
            "_view_module_version": "1.5.0",
            "_view_name": "ProgressView",
            "bar_style": "success",
            "description": "",
            "description_tooltip": null,
            "layout": "IPY_MODEL_9445ba5141cc4ea2bf9abe151dcd1e12",
            "max": 1,
            "min": 0,
            "orientation": "horizontal",
            "style": "IPY_MODEL_318a65f7bf01473c9434724eaa14cce0",
            "value": 0
          }
        },
        "59d4b062fb2b40088eb5cec86dbbf714": {
          "model_module": "@jupyter-widgets/controls",
          "model_name": "HTMLModel",
          "model_module_version": "1.5.0",
          "state": {
            "_dom_classes": [],
            "_model_module": "@jupyter-widgets/controls",
            "_model_module_version": "1.5.0",
            "_model_name": "HTMLModel",
            "_view_count": null,
            "_view_module": "@jupyter-widgets/controls",
            "_view_module_version": "1.5.0",
            "_view_name": "HTMLView",
            "description": "",
            "description_tooltip": null,
            "layout": "IPY_MODEL_b9fb8cfc0b7948a5a031e688a25dba3b",
            "placeholder": "​",
            "style": "IPY_MODEL_202d077cdb914ac5a7a0ddaf5a80e582",
            "value": " 0/0 [00:00&lt;?, ?it/s]"
          }
        },
        "30e0f78a2ce847519c80c285ea0ec0f4": {
          "model_module": "@jupyter-widgets/base",
          "model_name": "LayoutModel",
          "model_module_version": "1.2.0",
          "state": {
            "_model_module": "@jupyter-widgets/base",
            "_model_module_version": "1.2.0",
            "_model_name": "LayoutModel",
            "_view_count": null,
            "_view_module": "@jupyter-widgets/base",
            "_view_module_version": "1.2.0",
            "_view_name": "LayoutView",
            "align_content": null,
            "align_items": null,
            "align_self": null,
            "border": null,
            "bottom": null,
            "display": null,
            "flex": null,
            "flex_flow": null,
            "grid_area": null,
            "grid_auto_columns": null,
            "grid_auto_flow": null,
            "grid_auto_rows": null,
            "grid_column": null,
            "grid_gap": null,
            "grid_row": null,
            "grid_template_areas": null,
            "grid_template_columns": null,
            "grid_template_rows": null,
            "height": null,
            "justify_content": null,
            "justify_items": null,
            "left": null,
            "margin": null,
            "max_height": null,
            "max_width": null,
            "min_height": null,
            "min_width": null,
            "object_fit": null,
            "object_position": null,
            "order": null,
            "overflow": null,
            "overflow_x": null,
            "overflow_y": null,
            "padding": null,
            "right": null,
            "top": null,
            "visibility": null,
            "width": null
          }
        },
        "1ab770245a22433d9b0471aeecd390ce": {
          "model_module": "@jupyter-widgets/base",
          "model_name": "LayoutModel",
          "model_module_version": "1.2.0",
          "state": {
            "_model_module": "@jupyter-widgets/base",
            "_model_module_version": "1.2.0",
            "_model_name": "LayoutModel",
            "_view_count": null,
            "_view_module": "@jupyter-widgets/base",
            "_view_module_version": "1.2.0",
            "_view_name": "LayoutView",
            "align_content": null,
            "align_items": null,
            "align_self": null,
            "border": null,
            "bottom": null,
            "display": null,
            "flex": null,
            "flex_flow": null,
            "grid_area": null,
            "grid_auto_columns": null,
            "grid_auto_flow": null,
            "grid_auto_rows": null,
            "grid_column": null,
            "grid_gap": null,
            "grid_row": null,
            "grid_template_areas": null,
            "grid_template_columns": null,
            "grid_template_rows": null,
            "height": null,
            "justify_content": null,
            "justify_items": null,
            "left": null,
            "margin": null,
            "max_height": null,
            "max_width": null,
            "min_height": null,
            "min_width": null,
            "object_fit": null,
            "object_position": null,
            "order": null,
            "overflow": null,
            "overflow_x": null,
            "overflow_y": null,
            "padding": null,
            "right": null,
            "top": null,
            "visibility": null,
            "width": null
          }
        },
        "4c3912468a754a1e91058b496fe7a664": {
          "model_module": "@jupyter-widgets/controls",
          "model_name": "DescriptionStyleModel",
          "model_module_version": "1.5.0",
          "state": {
            "_model_module": "@jupyter-widgets/controls",
            "_model_module_version": "1.5.0",
            "_model_name": "DescriptionStyleModel",
            "_view_count": null,
            "_view_module": "@jupyter-widgets/base",
            "_view_module_version": "1.2.0",
            "_view_name": "StyleView",
            "description_width": ""
          }
        },
        "9445ba5141cc4ea2bf9abe151dcd1e12": {
          "model_module": "@jupyter-widgets/base",
          "model_name": "LayoutModel",
          "model_module_version": "1.2.0",
          "state": {
            "_model_module": "@jupyter-widgets/base",
            "_model_module_version": "1.2.0",
            "_model_name": "LayoutModel",
            "_view_count": null,
            "_view_module": "@jupyter-widgets/base",
            "_view_module_version": "1.2.0",
            "_view_name": "LayoutView",
            "align_content": null,
            "align_items": null,
            "align_self": null,
            "border": null,
            "bottom": null,
            "display": null,
            "flex": null,
            "flex_flow": null,
            "grid_area": null,
            "grid_auto_columns": null,
            "grid_auto_flow": null,
            "grid_auto_rows": null,
            "grid_column": null,
            "grid_gap": null,
            "grid_row": null,
            "grid_template_areas": null,
            "grid_template_columns": null,
            "grid_template_rows": null,
            "height": null,
            "justify_content": null,
            "justify_items": null,
            "left": null,
            "margin": null,
            "max_height": null,
            "max_width": null,
            "min_height": null,
            "min_width": null,
            "object_fit": null,
            "object_position": null,
            "order": null,
            "overflow": null,
            "overflow_x": null,
            "overflow_y": null,
            "padding": null,
            "right": null,
            "top": null,
            "visibility": null,
            "width": "20px"
          }
        },
        "318a65f7bf01473c9434724eaa14cce0": {
          "model_module": "@jupyter-widgets/controls",
          "model_name": "ProgressStyleModel",
          "model_module_version": "1.5.0",
          "state": {
            "_model_module": "@jupyter-widgets/controls",
            "_model_module_version": "1.5.0",
            "_model_name": "ProgressStyleModel",
            "_view_count": null,
            "_view_module": "@jupyter-widgets/base",
            "_view_module_version": "1.2.0",
            "_view_name": "StyleView",
            "bar_color": null,
            "description_width": ""
          }
        },
        "b9fb8cfc0b7948a5a031e688a25dba3b": {
          "model_module": "@jupyter-widgets/base",
          "model_name": "LayoutModel",
          "model_module_version": "1.2.0",
          "state": {
            "_model_module": "@jupyter-widgets/base",
            "_model_module_version": "1.2.0",
            "_model_name": "LayoutModel",
            "_view_count": null,
            "_view_module": "@jupyter-widgets/base",
            "_view_module_version": "1.2.0",
            "_view_name": "LayoutView",
            "align_content": null,
            "align_items": null,
            "align_self": null,
            "border": null,
            "bottom": null,
            "display": null,
            "flex": null,
            "flex_flow": null,
            "grid_area": null,
            "grid_auto_columns": null,
            "grid_auto_flow": null,
            "grid_auto_rows": null,
            "grid_column": null,
            "grid_gap": null,
            "grid_row": null,
            "grid_template_areas": null,
            "grid_template_columns": null,
            "grid_template_rows": null,
            "height": null,
            "justify_content": null,
            "justify_items": null,
            "left": null,
            "margin": null,
            "max_height": null,
            "max_width": null,
            "min_height": null,
            "min_width": null,
            "object_fit": null,
            "object_position": null,
            "order": null,
            "overflow": null,
            "overflow_x": null,
            "overflow_y": null,
            "padding": null,
            "right": null,
            "top": null,
            "visibility": null,
            "width": null
          }
        },
        "202d077cdb914ac5a7a0ddaf5a80e582": {
          "model_module": "@jupyter-widgets/controls",
          "model_name": "DescriptionStyleModel",
          "model_module_version": "1.5.0",
          "state": {
            "_model_module": "@jupyter-widgets/controls",
            "_model_module_version": "1.5.0",
            "_model_name": "DescriptionStyleModel",
            "_view_count": null,
            "_view_module": "@jupyter-widgets/base",
            "_view_module_version": "1.2.0",
            "_view_name": "StyleView",
            "description_width": ""
          }
        },
        "5631e99f27724a3f831ecedf1caf0ffe": {
          "model_module": "@jupyter-widgets/controls",
          "model_name": "HBoxModel",
          "model_module_version": "1.5.0",
          "state": {
            "_dom_classes": [],
            "_model_module": "@jupyter-widgets/controls",
            "_model_module_version": "1.5.0",
            "_model_name": "HBoxModel",
            "_view_count": null,
            "_view_module": "@jupyter-widgets/controls",
            "_view_module_version": "1.5.0",
            "_view_name": "HBoxView",
            "box_style": "",
            "children": [
              "IPY_MODEL_2eb3bca7437e4b7c85815b6e7a564918",
              "IPY_MODEL_8e81bb70d7a4435c8decd324e771a09c",
              "IPY_MODEL_4131e5f1f680408898993d52ff50872a"
            ],
            "layout": "IPY_MODEL_ae65825f013c44ad83d66d25fab59cbf"
          }
        },
        "2eb3bca7437e4b7c85815b6e7a564918": {
          "model_module": "@jupyter-widgets/controls",
          "model_name": "HTMLModel",
          "model_module_version": "1.5.0",
          "state": {
            "_dom_classes": [],
            "_model_module": "@jupyter-widgets/controls",
            "_model_module_version": "1.5.0",
            "_model_name": "HTMLModel",
            "_view_count": null,
            "_view_module": "@jupyter-widgets/controls",
            "_view_module_version": "1.5.0",
            "_view_name": "HTMLView",
            "description": "",
            "description_tooltip": null,
            "layout": "IPY_MODEL_9729369e0bed4a3a98690e942c42caa8",
            "placeholder": "​",
            "style": "IPY_MODEL_2b0d607bec8842cfb7bcb48d5fbb9120",
            "value": "Downloading: 100%"
          }
        },
        "8e81bb70d7a4435c8decd324e771a09c": {
          "model_module": "@jupyter-widgets/controls",
          "model_name": "FloatProgressModel",
          "model_module_version": "1.5.0",
          "state": {
            "_dom_classes": [],
            "_model_module": "@jupyter-widgets/controls",
            "_model_module_version": "1.5.0",
            "_model_name": "FloatProgressModel",
            "_view_count": null,
            "_view_module": "@jupyter-widgets/controls",
            "_view_module_version": "1.5.0",
            "_view_name": "ProgressView",
            "bar_style": "success",
            "description": "",
            "description_tooltip": null,
            "layout": "IPY_MODEL_f7c9508bcfba4f47aa6a8a12234fb244",
            "max": 615,
            "min": 0,
            "orientation": "horizontal",
            "style": "IPY_MODEL_3057807a4d71410fbd91094197c48381",
            "value": 615
          }
        },
        "4131e5f1f680408898993d52ff50872a": {
          "model_module": "@jupyter-widgets/controls",
          "model_name": "HTMLModel",
          "model_module_version": "1.5.0",
          "state": {
            "_dom_classes": [],
            "_model_module": "@jupyter-widgets/controls",
            "_model_module_version": "1.5.0",
            "_model_name": "HTMLModel",
            "_view_count": null,
            "_view_module": "@jupyter-widgets/controls",
            "_view_module_version": "1.5.0",
            "_view_name": "HTMLView",
            "description": "",
            "description_tooltip": null,
            "layout": "IPY_MODEL_6e0c58fffb2b4979879cbf162c91ece5",
            "placeholder": "​",
            "style": "IPY_MODEL_d84dec2764e74f3581804b0e9e537a11",
            "value": " 615/615 [00:00&lt;00:00, 17.8kB/s]"
          }
        },
        "ae65825f013c44ad83d66d25fab59cbf": {
          "model_module": "@jupyter-widgets/base",
          "model_name": "LayoutModel",
          "model_module_version": "1.2.0",
          "state": {
            "_model_module": "@jupyter-widgets/base",
            "_model_module_version": "1.2.0",
            "_model_name": "LayoutModel",
            "_view_count": null,
            "_view_module": "@jupyter-widgets/base",
            "_view_module_version": "1.2.0",
            "_view_name": "LayoutView",
            "align_content": null,
            "align_items": null,
            "align_self": null,
            "border": null,
            "bottom": null,
            "display": null,
            "flex": null,
            "flex_flow": null,
            "grid_area": null,
            "grid_auto_columns": null,
            "grid_auto_flow": null,
            "grid_auto_rows": null,
            "grid_column": null,
            "grid_gap": null,
            "grid_row": null,
            "grid_template_areas": null,
            "grid_template_columns": null,
            "grid_template_rows": null,
            "height": null,
            "justify_content": null,
            "justify_items": null,
            "left": null,
            "margin": null,
            "max_height": null,
            "max_width": null,
            "min_height": null,
            "min_width": null,
            "object_fit": null,
            "object_position": null,
            "order": null,
            "overflow": null,
            "overflow_x": null,
            "overflow_y": null,
            "padding": null,
            "right": null,
            "top": null,
            "visibility": null,
            "width": null
          }
        },
        "9729369e0bed4a3a98690e942c42caa8": {
          "model_module": "@jupyter-widgets/base",
          "model_name": "LayoutModel",
          "model_module_version": "1.2.0",
          "state": {
            "_model_module": "@jupyter-widgets/base",
            "_model_module_version": "1.2.0",
            "_model_name": "LayoutModel",
            "_view_count": null,
            "_view_module": "@jupyter-widgets/base",
            "_view_module_version": "1.2.0",
            "_view_name": "LayoutView",
            "align_content": null,
            "align_items": null,
            "align_self": null,
            "border": null,
            "bottom": null,
            "display": null,
            "flex": null,
            "flex_flow": null,
            "grid_area": null,
            "grid_auto_columns": null,
            "grid_auto_flow": null,
            "grid_auto_rows": null,
            "grid_column": null,
            "grid_gap": null,
            "grid_row": null,
            "grid_template_areas": null,
            "grid_template_columns": null,
            "grid_template_rows": null,
            "height": null,
            "justify_content": null,
            "justify_items": null,
            "left": null,
            "margin": null,
            "max_height": null,
            "max_width": null,
            "min_height": null,
            "min_width": null,
            "object_fit": null,
            "object_position": null,
            "order": null,
            "overflow": null,
            "overflow_x": null,
            "overflow_y": null,
            "padding": null,
            "right": null,
            "top": null,
            "visibility": null,
            "width": null
          }
        },
        "2b0d607bec8842cfb7bcb48d5fbb9120": {
          "model_module": "@jupyter-widgets/controls",
          "model_name": "DescriptionStyleModel",
          "model_module_version": "1.5.0",
          "state": {
            "_model_module": "@jupyter-widgets/controls",
            "_model_module_version": "1.5.0",
            "_model_name": "DescriptionStyleModel",
            "_view_count": null,
            "_view_module": "@jupyter-widgets/base",
            "_view_module_version": "1.2.0",
            "_view_name": "StyleView",
            "description_width": ""
          }
        },
        "f7c9508bcfba4f47aa6a8a12234fb244": {
          "model_module": "@jupyter-widgets/base",
          "model_name": "LayoutModel",
          "model_module_version": "1.2.0",
          "state": {
            "_model_module": "@jupyter-widgets/base",
            "_model_module_version": "1.2.0",
            "_model_name": "LayoutModel",
            "_view_count": null,
            "_view_module": "@jupyter-widgets/base",
            "_view_module_version": "1.2.0",
            "_view_name": "LayoutView",
            "align_content": null,
            "align_items": null,
            "align_self": null,
            "border": null,
            "bottom": null,
            "display": null,
            "flex": null,
            "flex_flow": null,
            "grid_area": null,
            "grid_auto_columns": null,
            "grid_auto_flow": null,
            "grid_auto_rows": null,
            "grid_column": null,
            "grid_gap": null,
            "grid_row": null,
            "grid_template_areas": null,
            "grid_template_columns": null,
            "grid_template_rows": null,
            "height": null,
            "justify_content": null,
            "justify_items": null,
            "left": null,
            "margin": null,
            "max_height": null,
            "max_width": null,
            "min_height": null,
            "min_width": null,
            "object_fit": null,
            "object_position": null,
            "order": null,
            "overflow": null,
            "overflow_x": null,
            "overflow_y": null,
            "padding": null,
            "right": null,
            "top": null,
            "visibility": null,
            "width": null
          }
        },
        "3057807a4d71410fbd91094197c48381": {
          "model_module": "@jupyter-widgets/controls",
          "model_name": "ProgressStyleModel",
          "model_module_version": "1.5.0",
          "state": {
            "_model_module": "@jupyter-widgets/controls",
            "_model_module_version": "1.5.0",
            "_model_name": "ProgressStyleModel",
            "_view_count": null,
            "_view_module": "@jupyter-widgets/base",
            "_view_module_version": "1.2.0",
            "_view_name": "StyleView",
            "bar_color": null,
            "description_width": ""
          }
        },
        "6e0c58fffb2b4979879cbf162c91ece5": {
          "model_module": "@jupyter-widgets/base",
          "model_name": "LayoutModel",
          "model_module_version": "1.2.0",
          "state": {
            "_model_module": "@jupyter-widgets/base",
            "_model_module_version": "1.2.0",
            "_model_name": "LayoutModel",
            "_view_count": null,
            "_view_module": "@jupyter-widgets/base",
            "_view_module_version": "1.2.0",
            "_view_name": "LayoutView",
            "align_content": null,
            "align_items": null,
            "align_self": null,
            "border": null,
            "bottom": null,
            "display": null,
            "flex": null,
            "flex_flow": null,
            "grid_area": null,
            "grid_auto_columns": null,
            "grid_auto_flow": null,
            "grid_auto_rows": null,
            "grid_column": null,
            "grid_gap": null,
            "grid_row": null,
            "grid_template_areas": null,
            "grid_template_columns": null,
            "grid_template_rows": null,
            "height": null,
            "justify_content": null,
            "justify_items": null,
            "left": null,
            "margin": null,
            "max_height": null,
            "max_width": null,
            "min_height": null,
            "min_width": null,
            "object_fit": null,
            "object_position": null,
            "order": null,
            "overflow": null,
            "overflow_x": null,
            "overflow_y": null,
            "padding": null,
            "right": null,
            "top": null,
            "visibility": null,
            "width": null
          }
        },
        "d84dec2764e74f3581804b0e9e537a11": {
          "model_module": "@jupyter-widgets/controls",
          "model_name": "DescriptionStyleModel",
          "model_module_version": "1.5.0",
          "state": {
            "_model_module": "@jupyter-widgets/controls",
            "_model_module_version": "1.5.0",
            "_model_name": "DescriptionStyleModel",
            "_view_count": null,
            "_view_module": "@jupyter-widgets/base",
            "_view_module_version": "1.2.0",
            "_view_name": "StyleView",
            "description_width": ""
          }
        },
        "c44d42ae842d48dfa1a803ce4581f0c7": {
          "model_module": "@jupyter-widgets/controls",
          "model_name": "HBoxModel",
          "model_module_version": "1.5.0",
          "state": {
            "_dom_classes": [],
            "_model_module": "@jupyter-widgets/controls",
            "_model_module_version": "1.5.0",
            "_model_name": "HBoxModel",
            "_view_count": null,
            "_view_module": "@jupyter-widgets/controls",
            "_view_module_version": "1.5.0",
            "_view_name": "HBoxView",
            "box_style": "",
            "children": [
              "IPY_MODEL_5f26fdd2862648e6bd4b1410eb15fbd4",
              "IPY_MODEL_2e9444d3c4404cbd9b3dbd9f99027ae1",
              "IPY_MODEL_96fd32105e834c909097c5d5c7b88271"
            ],
            "layout": "IPY_MODEL_5c36b9b6594d49d99307be54c472150a"
          }
        },
        "5f26fdd2862648e6bd4b1410eb15fbd4": {
          "model_module": "@jupyter-widgets/controls",
          "model_name": "HTMLModel",
          "model_module_version": "1.5.0",
          "state": {
            "_dom_classes": [],
            "_model_module": "@jupyter-widgets/controls",
            "_model_module_version": "1.5.0",
            "_model_name": "HTMLModel",
            "_view_count": null,
            "_view_module": "@jupyter-widgets/controls",
            "_view_module_version": "1.5.0",
            "_view_name": "HTMLView",
            "description": "",
            "description_tooltip": null,
            "layout": "IPY_MODEL_9f02596b49394e9ca091467de58a319f",
            "placeholder": "​",
            "style": "IPY_MODEL_4bb2c4a152f74d149d1b3c293e6eda95",
            "value": "Downloading: 100%"
          }
        },
        "2e9444d3c4404cbd9b3dbd9f99027ae1": {
          "model_module": "@jupyter-widgets/controls",
          "model_name": "FloatProgressModel",
          "model_module_version": "1.5.0",
          "state": {
            "_dom_classes": [],
            "_model_module": "@jupyter-widgets/controls",
            "_model_module_version": "1.5.0",
            "_model_name": "FloatProgressModel",
            "_view_count": null,
            "_view_module": "@jupyter-widgets/controls",
            "_view_module_version": "1.5.0",
            "_view_name": "ProgressView",
            "bar_style": "success",
            "description": "",
            "description_tooltip": null,
            "layout": "IPY_MODEL_bf276b7ab4fc43af908b4c0d930890d6",
            "max": 5069051,
            "min": 0,
            "orientation": "horizontal",
            "style": "IPY_MODEL_cf87b2bf17b748c6a4c18c3ec6a3ed2d",
            "value": 5069051
          }
        },
        "96fd32105e834c909097c5d5c7b88271": {
          "model_module": "@jupyter-widgets/controls",
          "model_name": "HTMLModel",
          "model_module_version": "1.5.0",
          "state": {
            "_dom_classes": [],
            "_model_module": "@jupyter-widgets/controls",
            "_model_module_version": "1.5.0",
            "_model_name": "HTMLModel",
            "_view_count": null,
            "_view_module": "@jupyter-widgets/controls",
            "_view_module_version": "1.5.0",
            "_view_name": "HTMLView",
            "description": "",
            "description_tooltip": null,
            "layout": "IPY_MODEL_a73d65fe103d433abd5ebe7e9c1891db",
            "placeholder": "​",
            "style": "IPY_MODEL_524f187747044c0bb009e0720e2f5368",
            "value": " 5.07M/5.07M [00:02&lt;00:00, 4.70MB/s]"
          }
        },
        "5c36b9b6594d49d99307be54c472150a": {
          "model_module": "@jupyter-widgets/base",
          "model_name": "LayoutModel",
          "model_module_version": "1.2.0",
          "state": {
            "_model_module": "@jupyter-widgets/base",
            "_model_module_version": "1.2.0",
            "_model_name": "LayoutModel",
            "_view_count": null,
            "_view_module": "@jupyter-widgets/base",
            "_view_module_version": "1.2.0",
            "_view_name": "LayoutView",
            "align_content": null,
            "align_items": null,
            "align_self": null,
            "border": null,
            "bottom": null,
            "display": null,
            "flex": null,
            "flex_flow": null,
            "grid_area": null,
            "grid_auto_columns": null,
            "grid_auto_flow": null,
            "grid_auto_rows": null,
            "grid_column": null,
            "grid_gap": null,
            "grid_row": null,
            "grid_template_areas": null,
            "grid_template_columns": null,
            "grid_template_rows": null,
            "height": null,
            "justify_content": null,
            "justify_items": null,
            "left": null,
            "margin": null,
            "max_height": null,
            "max_width": null,
            "min_height": null,
            "min_width": null,
            "object_fit": null,
            "object_position": null,
            "order": null,
            "overflow": null,
            "overflow_x": null,
            "overflow_y": null,
            "padding": null,
            "right": null,
            "top": null,
            "visibility": null,
            "width": null
          }
        },
        "9f02596b49394e9ca091467de58a319f": {
          "model_module": "@jupyter-widgets/base",
          "model_name": "LayoutModel",
          "model_module_version": "1.2.0",
          "state": {
            "_model_module": "@jupyter-widgets/base",
            "_model_module_version": "1.2.0",
            "_model_name": "LayoutModel",
            "_view_count": null,
            "_view_module": "@jupyter-widgets/base",
            "_view_module_version": "1.2.0",
            "_view_name": "LayoutView",
            "align_content": null,
            "align_items": null,
            "align_self": null,
            "border": null,
            "bottom": null,
            "display": null,
            "flex": null,
            "flex_flow": null,
            "grid_area": null,
            "grid_auto_columns": null,
            "grid_auto_flow": null,
            "grid_auto_rows": null,
            "grid_column": null,
            "grid_gap": null,
            "grid_row": null,
            "grid_template_areas": null,
            "grid_template_columns": null,
            "grid_template_rows": null,
            "height": null,
            "justify_content": null,
            "justify_items": null,
            "left": null,
            "margin": null,
            "max_height": null,
            "max_width": null,
            "min_height": null,
            "min_width": null,
            "object_fit": null,
            "object_position": null,
            "order": null,
            "overflow": null,
            "overflow_x": null,
            "overflow_y": null,
            "padding": null,
            "right": null,
            "top": null,
            "visibility": null,
            "width": null
          }
        },
        "4bb2c4a152f74d149d1b3c293e6eda95": {
          "model_module": "@jupyter-widgets/controls",
          "model_name": "DescriptionStyleModel",
          "model_module_version": "1.5.0",
          "state": {
            "_model_module": "@jupyter-widgets/controls",
            "_model_module_version": "1.5.0",
            "_model_name": "DescriptionStyleModel",
            "_view_count": null,
            "_view_module": "@jupyter-widgets/base",
            "_view_module_version": "1.2.0",
            "_view_name": "StyleView",
            "description_width": ""
          }
        },
        "bf276b7ab4fc43af908b4c0d930890d6": {
          "model_module": "@jupyter-widgets/base",
          "model_name": "LayoutModel",
          "model_module_version": "1.2.0",
          "state": {
            "_model_module": "@jupyter-widgets/base",
            "_model_module_version": "1.2.0",
            "_model_name": "LayoutModel",
            "_view_count": null,
            "_view_module": "@jupyter-widgets/base",
            "_view_module_version": "1.2.0",
            "_view_name": "LayoutView",
            "align_content": null,
            "align_items": null,
            "align_self": null,
            "border": null,
            "bottom": null,
            "display": null,
            "flex": null,
            "flex_flow": null,
            "grid_area": null,
            "grid_auto_columns": null,
            "grid_auto_flow": null,
            "grid_auto_rows": null,
            "grid_column": null,
            "grid_gap": null,
            "grid_row": null,
            "grid_template_areas": null,
            "grid_template_columns": null,
            "grid_template_rows": null,
            "height": null,
            "justify_content": null,
            "justify_items": null,
            "left": null,
            "margin": null,
            "max_height": null,
            "max_width": null,
            "min_height": null,
            "min_width": null,
            "object_fit": null,
            "object_position": null,
            "order": null,
            "overflow": null,
            "overflow_x": null,
            "overflow_y": null,
            "padding": null,
            "right": null,
            "top": null,
            "visibility": null,
            "width": null
          }
        },
        "cf87b2bf17b748c6a4c18c3ec6a3ed2d": {
          "model_module": "@jupyter-widgets/controls",
          "model_name": "ProgressStyleModel",
          "model_module_version": "1.5.0",
          "state": {
            "_model_module": "@jupyter-widgets/controls",
            "_model_module_version": "1.5.0",
            "_model_name": "ProgressStyleModel",
            "_view_count": null,
            "_view_module": "@jupyter-widgets/base",
            "_view_module_version": "1.2.0",
            "_view_name": "StyleView",
            "bar_color": null,
            "description_width": ""
          }
        },
        "a73d65fe103d433abd5ebe7e9c1891db": {
          "model_module": "@jupyter-widgets/base",
          "model_name": "LayoutModel",
          "model_module_version": "1.2.0",
          "state": {
            "_model_module": "@jupyter-widgets/base",
            "_model_module_version": "1.2.0",
            "_model_name": "LayoutModel",
            "_view_count": null,
            "_view_module": "@jupyter-widgets/base",
            "_view_module_version": "1.2.0",
            "_view_name": "LayoutView",
            "align_content": null,
            "align_items": null,
            "align_self": null,
            "border": null,
            "bottom": null,
            "display": null,
            "flex": null,
            "flex_flow": null,
            "grid_area": null,
            "grid_auto_columns": null,
            "grid_auto_flow": null,
            "grid_auto_rows": null,
            "grid_column": null,
            "grid_gap": null,
            "grid_row": null,
            "grid_template_areas": null,
            "grid_template_columns": null,
            "grid_template_rows": null,
            "height": null,
            "justify_content": null,
            "justify_items": null,
            "left": null,
            "margin": null,
            "max_height": null,
            "max_width": null,
            "min_height": null,
            "min_width": null,
            "object_fit": null,
            "object_position": null,
            "order": null,
            "overflow": null,
            "overflow_x": null,
            "overflow_y": null,
            "padding": null,
            "right": null,
            "top": null,
            "visibility": null,
            "width": null
          }
        },
        "524f187747044c0bb009e0720e2f5368": {
          "model_module": "@jupyter-widgets/controls",
          "model_name": "DescriptionStyleModel",
          "model_module_version": "1.5.0",
          "state": {
            "_model_module": "@jupyter-widgets/controls",
            "_model_module_version": "1.5.0",
            "_model_name": "DescriptionStyleModel",
            "_view_count": null,
            "_view_module": "@jupyter-widgets/base",
            "_view_module_version": "1.2.0",
            "_view_name": "StyleView",
            "description_width": ""
          }
        },
        "881e3292e51e469594b8e60a91f82385": {
          "model_module": "@jupyter-widgets/controls",
          "model_name": "HBoxModel",
          "model_module_version": "1.5.0",
          "state": {
            "_dom_classes": [],
            "_model_module": "@jupyter-widgets/controls",
            "_model_module_version": "1.5.0",
            "_model_name": "HBoxModel",
            "_view_count": null,
            "_view_module": "@jupyter-widgets/controls",
            "_view_module_version": "1.5.0",
            "_view_name": "HBoxView",
            "box_style": "",
            "children": [
              "IPY_MODEL_7bbeef8b4acd4125a3787c6b33d10436",
              "IPY_MODEL_36a4edf63d0d4b2c9bcc274a950abec5",
              "IPY_MODEL_f04494d9f41943e3844c4bb157f6fae0"
            ],
            "layout": "IPY_MODEL_3f499336adb7498ba75b9e1db1083137"
          }
        },
        "7bbeef8b4acd4125a3787c6b33d10436": {
          "model_module": "@jupyter-widgets/controls",
          "model_name": "HTMLModel",
          "model_module_version": "1.5.0",
          "state": {
            "_dom_classes": [],
            "_model_module": "@jupyter-widgets/controls",
            "_model_module_version": "1.5.0",
            "_model_name": "HTMLModel",
            "_view_count": null,
            "_view_module": "@jupyter-widgets/controls",
            "_view_module_version": "1.5.0",
            "_view_name": "HTMLView",
            "description": "",
            "description_tooltip": null,
            "layout": "IPY_MODEL_d8666df52c53485bb30cc9442983bd8b",
            "placeholder": "​",
            "style": "IPY_MODEL_a21274370b9f4339bdf1074f899f2b91",
            "value": "Downloading: 100%"
          }
        },
        "36a4edf63d0d4b2c9bcc274a950abec5": {
          "model_module": "@jupyter-widgets/controls",
          "model_name": "FloatProgressModel",
          "model_module_version": "1.5.0",
          "state": {
            "_dom_classes": [],
            "_model_module": "@jupyter-widgets/controls",
            "_model_module_version": "1.5.0",
            "_model_name": "FloatProgressModel",
            "_view_count": null,
            "_view_module": "@jupyter-widgets/controls",
            "_view_module_version": "1.5.0",
            "_view_name": "ProgressView",
            "bar_style": "success",
            "description": "",
            "description_tooltip": null,
            "layout": "IPY_MODEL_30ee65f3c78241c49b293da19df1e8ac",
            "max": 9096718,
            "min": 0,
            "orientation": "horizontal",
            "style": "IPY_MODEL_a12b6861cf994d949fe253855942fe5c",
            "value": 9096718
          }
        },
        "f04494d9f41943e3844c4bb157f6fae0": {
          "model_module": "@jupyter-widgets/controls",
          "model_name": "HTMLModel",
          "model_module_version": "1.5.0",
          "state": {
            "_dom_classes": [],
            "_model_module": "@jupyter-widgets/controls",
            "_model_module_version": "1.5.0",
            "_model_name": "HTMLModel",
            "_view_count": null,
            "_view_module": "@jupyter-widgets/controls",
            "_view_module_version": "1.5.0",
            "_view_name": "HTMLView",
            "description": "",
            "description_tooltip": null,
            "layout": "IPY_MODEL_660038b691e74721bdba41dbef7be448",
            "placeholder": "​",
            "style": "IPY_MODEL_e1184a7fb12746c084e38cf356a251de",
            "value": " 9.10M/9.10M [00:02&lt;00:00, 6.15MB/s]"
          }
        },
        "3f499336adb7498ba75b9e1db1083137": {
          "model_module": "@jupyter-widgets/base",
          "model_name": "LayoutModel",
          "model_module_version": "1.2.0",
          "state": {
            "_model_module": "@jupyter-widgets/base",
            "_model_module_version": "1.2.0",
            "_model_name": "LayoutModel",
            "_view_count": null,
            "_view_module": "@jupyter-widgets/base",
            "_view_module_version": "1.2.0",
            "_view_name": "LayoutView",
            "align_content": null,
            "align_items": null,
            "align_self": null,
            "border": null,
            "bottom": null,
            "display": null,
            "flex": null,
            "flex_flow": null,
            "grid_area": null,
            "grid_auto_columns": null,
            "grid_auto_flow": null,
            "grid_auto_rows": null,
            "grid_column": null,
            "grid_gap": null,
            "grid_row": null,
            "grid_template_areas": null,
            "grid_template_columns": null,
            "grid_template_rows": null,
            "height": null,
            "justify_content": null,
            "justify_items": null,
            "left": null,
            "margin": null,
            "max_height": null,
            "max_width": null,
            "min_height": null,
            "min_width": null,
            "object_fit": null,
            "object_position": null,
            "order": null,
            "overflow": null,
            "overflow_x": null,
            "overflow_y": null,
            "padding": null,
            "right": null,
            "top": null,
            "visibility": null,
            "width": null
          }
        },
        "d8666df52c53485bb30cc9442983bd8b": {
          "model_module": "@jupyter-widgets/base",
          "model_name": "LayoutModel",
          "model_module_version": "1.2.0",
          "state": {
            "_model_module": "@jupyter-widgets/base",
            "_model_module_version": "1.2.0",
            "_model_name": "LayoutModel",
            "_view_count": null,
            "_view_module": "@jupyter-widgets/base",
            "_view_module_version": "1.2.0",
            "_view_name": "LayoutView",
            "align_content": null,
            "align_items": null,
            "align_self": null,
            "border": null,
            "bottom": null,
            "display": null,
            "flex": null,
            "flex_flow": null,
            "grid_area": null,
            "grid_auto_columns": null,
            "grid_auto_flow": null,
            "grid_auto_rows": null,
            "grid_column": null,
            "grid_gap": null,
            "grid_row": null,
            "grid_template_areas": null,
            "grid_template_columns": null,
            "grid_template_rows": null,
            "height": null,
            "justify_content": null,
            "justify_items": null,
            "left": null,
            "margin": null,
            "max_height": null,
            "max_width": null,
            "min_height": null,
            "min_width": null,
            "object_fit": null,
            "object_position": null,
            "order": null,
            "overflow": null,
            "overflow_x": null,
            "overflow_y": null,
            "padding": null,
            "right": null,
            "top": null,
            "visibility": null,
            "width": null
          }
        },
        "a21274370b9f4339bdf1074f899f2b91": {
          "model_module": "@jupyter-widgets/controls",
          "model_name": "DescriptionStyleModel",
          "model_module_version": "1.5.0",
          "state": {
            "_model_module": "@jupyter-widgets/controls",
            "_model_module_version": "1.5.0",
            "_model_name": "DescriptionStyleModel",
            "_view_count": null,
            "_view_module": "@jupyter-widgets/base",
            "_view_module_version": "1.2.0",
            "_view_name": "StyleView",
            "description_width": ""
          }
        },
        "30ee65f3c78241c49b293da19df1e8ac": {
          "model_module": "@jupyter-widgets/base",
          "model_name": "LayoutModel",
          "model_module_version": "1.2.0",
          "state": {
            "_model_module": "@jupyter-widgets/base",
            "_model_module_version": "1.2.0",
            "_model_name": "LayoutModel",
            "_view_count": null,
            "_view_module": "@jupyter-widgets/base",
            "_view_module_version": "1.2.0",
            "_view_name": "LayoutView",
            "align_content": null,
            "align_items": null,
            "align_self": null,
            "border": null,
            "bottom": null,
            "display": null,
            "flex": null,
            "flex_flow": null,
            "grid_area": null,
            "grid_auto_columns": null,
            "grid_auto_flow": null,
            "grid_auto_rows": null,
            "grid_column": null,
            "grid_gap": null,
            "grid_row": null,
            "grid_template_areas": null,
            "grid_template_columns": null,
            "grid_template_rows": null,
            "height": null,
            "justify_content": null,
            "justify_items": null,
            "left": null,
            "margin": null,
            "max_height": null,
            "max_width": null,
            "min_height": null,
            "min_width": null,
            "object_fit": null,
            "object_position": null,
            "order": null,
            "overflow": null,
            "overflow_x": null,
            "overflow_y": null,
            "padding": null,
            "right": null,
            "top": null,
            "visibility": null,
            "width": null
          }
        },
        "a12b6861cf994d949fe253855942fe5c": {
          "model_module": "@jupyter-widgets/controls",
          "model_name": "ProgressStyleModel",
          "model_module_version": "1.5.0",
          "state": {
            "_model_module": "@jupyter-widgets/controls",
            "_model_module_version": "1.5.0",
            "_model_name": "ProgressStyleModel",
            "_view_count": null,
            "_view_module": "@jupyter-widgets/base",
            "_view_module_version": "1.2.0",
            "_view_name": "StyleView",
            "bar_color": null,
            "description_width": ""
          }
        },
        "660038b691e74721bdba41dbef7be448": {
          "model_module": "@jupyter-widgets/base",
          "model_name": "LayoutModel",
          "model_module_version": "1.2.0",
          "state": {
            "_model_module": "@jupyter-widgets/base",
            "_model_module_version": "1.2.0",
            "_model_name": "LayoutModel",
            "_view_count": null,
            "_view_module": "@jupyter-widgets/base",
            "_view_module_version": "1.2.0",
            "_view_name": "LayoutView",
            "align_content": null,
            "align_items": null,
            "align_self": null,
            "border": null,
            "bottom": null,
            "display": null,
            "flex": null,
            "flex_flow": null,
            "grid_area": null,
            "grid_auto_columns": null,
            "grid_auto_flow": null,
            "grid_auto_rows": null,
            "grid_column": null,
            "grid_gap": null,
            "grid_row": null,
            "grid_template_areas": null,
            "grid_template_columns": null,
            "grid_template_rows": null,
            "height": null,
            "justify_content": null,
            "justify_items": null,
            "left": null,
            "margin": null,
            "max_height": null,
            "max_width": null,
            "min_height": null,
            "min_width": null,
            "object_fit": null,
            "object_position": null,
            "order": null,
            "overflow": null,
            "overflow_x": null,
            "overflow_y": null,
            "padding": null,
            "right": null,
            "top": null,
            "visibility": null,
            "width": null
          }
        },
        "e1184a7fb12746c084e38cf356a251de": {
          "model_module": "@jupyter-widgets/controls",
          "model_name": "DescriptionStyleModel",
          "model_module_version": "1.5.0",
          "state": {
            "_model_module": "@jupyter-widgets/controls",
            "_model_module_version": "1.5.0",
            "_model_name": "DescriptionStyleModel",
            "_view_count": null,
            "_view_module": "@jupyter-widgets/base",
            "_view_module_version": "1.2.0",
            "_view_name": "StyleView",
            "description_width": ""
          }
        },
        "a0077e55504f4738bbe8d41fb520fad3": {
          "model_module": "@jupyter-widgets/controls",
          "model_name": "HBoxModel",
          "model_module_version": "1.5.0",
          "state": {
            "_dom_classes": [],
            "_model_module": "@jupyter-widgets/controls",
            "_model_module_version": "1.5.0",
            "_model_name": "HBoxModel",
            "_view_count": null,
            "_view_module": "@jupyter-widgets/controls",
            "_view_module_version": "1.5.0",
            "_view_name": "HBoxView",
            "box_style": "",
            "children": [
              "IPY_MODEL_3f7516ab5fd546d99bc9715bdd3c8445",
              "IPY_MODEL_3bc512af9a54483ab3d326187064a7a4",
              "IPY_MODEL_b46a7a2c22914facaa1fe5b153d2d859"
            ],
            "layout": "IPY_MODEL_fdcf42d9cf744355af8e0258ccd4cd34"
          }
        },
        "3f7516ab5fd546d99bc9715bdd3c8445": {
          "model_module": "@jupyter-widgets/controls",
          "model_name": "HTMLModel",
          "model_module_version": "1.5.0",
          "state": {
            "_dom_classes": [],
            "_model_module": "@jupyter-widgets/controls",
            "_model_module_version": "1.5.0",
            "_model_name": "HTMLModel",
            "_view_count": null,
            "_view_module": "@jupyter-widgets/controls",
            "_view_module_version": "1.5.0",
            "_view_name": "HTMLView",
            "description": "",
            "description_tooltip": null,
            "layout": "IPY_MODEL_d4d47e2a53b043a69a9d7d4882b066e3",
            "placeholder": "​",
            "style": "IPY_MODEL_0f849c7bffcf45f48524a07321d4674e",
            "value": "100%"
          }
        },
        "3bc512af9a54483ab3d326187064a7a4": {
          "model_module": "@jupyter-widgets/controls",
          "model_name": "FloatProgressModel",
          "model_module_version": "1.5.0",
          "state": {
            "_dom_classes": [],
            "_model_module": "@jupyter-widgets/controls",
            "_model_module_version": "1.5.0",
            "_model_name": "FloatProgressModel",
            "_view_count": null,
            "_view_module": "@jupyter-widgets/controls",
            "_view_module_version": "1.5.0",
            "_view_name": "ProgressView",
            "bar_style": "success",
            "description": "",
            "description_tooltip": null,
            "layout": "IPY_MODEL_68dc9318e46e468f9a3c8cc92b89d0b0",
            "max": 4978,
            "min": 0,
            "orientation": "horizontal",
            "style": "IPY_MODEL_b3634bc6d2564c978fe2b9ee7ff4997c",
            "value": 4978
          }
        },
        "b46a7a2c22914facaa1fe5b153d2d859": {
          "model_module": "@jupyter-widgets/controls",
          "model_name": "HTMLModel",
          "model_module_version": "1.5.0",
          "state": {
            "_dom_classes": [],
            "_model_module": "@jupyter-widgets/controls",
            "_model_module_version": "1.5.0",
            "_model_name": "HTMLModel",
            "_view_count": null,
            "_view_module": "@jupyter-widgets/controls",
            "_view_module_version": "1.5.0",
            "_view_name": "HTMLView",
            "description": "",
            "description_tooltip": null,
            "layout": "IPY_MODEL_93a81759ccf344be848447dc674ad4c3",
            "placeholder": "​",
            "style": "IPY_MODEL_773d5ce5c8064b5fbd1f52022a94be0b",
            "value": " 4978/4978 [00:03&lt;00:00, 1481.45ex/s]"
          }
        },
        "fdcf42d9cf744355af8e0258ccd4cd34": {
          "model_module": "@jupyter-widgets/base",
          "model_name": "LayoutModel",
          "model_module_version": "1.2.0",
          "state": {
            "_model_module": "@jupyter-widgets/base",
            "_model_module_version": "1.2.0",
            "_model_name": "LayoutModel",
            "_view_count": null,
            "_view_module": "@jupyter-widgets/base",
            "_view_module_version": "1.2.0",
            "_view_name": "LayoutView",
            "align_content": null,
            "align_items": null,
            "align_self": null,
            "border": null,
            "bottom": null,
            "display": null,
            "flex": null,
            "flex_flow": null,
            "grid_area": null,
            "grid_auto_columns": null,
            "grid_auto_flow": null,
            "grid_auto_rows": null,
            "grid_column": null,
            "grid_gap": null,
            "grid_row": null,
            "grid_template_areas": null,
            "grid_template_columns": null,
            "grid_template_rows": null,
            "height": null,
            "justify_content": null,
            "justify_items": null,
            "left": null,
            "margin": null,
            "max_height": null,
            "max_width": null,
            "min_height": null,
            "min_width": null,
            "object_fit": null,
            "object_position": null,
            "order": null,
            "overflow": null,
            "overflow_x": null,
            "overflow_y": null,
            "padding": null,
            "right": null,
            "top": null,
            "visibility": null,
            "width": null
          }
        },
        "d4d47e2a53b043a69a9d7d4882b066e3": {
          "model_module": "@jupyter-widgets/base",
          "model_name": "LayoutModel",
          "model_module_version": "1.2.0",
          "state": {
            "_model_module": "@jupyter-widgets/base",
            "_model_module_version": "1.2.0",
            "_model_name": "LayoutModel",
            "_view_count": null,
            "_view_module": "@jupyter-widgets/base",
            "_view_module_version": "1.2.0",
            "_view_name": "LayoutView",
            "align_content": null,
            "align_items": null,
            "align_self": null,
            "border": null,
            "bottom": null,
            "display": null,
            "flex": null,
            "flex_flow": null,
            "grid_area": null,
            "grid_auto_columns": null,
            "grid_auto_flow": null,
            "grid_auto_rows": null,
            "grid_column": null,
            "grid_gap": null,
            "grid_row": null,
            "grid_template_areas": null,
            "grid_template_columns": null,
            "grid_template_rows": null,
            "height": null,
            "justify_content": null,
            "justify_items": null,
            "left": null,
            "margin": null,
            "max_height": null,
            "max_width": null,
            "min_height": null,
            "min_width": null,
            "object_fit": null,
            "object_position": null,
            "order": null,
            "overflow": null,
            "overflow_x": null,
            "overflow_y": null,
            "padding": null,
            "right": null,
            "top": null,
            "visibility": null,
            "width": null
          }
        },
        "0f849c7bffcf45f48524a07321d4674e": {
          "model_module": "@jupyter-widgets/controls",
          "model_name": "DescriptionStyleModel",
          "model_module_version": "1.5.0",
          "state": {
            "_model_module": "@jupyter-widgets/controls",
            "_model_module_version": "1.5.0",
            "_model_name": "DescriptionStyleModel",
            "_view_count": null,
            "_view_module": "@jupyter-widgets/base",
            "_view_module_version": "1.2.0",
            "_view_name": "StyleView",
            "description_width": ""
          }
        },
        "68dc9318e46e468f9a3c8cc92b89d0b0": {
          "model_module": "@jupyter-widgets/base",
          "model_name": "LayoutModel",
          "model_module_version": "1.2.0",
          "state": {
            "_model_module": "@jupyter-widgets/base",
            "_model_module_version": "1.2.0",
            "_model_name": "LayoutModel",
            "_view_count": null,
            "_view_module": "@jupyter-widgets/base",
            "_view_module_version": "1.2.0",
            "_view_name": "LayoutView",
            "align_content": null,
            "align_items": null,
            "align_self": null,
            "border": null,
            "bottom": null,
            "display": null,
            "flex": null,
            "flex_flow": null,
            "grid_area": null,
            "grid_auto_columns": null,
            "grid_auto_flow": null,
            "grid_auto_rows": null,
            "grid_column": null,
            "grid_gap": null,
            "grid_row": null,
            "grid_template_areas": null,
            "grid_template_columns": null,
            "grid_template_rows": null,
            "height": null,
            "justify_content": null,
            "justify_items": null,
            "left": null,
            "margin": null,
            "max_height": null,
            "max_width": null,
            "min_height": null,
            "min_width": null,
            "object_fit": null,
            "object_position": null,
            "order": null,
            "overflow": null,
            "overflow_x": null,
            "overflow_y": null,
            "padding": null,
            "right": null,
            "top": null,
            "visibility": null,
            "width": null
          }
        },
        "b3634bc6d2564c978fe2b9ee7ff4997c": {
          "model_module": "@jupyter-widgets/controls",
          "model_name": "ProgressStyleModel",
          "model_module_version": "1.5.0",
          "state": {
            "_model_module": "@jupyter-widgets/controls",
            "_model_module_version": "1.5.0",
            "_model_name": "ProgressStyleModel",
            "_view_count": null,
            "_view_module": "@jupyter-widgets/base",
            "_view_module_version": "1.2.0",
            "_view_name": "StyleView",
            "bar_color": null,
            "description_width": ""
          }
        },
        "93a81759ccf344be848447dc674ad4c3": {
          "model_module": "@jupyter-widgets/base",
          "model_name": "LayoutModel",
          "model_module_version": "1.2.0",
          "state": {
            "_model_module": "@jupyter-widgets/base",
            "_model_module_version": "1.2.0",
            "_model_name": "LayoutModel",
            "_view_count": null,
            "_view_module": "@jupyter-widgets/base",
            "_view_module_version": "1.2.0",
            "_view_name": "LayoutView",
            "align_content": null,
            "align_items": null,
            "align_self": null,
            "border": null,
            "bottom": null,
            "display": null,
            "flex": null,
            "flex_flow": null,
            "grid_area": null,
            "grid_auto_columns": null,
            "grid_auto_flow": null,
            "grid_auto_rows": null,
            "grid_column": null,
            "grid_gap": null,
            "grid_row": null,
            "grid_template_areas": null,
            "grid_template_columns": null,
            "grid_template_rows": null,
            "height": null,
            "justify_content": null,
            "justify_items": null,
            "left": null,
            "margin": null,
            "max_height": null,
            "max_width": null,
            "min_height": null,
            "min_width": null,
            "object_fit": null,
            "object_position": null,
            "order": null,
            "overflow": null,
            "overflow_x": null,
            "overflow_y": null,
            "padding": null,
            "right": null,
            "top": null,
            "visibility": null,
            "width": null
          }
        },
        "773d5ce5c8064b5fbd1f52022a94be0b": {
          "model_module": "@jupyter-widgets/controls",
          "model_name": "DescriptionStyleModel",
          "model_module_version": "1.5.0",
          "state": {
            "_model_module": "@jupyter-widgets/controls",
            "_model_module_version": "1.5.0",
            "_model_name": "DescriptionStyleModel",
            "_view_count": null,
            "_view_module": "@jupyter-widgets/base",
            "_view_module_version": "1.2.0",
            "_view_name": "StyleView",
            "description_width": ""
          }
        },
        "e951de79e57d449880a475f8eb78f26c": {
          "model_module": "@jupyter-widgets/controls",
          "model_name": "HBoxModel",
          "model_module_version": "1.5.0",
          "state": {
            "_dom_classes": [],
            "_model_module": "@jupyter-widgets/controls",
            "_model_module_version": "1.5.0",
            "_model_name": "HBoxModel",
            "_view_count": null,
            "_view_module": "@jupyter-widgets/controls",
            "_view_module_version": "1.5.0",
            "_view_name": "HBoxView",
            "box_style": "",
            "children": [
              "IPY_MODEL_807b1738bd72448a91083e3fc43c2be2",
              "IPY_MODEL_25a76a2450c145a8844a597aec107b0b",
              "IPY_MODEL_3626139a1b354481b97d530e32db0181"
            ],
            "layout": "IPY_MODEL_f494d3cd783e419cbc972bf76c93d433"
          }
        },
        "807b1738bd72448a91083e3fc43c2be2": {
          "model_module": "@jupyter-widgets/controls",
          "model_name": "HTMLModel",
          "model_module_version": "1.5.0",
          "state": {
            "_dom_classes": [],
            "_model_module": "@jupyter-widgets/controls",
            "_model_module_version": "1.5.0",
            "_model_name": "HTMLModel",
            "_view_count": null,
            "_view_module": "@jupyter-widgets/controls",
            "_view_module_version": "1.5.0",
            "_view_name": "HTMLView",
            "description": "",
            "description_tooltip": null,
            "layout": "IPY_MODEL_8691effad6db43999b646f3fe1da5ea9",
            "placeholder": "​",
            "style": "IPY_MODEL_84ef6a701f1b4ffc8d034f55c17777e3",
            "value": "100%"
          }
        },
        "25a76a2450c145a8844a597aec107b0b": {
          "model_module": "@jupyter-widgets/controls",
          "model_name": "FloatProgressModel",
          "model_module_version": "1.5.0",
          "state": {
            "_dom_classes": [],
            "_model_module": "@jupyter-widgets/controls",
            "_model_module_version": "1.5.0",
            "_model_name": "FloatProgressModel",
            "_view_count": null,
            "_view_module": "@jupyter-widgets/controls",
            "_view_module_version": "1.5.0",
            "_view_name": "ProgressView",
            "bar_style": "success",
            "description": "",
            "description_tooltip": null,
            "layout": "IPY_MODEL_0183b5eff33d43ec9932244e470fee39",
            "max": 893,
            "min": 0,
            "orientation": "horizontal",
            "style": "IPY_MODEL_cca8a9bcec6048ea896143cc37b5fcf8",
            "value": 893
          }
        },
        "3626139a1b354481b97d530e32db0181": {
          "model_module": "@jupyter-widgets/controls",
          "model_name": "HTMLModel",
          "model_module_version": "1.5.0",
          "state": {
            "_dom_classes": [],
            "_model_module": "@jupyter-widgets/controls",
            "_model_module_version": "1.5.0",
            "_model_name": "HTMLModel",
            "_view_count": null,
            "_view_module": "@jupyter-widgets/controls",
            "_view_module_version": "1.5.0",
            "_view_name": "HTMLView",
            "description": "",
            "description_tooltip": null,
            "layout": "IPY_MODEL_35a421a504394d94a90630b01f7a5f4f",
            "placeholder": "​",
            "style": "IPY_MODEL_b61f76a39b364b0c9e63f8e77ef526a9",
            "value": " 893/893 [00:00&lt;00:00, 1059.98ex/s]"
          }
        },
        "f494d3cd783e419cbc972bf76c93d433": {
          "model_module": "@jupyter-widgets/base",
          "model_name": "LayoutModel",
          "model_module_version": "1.2.0",
          "state": {
            "_model_module": "@jupyter-widgets/base",
            "_model_module_version": "1.2.0",
            "_model_name": "LayoutModel",
            "_view_count": null,
            "_view_module": "@jupyter-widgets/base",
            "_view_module_version": "1.2.0",
            "_view_name": "LayoutView",
            "align_content": null,
            "align_items": null,
            "align_self": null,
            "border": null,
            "bottom": null,
            "display": null,
            "flex": null,
            "flex_flow": null,
            "grid_area": null,
            "grid_auto_columns": null,
            "grid_auto_flow": null,
            "grid_auto_rows": null,
            "grid_column": null,
            "grid_gap": null,
            "grid_row": null,
            "grid_template_areas": null,
            "grid_template_columns": null,
            "grid_template_rows": null,
            "height": null,
            "justify_content": null,
            "justify_items": null,
            "left": null,
            "margin": null,
            "max_height": null,
            "max_width": null,
            "min_height": null,
            "min_width": null,
            "object_fit": null,
            "object_position": null,
            "order": null,
            "overflow": null,
            "overflow_x": null,
            "overflow_y": null,
            "padding": null,
            "right": null,
            "top": null,
            "visibility": null,
            "width": null
          }
        },
        "8691effad6db43999b646f3fe1da5ea9": {
          "model_module": "@jupyter-widgets/base",
          "model_name": "LayoutModel",
          "model_module_version": "1.2.0",
          "state": {
            "_model_module": "@jupyter-widgets/base",
            "_model_module_version": "1.2.0",
            "_model_name": "LayoutModel",
            "_view_count": null,
            "_view_module": "@jupyter-widgets/base",
            "_view_module_version": "1.2.0",
            "_view_name": "LayoutView",
            "align_content": null,
            "align_items": null,
            "align_self": null,
            "border": null,
            "bottom": null,
            "display": null,
            "flex": null,
            "flex_flow": null,
            "grid_area": null,
            "grid_auto_columns": null,
            "grid_auto_flow": null,
            "grid_auto_rows": null,
            "grid_column": null,
            "grid_gap": null,
            "grid_row": null,
            "grid_template_areas": null,
            "grid_template_columns": null,
            "grid_template_rows": null,
            "height": null,
            "justify_content": null,
            "justify_items": null,
            "left": null,
            "margin": null,
            "max_height": null,
            "max_width": null,
            "min_height": null,
            "min_width": null,
            "object_fit": null,
            "object_position": null,
            "order": null,
            "overflow": null,
            "overflow_x": null,
            "overflow_y": null,
            "padding": null,
            "right": null,
            "top": null,
            "visibility": null,
            "width": null
          }
        },
        "84ef6a701f1b4ffc8d034f55c17777e3": {
          "model_module": "@jupyter-widgets/controls",
          "model_name": "DescriptionStyleModel",
          "model_module_version": "1.5.0",
          "state": {
            "_model_module": "@jupyter-widgets/controls",
            "_model_module_version": "1.5.0",
            "_model_name": "DescriptionStyleModel",
            "_view_count": null,
            "_view_module": "@jupyter-widgets/base",
            "_view_module_version": "1.2.0",
            "_view_name": "StyleView",
            "description_width": ""
          }
        },
        "0183b5eff33d43ec9932244e470fee39": {
          "model_module": "@jupyter-widgets/base",
          "model_name": "LayoutModel",
          "model_module_version": "1.2.0",
          "state": {
            "_model_module": "@jupyter-widgets/base",
            "_model_module_version": "1.2.0",
            "_model_name": "LayoutModel",
            "_view_count": null,
            "_view_module": "@jupyter-widgets/base",
            "_view_module_version": "1.2.0",
            "_view_name": "LayoutView",
            "align_content": null,
            "align_items": null,
            "align_self": null,
            "border": null,
            "bottom": null,
            "display": null,
            "flex": null,
            "flex_flow": null,
            "grid_area": null,
            "grid_auto_columns": null,
            "grid_auto_flow": null,
            "grid_auto_rows": null,
            "grid_column": null,
            "grid_gap": null,
            "grid_row": null,
            "grid_template_areas": null,
            "grid_template_columns": null,
            "grid_template_rows": null,
            "height": null,
            "justify_content": null,
            "justify_items": null,
            "left": null,
            "margin": null,
            "max_height": null,
            "max_width": null,
            "min_height": null,
            "min_width": null,
            "object_fit": null,
            "object_position": null,
            "order": null,
            "overflow": null,
            "overflow_x": null,
            "overflow_y": null,
            "padding": null,
            "right": null,
            "top": null,
            "visibility": null,
            "width": null
          }
        },
        "cca8a9bcec6048ea896143cc37b5fcf8": {
          "model_module": "@jupyter-widgets/controls",
          "model_name": "ProgressStyleModel",
          "model_module_version": "1.5.0",
          "state": {
            "_model_module": "@jupyter-widgets/controls",
            "_model_module_version": "1.5.0",
            "_model_name": "ProgressStyleModel",
            "_view_count": null,
            "_view_module": "@jupyter-widgets/base",
            "_view_module_version": "1.2.0",
            "_view_name": "StyleView",
            "bar_color": null,
            "description_width": ""
          }
        },
        "35a421a504394d94a90630b01f7a5f4f": {
          "model_module": "@jupyter-widgets/base",
          "model_name": "LayoutModel",
          "model_module_version": "1.2.0",
          "state": {
            "_model_module": "@jupyter-widgets/base",
            "_model_module_version": "1.2.0",
            "_model_name": "LayoutModel",
            "_view_count": null,
            "_view_module": "@jupyter-widgets/base",
            "_view_module_version": "1.2.0",
            "_view_name": "LayoutView",
            "align_content": null,
            "align_items": null,
            "align_self": null,
            "border": null,
            "bottom": null,
            "display": null,
            "flex": null,
            "flex_flow": null,
            "grid_area": null,
            "grid_auto_columns": null,
            "grid_auto_flow": null,
            "grid_auto_rows": null,
            "grid_column": null,
            "grid_gap": null,
            "grid_row": null,
            "grid_template_areas": null,
            "grid_template_columns": null,
            "grid_template_rows": null,
            "height": null,
            "justify_content": null,
            "justify_items": null,
            "left": null,
            "margin": null,
            "max_height": null,
            "max_width": null,
            "min_height": null,
            "min_width": null,
            "object_fit": null,
            "object_position": null,
            "order": null,
            "overflow": null,
            "overflow_x": null,
            "overflow_y": null,
            "padding": null,
            "right": null,
            "top": null,
            "visibility": null,
            "width": null
          }
        },
        "b61f76a39b364b0c9e63f8e77ef526a9": {
          "model_module": "@jupyter-widgets/controls",
          "model_name": "DescriptionStyleModel",
          "model_module_version": "1.5.0",
          "state": {
            "_model_module": "@jupyter-widgets/controls",
            "_model_module_version": "1.5.0",
            "_model_name": "DescriptionStyleModel",
            "_view_count": null,
            "_view_module": "@jupyter-widgets/base",
            "_view_module_version": "1.2.0",
            "_view_name": "StyleView",
            "description_width": ""
          }
        },
        "5d902db721a44ca4b22aa9aecb21c0da": {
          "model_module": "@jupyter-widgets/controls",
          "model_name": "HBoxModel",
          "model_module_version": "1.5.0",
          "state": {
            "_dom_classes": [],
            "_model_module": "@jupyter-widgets/controls",
            "_model_module_version": "1.5.0",
            "_model_name": "HBoxModel",
            "_view_count": null,
            "_view_module": "@jupyter-widgets/controls",
            "_view_module_version": "1.5.0",
            "_view_name": "HBoxView",
            "box_style": "",
            "children": [
              "IPY_MODEL_2903af0a05964b828d458e776dba2a0d",
              "IPY_MODEL_b49fb54273734fbaa2ed03585b8bbca7",
              "IPY_MODEL_8c0599fc6fb34214a8948e4a10deda9c"
            ],
            "layout": "IPY_MODEL_f890d3adf2454ab8af253c43f3ca4ce1"
          }
        },
        "2903af0a05964b828d458e776dba2a0d": {
          "model_module": "@jupyter-widgets/controls",
          "model_name": "HTMLModel",
          "model_module_version": "1.5.0",
          "state": {
            "_dom_classes": [],
            "_model_module": "@jupyter-widgets/controls",
            "_model_module_version": "1.5.0",
            "_model_name": "HTMLModel",
            "_view_count": null,
            "_view_module": "@jupyter-widgets/controls",
            "_view_module_version": "1.5.0",
            "_view_name": "HTMLView",
            "description": "",
            "description_tooltip": null,
            "layout": "IPY_MODEL_317981303cf94c6f95b852120d700efb",
            "placeholder": "​",
            "style": "IPY_MODEL_309adcc5aee144309d7e1f4c82b8a10d",
            "value": "Downloading: 100%"
          }
        },
        "b49fb54273734fbaa2ed03585b8bbca7": {
          "model_module": "@jupyter-widgets/controls",
          "model_name": "FloatProgressModel",
          "model_module_version": "1.5.0",
          "state": {
            "_dom_classes": [],
            "_model_module": "@jupyter-widgets/controls",
            "_model_module_version": "1.5.0",
            "_model_name": "FloatProgressModel",
            "_view_count": null,
            "_view_module": "@jupyter-widgets/controls",
            "_view_module_version": "1.5.0",
            "_view_name": "ProgressView",
            "bar_style": "success",
            "description": "",
            "description_tooltip": null,
            "layout": "IPY_MODEL_d22fe578c0834db49201cc6a9797e3eb",
            "max": 1115590446,
            "min": 0,
            "orientation": "horizontal",
            "style": "IPY_MODEL_783c83ef86604a4db9139252c177ad0b",
            "value": 1115590446
          }
        },
        "8c0599fc6fb34214a8948e4a10deda9c": {
          "model_module": "@jupyter-widgets/controls",
          "model_name": "HTMLModel",
          "model_module_version": "1.5.0",
          "state": {
            "_dom_classes": [],
            "_model_module": "@jupyter-widgets/controls",
            "_model_module_version": "1.5.0",
            "_model_name": "HTMLModel",
            "_view_count": null,
            "_view_module": "@jupyter-widgets/controls",
            "_view_module_version": "1.5.0",
            "_view_name": "HTMLView",
            "description": "",
            "description_tooltip": null,
            "layout": "IPY_MODEL_44c8dd73b46a47a88d2ec33881c3f386",
            "placeholder": "​",
            "style": "IPY_MODEL_4b4904cbc38e4b308743e0b24885db75",
            "value": " 1.12G/1.12G [00:21&lt;00:00, 52.4MB/s]"
          }
        },
        "f890d3adf2454ab8af253c43f3ca4ce1": {
          "model_module": "@jupyter-widgets/base",
          "model_name": "LayoutModel",
          "model_module_version": "1.2.0",
          "state": {
            "_model_module": "@jupyter-widgets/base",
            "_model_module_version": "1.2.0",
            "_model_name": "LayoutModel",
            "_view_count": null,
            "_view_module": "@jupyter-widgets/base",
            "_view_module_version": "1.2.0",
            "_view_name": "LayoutView",
            "align_content": null,
            "align_items": null,
            "align_self": null,
            "border": null,
            "bottom": null,
            "display": null,
            "flex": null,
            "flex_flow": null,
            "grid_area": null,
            "grid_auto_columns": null,
            "grid_auto_flow": null,
            "grid_auto_rows": null,
            "grid_column": null,
            "grid_gap": null,
            "grid_row": null,
            "grid_template_areas": null,
            "grid_template_columns": null,
            "grid_template_rows": null,
            "height": null,
            "justify_content": null,
            "justify_items": null,
            "left": null,
            "margin": null,
            "max_height": null,
            "max_width": null,
            "min_height": null,
            "min_width": null,
            "object_fit": null,
            "object_position": null,
            "order": null,
            "overflow": null,
            "overflow_x": null,
            "overflow_y": null,
            "padding": null,
            "right": null,
            "top": null,
            "visibility": null,
            "width": null
          }
        },
        "317981303cf94c6f95b852120d700efb": {
          "model_module": "@jupyter-widgets/base",
          "model_name": "LayoutModel",
          "model_module_version": "1.2.0",
          "state": {
            "_model_module": "@jupyter-widgets/base",
            "_model_module_version": "1.2.0",
            "_model_name": "LayoutModel",
            "_view_count": null,
            "_view_module": "@jupyter-widgets/base",
            "_view_module_version": "1.2.0",
            "_view_name": "LayoutView",
            "align_content": null,
            "align_items": null,
            "align_self": null,
            "border": null,
            "bottom": null,
            "display": null,
            "flex": null,
            "flex_flow": null,
            "grid_area": null,
            "grid_auto_columns": null,
            "grid_auto_flow": null,
            "grid_auto_rows": null,
            "grid_column": null,
            "grid_gap": null,
            "grid_row": null,
            "grid_template_areas": null,
            "grid_template_columns": null,
            "grid_template_rows": null,
            "height": null,
            "justify_content": null,
            "justify_items": null,
            "left": null,
            "margin": null,
            "max_height": null,
            "max_width": null,
            "min_height": null,
            "min_width": null,
            "object_fit": null,
            "object_position": null,
            "order": null,
            "overflow": null,
            "overflow_x": null,
            "overflow_y": null,
            "padding": null,
            "right": null,
            "top": null,
            "visibility": null,
            "width": null
          }
        },
        "309adcc5aee144309d7e1f4c82b8a10d": {
          "model_module": "@jupyter-widgets/controls",
          "model_name": "DescriptionStyleModel",
          "model_module_version": "1.5.0",
          "state": {
            "_model_module": "@jupyter-widgets/controls",
            "_model_module_version": "1.5.0",
            "_model_name": "DescriptionStyleModel",
            "_view_count": null,
            "_view_module": "@jupyter-widgets/base",
            "_view_module_version": "1.2.0",
            "_view_name": "StyleView",
            "description_width": ""
          }
        },
        "d22fe578c0834db49201cc6a9797e3eb": {
          "model_module": "@jupyter-widgets/base",
          "model_name": "LayoutModel",
          "model_module_version": "1.2.0",
          "state": {
            "_model_module": "@jupyter-widgets/base",
            "_model_module_version": "1.2.0",
            "_model_name": "LayoutModel",
            "_view_count": null,
            "_view_module": "@jupyter-widgets/base",
            "_view_module_version": "1.2.0",
            "_view_name": "LayoutView",
            "align_content": null,
            "align_items": null,
            "align_self": null,
            "border": null,
            "bottom": null,
            "display": null,
            "flex": null,
            "flex_flow": null,
            "grid_area": null,
            "grid_auto_columns": null,
            "grid_auto_flow": null,
            "grid_auto_rows": null,
            "grid_column": null,
            "grid_gap": null,
            "grid_row": null,
            "grid_template_areas": null,
            "grid_template_columns": null,
            "grid_template_rows": null,
            "height": null,
            "justify_content": null,
            "justify_items": null,
            "left": null,
            "margin": null,
            "max_height": null,
            "max_width": null,
            "min_height": null,
            "min_width": null,
            "object_fit": null,
            "object_position": null,
            "order": null,
            "overflow": null,
            "overflow_x": null,
            "overflow_y": null,
            "padding": null,
            "right": null,
            "top": null,
            "visibility": null,
            "width": null
          }
        },
        "783c83ef86604a4db9139252c177ad0b": {
          "model_module": "@jupyter-widgets/controls",
          "model_name": "ProgressStyleModel",
          "model_module_version": "1.5.0",
          "state": {
            "_model_module": "@jupyter-widgets/controls",
            "_model_module_version": "1.5.0",
            "_model_name": "ProgressStyleModel",
            "_view_count": null,
            "_view_module": "@jupyter-widgets/base",
            "_view_module_version": "1.2.0",
            "_view_name": "StyleView",
            "bar_color": null,
            "description_width": ""
          }
        },
        "44c8dd73b46a47a88d2ec33881c3f386": {
          "model_module": "@jupyter-widgets/base",
          "model_name": "LayoutModel",
          "model_module_version": "1.2.0",
          "state": {
            "_model_module": "@jupyter-widgets/base",
            "_model_module_version": "1.2.0",
            "_model_name": "LayoutModel",
            "_view_count": null,
            "_view_module": "@jupyter-widgets/base",
            "_view_module_version": "1.2.0",
            "_view_name": "LayoutView",
            "align_content": null,
            "align_items": null,
            "align_self": null,
            "border": null,
            "bottom": null,
            "display": null,
            "flex": null,
            "flex_flow": null,
            "grid_area": null,
            "grid_auto_columns": null,
            "grid_auto_flow": null,
            "grid_auto_rows": null,
            "grid_column": null,
            "grid_gap": null,
            "grid_row": null,
            "grid_template_areas": null,
            "grid_template_columns": null,
            "grid_template_rows": null,
            "height": null,
            "justify_content": null,
            "justify_items": null,
            "left": null,
            "margin": null,
            "max_height": null,
            "max_width": null,
            "min_height": null,
            "min_width": null,
            "object_fit": null,
            "object_position": null,
            "order": null,
            "overflow": null,
            "overflow_x": null,
            "overflow_y": null,
            "padding": null,
            "right": null,
            "top": null,
            "visibility": null,
            "width": null
          }
        },
        "4b4904cbc38e4b308743e0b24885db75": {
          "model_module": "@jupyter-widgets/controls",
          "model_name": "DescriptionStyleModel",
          "model_module_version": "1.5.0",
          "state": {
            "_model_module": "@jupyter-widgets/controls",
            "_model_module_version": "1.5.0",
            "_model_name": "DescriptionStyleModel",
            "_view_count": null,
            "_view_module": "@jupyter-widgets/base",
            "_view_module_version": "1.2.0",
            "_view_name": "StyleView",
            "description_width": ""
          }
        }
      }
    }
  },
  "nbformat": 4,
  "nbformat_minor": 5
}