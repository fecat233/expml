{
 "cells": [
  {
   "cell_type": "markdown",
   "id": "0e37112f-5cf4-4256-8a4d-9a5536e93e0d",
   "metadata": {},
   "source": [
    "## 数据预处理"
   ]
  },
  {
   "cell_type": "code",
   "execution_count": 73,
   "id": "3429c168-b85a-440a-9705-30824b801284",
   "metadata": {},
   "outputs": [
    {
     "name": "stderr",
     "output_type": "stream",
     "text": [
      "Using custom data configuration default-52cb1d50be8a857b\n",
      "Reusing dataset text (F:\\cachefile\\huggingface\\datasets\\text\\default-52cb1d50be8a857b\\0.0.0\\21a506d1b2b34316b1e82d0bd79066905d846e5d7e619823c0dd338d6f1fa6ad)\n"
     ]
    },
    {
     "data": {
      "application/vnd.jupyter.widget-view+json": {
       "model_id": "18a92d926a4d466e9ed0c2da67469a68",
       "version_major": 2,
       "version_minor": 0
      },
      "text/plain": [
       "  0%|          | 0/2 [00:00<?, ?it/s]"
      ]
     },
     "metadata": {},
     "output_type": "display_data"
    }
   ],
   "source": [
    "from datasets import load_dataset\n",
    "train_file = 'dataset\\\\atis\\\\atis.train.iob'\n",
    "valid_file = 'dataset\\\\atis\\\\atis.test.iob'\n",
    "\n",
    "atis_dataset = load_dataset(\"text\", data_files={\"train\": train_file, \"validate\": valid_file})"
   ]
  },
  {
   "cell_type": "code",
   "execution_count": 74,
   "id": "ffdd46a8-5ae0-431c-a1b5-f8b8d18e8792",
   "metadata": {},
   "outputs": [
    {
     "data": {
      "text/plain": [
       "DatasetDict({\n",
       "    train: Dataset({\n",
       "        features: ['text'],\n",
       "        num_rows: 4978\n",
       "    })\n",
       "    validate: Dataset({\n",
       "        features: ['text'],\n",
       "        num_rows: 893\n",
       "    })\n",
       "})"
      ]
     },
     "execution_count": 74,
     "metadata": {},
     "output_type": "execute_result"
    }
   ],
   "source": [
    "atis_dataset"
   ]
  },
  {
   "cell_type": "code",
   "execution_count": 75,
   "id": "cc5abaf5-cbf7-411d-9941-5940c2543258",
   "metadata": {},
   "outputs": [
    {
     "data": {
      "text/plain": [
       "4978"
      ]
     },
     "execution_count": 75,
     "metadata": {},
     "output_type": "execute_result"
    }
   ],
   "source": [
    "len(atis_dataset[\"train\"])"
   ]
  },
  {
   "cell_type": "code",
   "execution_count": 40,
   "id": "284fa0ea-2b1d-46ba-bacd-fc34807a55c8",
   "metadata": {},
   "outputs": [],
   "source": [
    "list3 = []\n",
    "list1 = [\"a\", \"b\", \"c\"]\n",
    "list2 = [\"a\", \"d\", \"c\"]\n",
    "list = list3 + list1 + list2\n",
    "myset = set(list)"
   ]
  },
  {
   "cell_type": "code",
   "execution_count": 41,
   "id": "d79d1295-510c-4fe2-b1bc-2d12ff2ee635",
   "metadata": {},
   "outputs": [
    {
     "data": {
      "text/plain": [
       "{'a', 'b', 'c', 'd'}"
      ]
     },
     "execution_count": 41,
     "metadata": {},
     "output_type": "execute_result"
    }
   ],
   "source": [
    "myset"
   ]
  },
  {
   "cell_type": "markdown",
   "id": "a6aab16d-30e8-4db9-b97e-b9a5cceba3e9",
   "metadata": {},
   "source": [
    "### 抽取类别标签"
   ]
  },
  {
   "cell_type": "code",
   "execution_count": 76,
   "id": "a5982403-791a-43a6-8844-b7db2e95078a",
   "metadata": {},
   "outputs": [],
   "source": [
    "def extract_labels():\n",
    "    train_data = atis_dataset[\"train\"]\n",
    "    test_data = atis_dataset[\"validate\"]\n",
    "    label_list = []\n",
    "    for i in range(len(train_data)):\n",
    "        list = train_data[i][\"text\"].split(\"\\t\")\n",
    "        tags_name = list[1].split(\" \")\n",
    "        tags_name.pop(0)\n",
    "        tags_name.pop()\n",
    "        label_list = label_list + tags_name\n",
    "    for i in range(len(test_data)):\n",
    "        list = test_data[i][\"text\"].split(\"\\t\")\n",
    "        tags_name = list[1].split(\" \")\n",
    "        tags_name.pop(0)\n",
    "        tags_name.pop()\n",
    "        label_list = label_list + tags_name\n",
    "    labels = set(label_list)\n",
    "    return labels"
   ]
  },
  {
   "cell_type": "code",
   "execution_count": 77,
   "id": "1e321e9d-4e31-4a3d-88b4-37dfae0562db",
   "metadata": {},
   "outputs": [],
   "source": [
    "labels = extract_labels()"
   ]
  },
  {
   "cell_type": "code",
   "execution_count": 78,
   "id": "cf8a5879-82bd-45a7-a723-55261517af98",
   "metadata": {},
   "outputs": [
    {
     "data": {
      "text/plain": [
       "127"
      ]
     },
     "execution_count": 78,
     "metadata": {},
     "output_type": "execute_result"
    }
   ],
   "source": [
    "len(labels)"
   ]
  },
  {
   "cell_type": "code",
   "execution_count": 79,
   "id": "a54bdbc5-1e92-4197-9b04-e3c7c38843a0",
   "metadata": {},
   "outputs": [],
   "source": [
    "labels_list = [*labels, ]"
   ]
  },
  {
   "cell_type": "code",
   "execution_count": 80,
   "id": "37d7654d-7c29-4b47-95d1-759bba609c3f",
   "metadata": {},
   "outputs": [
    {
     "data": {
      "text/plain": [
       "127"
      ]
     },
     "execution_count": 80,
     "metadata": {},
     "output_type": "execute_result"
    }
   ],
   "source": [
    "len(labels_list)"
   ]
  },
  {
   "cell_type": "markdown",
   "id": "981aa07d-4187-447a-a504-d3861fb74e52",
   "metadata": {},
   "source": [
    "### 编码类别标签"
   ]
  },
  {
   "cell_type": "code",
   "execution_count": 81,
   "id": "185aae5b-a683-42f5-90cb-16fe3202b82e",
   "metadata": {},
   "outputs": [
    {
     "data": {
      "text/html": [
       "<style>#sk-container-id-3 {color: black;background-color: white;}#sk-container-id-3 pre{padding: 0;}#sk-container-id-3 div.sk-toggleable {background-color: white;}#sk-container-id-3 label.sk-toggleable__label {cursor: pointer;display: block;width: 100%;margin-bottom: 0;padding: 0.3em;box-sizing: border-box;text-align: center;}#sk-container-id-3 label.sk-toggleable__label-arrow:before {content: \"▸\";float: left;margin-right: 0.25em;color: #696969;}#sk-container-id-3 label.sk-toggleable__label-arrow:hover:before {color: black;}#sk-container-id-3 div.sk-estimator:hover label.sk-toggleable__label-arrow:before {color: black;}#sk-container-id-3 div.sk-toggleable__content {max-height: 0;max-width: 0;overflow: hidden;text-align: left;background-color: #f0f8ff;}#sk-container-id-3 div.sk-toggleable__content pre {margin: 0.2em;color: black;border-radius: 0.25em;background-color: #f0f8ff;}#sk-container-id-3 input.sk-toggleable__control:checked~div.sk-toggleable__content {max-height: 200px;max-width: 100%;overflow: auto;}#sk-container-id-3 input.sk-toggleable__control:checked~label.sk-toggleable__label-arrow:before {content: \"▾\";}#sk-container-id-3 div.sk-estimator input.sk-toggleable__control:checked~label.sk-toggleable__label {background-color: #d4ebff;}#sk-container-id-3 div.sk-label input.sk-toggleable__control:checked~label.sk-toggleable__label {background-color: #d4ebff;}#sk-container-id-3 input.sk-hidden--visually {border: 0;clip: rect(1px 1px 1px 1px);clip: rect(1px, 1px, 1px, 1px);height: 1px;margin: -1px;overflow: hidden;padding: 0;position: absolute;width: 1px;}#sk-container-id-3 div.sk-estimator {font-family: monospace;background-color: #f0f8ff;border: 1px dotted black;border-radius: 0.25em;box-sizing: border-box;margin-bottom: 0.5em;}#sk-container-id-3 div.sk-estimator:hover {background-color: #d4ebff;}#sk-container-id-3 div.sk-parallel-item::after {content: \"\";width: 100%;border-bottom: 1px solid gray;flex-grow: 1;}#sk-container-id-3 div.sk-label:hover label.sk-toggleable__label {background-color: #d4ebff;}#sk-container-id-3 div.sk-serial::before {content: \"\";position: absolute;border-left: 1px solid gray;box-sizing: border-box;top: 0;bottom: 0;left: 50%;z-index: 0;}#sk-container-id-3 div.sk-serial {display: flex;flex-direction: column;align-items: center;background-color: white;padding-right: 0.2em;padding-left: 0.2em;position: relative;}#sk-container-id-3 div.sk-item {position: relative;z-index: 1;}#sk-container-id-3 div.sk-parallel {display: flex;align-items: stretch;justify-content: center;background-color: white;position: relative;}#sk-container-id-3 div.sk-item::before, #sk-container-id-3 div.sk-parallel-item::before {content: \"\";position: absolute;border-left: 1px solid gray;box-sizing: border-box;top: 0;bottom: 0;left: 50%;z-index: -1;}#sk-container-id-3 div.sk-parallel-item {display: flex;flex-direction: column;z-index: 1;position: relative;background-color: white;}#sk-container-id-3 div.sk-parallel-item:first-child::after {align-self: flex-end;width: 50%;}#sk-container-id-3 div.sk-parallel-item:last-child::after {align-self: flex-start;width: 50%;}#sk-container-id-3 div.sk-parallel-item:only-child::after {width: 0;}#sk-container-id-3 div.sk-dashed-wrapped {border: 1px dashed gray;margin: 0 0.4em 0.5em 0.4em;box-sizing: border-box;padding-bottom: 0.4em;background-color: white;}#sk-container-id-3 div.sk-label label {font-family: monospace;font-weight: bold;display: inline-block;line-height: 1.2em;}#sk-container-id-3 div.sk-label-container {text-align: center;}#sk-container-id-3 div.sk-container {/* jupyter's `normalize.less` sets `[hidden] { display: none; }` but bootstrap.min.css set `[hidden] { display: none !important; }` so we also need the `!important` here to be able to override the default hidden behavior on the sphinx rendered scikit-learn.org. See: https://github.com/scikit-learn/scikit-learn/issues/21755 */display: inline-block !important;position: relative;}#sk-container-id-3 div.sk-text-repr-fallback {display: none;}</style><div id=\"sk-container-id-3\" class=\"sk-top-container\"><div class=\"sk-text-repr-fallback\"><pre>LabelEncoder()</pre><b>In a Jupyter environment, please rerun this cell to show the HTML representation or trust the notebook. <br />On GitHub, the HTML representation is unable to render, please try loading this page with nbviewer.org.</b></div><div class=\"sk-container\" hidden><div class=\"sk-item\"><div class=\"sk-estimator sk-toggleable\"><input class=\"sk-toggleable__control sk-hidden--visually\" id=\"sk-estimator-id-3\" type=\"checkbox\" checked><label for=\"sk-estimator-id-3\" class=\"sk-toggleable__label sk-toggleable__label-arrow\">LabelEncoder</label><div class=\"sk-toggleable__content\"><pre>LabelEncoder()</pre></div></div></div></div></div>"
      ],
      "text/plain": [
       "LabelEncoder()"
      ]
     },
     "execution_count": 81,
     "metadata": {},
     "output_type": "execute_result"
    }
   ],
   "source": [
    "from sklearn.preprocessing import LabelEncoder\n",
    "labels_set = extract_labels()\n",
    "labels = [*labels_set, ]\n",
    "label_encoder = LabelEncoder()\n",
    "label_encoder.fit(labels)"
   ]
  },
  {
   "cell_type": "code",
   "execution_count": 82,
   "id": "9a39f7b9-7cc7-4744-951f-372fe6032d2c",
   "metadata": {},
   "outputs": [
    {
     "data": {
      "text/plain": [
       "array(['B-aircraft_code', 'B-airline_code', 'B-airline_name',\n",
       "       'B-airport_code', 'B-airport_name', 'B-arrive_date.date_relative',\n",
       "       'B-arrive_date.day_name', 'B-arrive_date.day_number',\n",
       "       'B-arrive_date.month_name', 'B-arrive_date.today_relative',\n",
       "       'B-arrive_time.end_time', 'B-arrive_time.period_mod',\n",
       "       'B-arrive_time.period_of_day', 'B-arrive_time.start_time',\n",
       "       'B-arrive_time.time', 'B-arrive_time.time_relative',\n",
       "       'B-booking_class', 'B-city_name', 'B-class_type', 'B-compartment',\n",
       "       'B-connect', 'B-cost_relative', 'B-day_name', 'B-day_number',\n",
       "       'B-days_code', 'B-depart_date.date_relative',\n",
       "       'B-depart_date.day_name', 'B-depart_date.day_number',\n",
       "       'B-depart_date.month_name', 'B-depart_date.today_relative',\n",
       "       'B-depart_date.year', 'B-depart_time.end_time',\n",
       "       'B-depart_time.period_mod', 'B-depart_time.period_of_day',\n",
       "       'B-depart_time.start_time', 'B-depart_time.time',\n",
       "       'B-depart_time.time_relative', 'B-economy', 'B-fare_amount',\n",
       "       'B-fare_basis_code', 'B-flight', 'B-flight_days', 'B-flight_mod',\n",
       "       'B-flight_number', 'B-flight_stop', 'B-flight_time',\n",
       "       'B-fromloc.airport_code', 'B-fromloc.airport_name',\n",
       "       'B-fromloc.city_name', 'B-fromloc.state_code',\n",
       "       'B-fromloc.state_name', 'B-meal', 'B-meal_code',\n",
       "       'B-meal_description', 'B-mod', 'B-month_name', 'B-or',\n",
       "       'B-period_of_day', 'B-restriction_code',\n",
       "       'B-return_date.date_relative', 'B-return_date.day_name',\n",
       "       'B-return_date.day_number', 'B-return_date.month_name',\n",
       "       'B-return_date.today_relative', 'B-return_time.period_mod',\n",
       "       'B-return_time.period_of_day', 'B-round_trip', 'B-state_code',\n",
       "       'B-state_name', 'B-stoploc.airport_code', 'B-stoploc.airport_name',\n",
       "       'B-stoploc.city_name', 'B-stoploc.state_code', 'B-time',\n",
       "       'B-time_relative', 'B-today_relative', 'B-toloc.airport_code',\n",
       "       'B-toloc.airport_name', 'B-toloc.city_name',\n",
       "       'B-toloc.country_name', 'B-toloc.state_code', 'B-toloc.state_name',\n",
       "       'B-transport_type', 'I-airline_name', 'I-airport_name',\n",
       "       'I-arrive_date.day_number', 'I-arrive_time.end_time',\n",
       "       'I-arrive_time.period_of_day', 'I-arrive_time.start_time',\n",
       "       'I-arrive_time.time', 'I-arrive_time.time_relative', 'I-city_name',\n",
       "       'I-class_type', 'I-cost_relative', 'I-depart_date.day_number',\n",
       "       'I-depart_date.today_relative', 'I-depart_time.end_time',\n",
       "       'I-depart_time.period_of_day', 'I-depart_time.start_time',\n",
       "       'I-depart_time.time', 'I-depart_time.time_relative', 'I-economy',\n",
       "       'I-fare_amount', 'I-fare_basis_code', 'I-flight_mod',\n",
       "       'I-flight_number', 'I-flight_stop', 'I-flight_time',\n",
       "       'I-fromloc.airport_name', 'I-fromloc.city_name',\n",
       "       'I-fromloc.state_name', 'I-meal_code', 'I-meal_description',\n",
       "       'I-restriction_code', 'I-return_date.date_relative',\n",
       "       'I-return_date.day_number', 'I-return_date.today_relative',\n",
       "       'I-round_trip', 'I-state_name', 'I-stoploc.city_name', 'I-time',\n",
       "       'I-today_relative', 'I-toloc.airport_name', 'I-toloc.city_name',\n",
       "       'I-toloc.state_name', 'I-transport_type', 'O'], dtype='<U28')"
      ]
     },
     "execution_count": 82,
     "metadata": {},
     "output_type": "execute_result"
    }
   ],
   "source": [
    "label_encoder.classes_"
   ]
  },
  {
   "cell_type": "markdown",
   "id": "bc3ce308-d544-45d8-9e55-45ef9056aa2d",
   "metadata": {},
   "source": [
    "### 添加tags列"
   ]
  },
  {
   "cell_type": "code",
   "execution_count": 83,
   "id": "467c90ae-6986-4f6d-b5aa-1ced2e4d6cc8",
   "metadata": {},
   "outputs": [],
   "source": [
    "def add_tags_column(item):\n",
    "    list = item[\"text\"].split(\"\\t\")\n",
    "    text_list = list[0].split(\" \")\n",
    "    text_list.pop(0)\n",
    "    text_list.pop()\n",
    "    tags_name_list = list[1].split(\" \")\n",
    "    tags_name_list.pop(0)\n",
    "    tags_name_list.pop()\n",
    "    item[\"text\"] = text_list\n",
    "    item['tags_name'] = tags_name_list\n",
    "    item['tags'] = label_encoder.transform(tags_name_list).tolist()\n",
    "    return item"
   ]
  },
  {
   "cell_type": "code",
   "execution_count": 84,
   "id": "40bac6f5-69a7-4868-acc9-370f7ba79818",
   "metadata": {},
   "outputs": [
    {
     "data": {
      "text/plain": [
       "{'text': 'BOS i want to fly from boston at 838 am and arrive in denver at 1110 in the morning EOS\\tO O O O O O B-fromloc.city_name O B-depart_time.time I-depart_time.time O O O B-toloc.city_name O B-arrive_time.time O O B-arrive_time.period_of_day O'}"
      ]
     },
     "execution_count": 84,
     "metadata": {},
     "output_type": "execute_result"
    }
   ],
   "source": [
    "atis_dataset[\"train\"][0]"
   ]
  },
  {
   "cell_type": "code",
   "execution_count": 85,
   "id": "39a2d277-e721-469a-b044-60896a8424e2",
   "metadata": {},
   "outputs": [],
   "source": [
    "item = add_tags_column(atis_dataset[\"train\"][0])"
   ]
  },
  {
   "cell_type": "code",
   "execution_count": 86,
   "id": "6dae7ff5-9013-47cd-ba05-df113a80d9f9",
   "metadata": {},
   "outputs": [
    {
     "data": {
      "text/plain": [
       "{'text': ['i',\n",
       "  'want',\n",
       "  'to',\n",
       "  'fly',\n",
       "  'from',\n",
       "  'boston',\n",
       "  'at',\n",
       "  '838',\n",
       "  'am',\n",
       "  'and',\n",
       "  'arrive',\n",
       "  'in',\n",
       "  'denver',\n",
       "  'at',\n",
       "  '1110',\n",
       "  'in',\n",
       "  'the',\n",
       "  'morning'],\n",
       " 'tags_name': ['O',\n",
       "  'O',\n",
       "  'O',\n",
       "  'O',\n",
       "  'O',\n",
       "  'B-fromloc.city_name',\n",
       "  'O',\n",
       "  'B-depart_time.time',\n",
       "  'I-depart_time.time',\n",
       "  'O',\n",
       "  'O',\n",
       "  'O',\n",
       "  'B-toloc.city_name',\n",
       "  'O',\n",
       "  'B-arrive_time.time',\n",
       "  'O',\n",
       "  'O',\n",
       "  'B-arrive_time.period_of_day'],\n",
       " 'tags': [126,\n",
       "  126,\n",
       "  126,\n",
       "  126,\n",
       "  126,\n",
       "  48,\n",
       "  126,\n",
       "  35,\n",
       "  99,\n",
       "  126,\n",
       "  126,\n",
       "  126,\n",
       "  78,\n",
       "  126,\n",
       "  14,\n",
       "  126,\n",
       "  126,\n",
       "  12]}"
      ]
     },
     "execution_count": 86,
     "metadata": {},
     "output_type": "execute_result"
    }
   ],
   "source": [
    "item"
   ]
  },
  {
   "cell_type": "code",
   "execution_count": 87,
   "id": "54c243dd-8410-4d33-bd73-a1c056db6fd7",
   "metadata": {},
   "outputs": [
    {
     "data": {
      "text/plain": [
       "18"
      ]
     },
     "execution_count": 87,
     "metadata": {},
     "output_type": "execute_result"
    }
   ],
   "source": [
    "len(item[\"text\"])"
   ]
  },
  {
   "cell_type": "code",
   "execution_count": 88,
   "id": "48c07c95-e23c-44d5-af48-44bfb146e1d4",
   "metadata": {},
   "outputs": [
    {
     "data": {
      "text/plain": [
       "18"
      ]
     },
     "execution_count": 88,
     "metadata": {},
     "output_type": "execute_result"
    }
   ],
   "source": [
    "len(item[\"tags_name\"])"
   ]
  },
  {
   "cell_type": "code",
   "execution_count": 89,
   "id": "4e8b731e-ff1b-442f-ba5f-9b9a22c6e871",
   "metadata": {},
   "outputs": [
    {
     "data": {
      "text/plain": [
       "18"
      ]
     },
     "execution_count": 89,
     "metadata": {},
     "output_type": "execute_result"
    }
   ],
   "source": [
    "len(item[\"tags\"])"
   ]
  },
  {
   "cell_type": "code",
   "execution_count": 90,
   "id": "e9e9af13-215c-45bc-ab50-6eeb5b66aff3",
   "metadata": {},
   "outputs": [
    {
     "data": {
      "application/vnd.jupyter.widget-view+json": {
       "model_id": "96fe1672830340099602632cca4f17ef",
       "version_major": 2,
       "version_minor": 0
      },
      "text/plain": [
       "  0%|          | 0/4978 [00:00<?, ?ex/s]"
      ]
     },
     "metadata": {},
     "output_type": "display_data"
    },
    {
     "data": {
      "application/vnd.jupyter.widget-view+json": {
       "model_id": "8cb1201e65fc4a18ba189ad101d1d251",
       "version_major": 2,
       "version_minor": 0
      },
      "text/plain": [
       "  0%|          | 0/893 [00:00<?, ?ex/s]"
      ]
     },
     "metadata": {},
     "output_type": "display_data"
    }
   ],
   "source": [
    "atis_dataset_taged = atis_dataset.map(add_tags_column)"
   ]
  },
  {
   "cell_type": "code",
   "execution_count": 91,
   "id": "ce147796-d5e0-4a3d-ad79-e48d4702a014",
   "metadata": {},
   "outputs": [
    {
     "data": {
      "text/plain": [
       "DatasetDict({\n",
       "    train: Dataset({\n",
       "        features: ['text', 'tags_name', 'tags'],\n",
       "        num_rows: 4978\n",
       "    })\n",
       "    validate: Dataset({\n",
       "        features: ['text', 'tags_name', 'tags'],\n",
       "        num_rows: 893\n",
       "    })\n",
       "})"
      ]
     },
     "execution_count": 91,
     "metadata": {},
     "output_type": "execute_result"
    }
   ],
   "source": [
    "atis_dataset_taged"
   ]
  },
  {
   "cell_type": "code",
   "execution_count": 92,
   "id": "2c73a85d-2bf5-4ee6-b99c-330aeb6c833c",
   "metadata": {},
   "outputs": [
    {
     "data": {
      "text/plain": [
       "{'text': [['i',\n",
       "   'want',\n",
       "   'to',\n",
       "   'fly',\n",
       "   'from',\n",
       "   'boston',\n",
       "   'at',\n",
       "   '838',\n",
       "   'am',\n",
       "   'and',\n",
       "   'arrive',\n",
       "   'in',\n",
       "   'denver',\n",
       "   'at',\n",
       "   '1110',\n",
       "   'in',\n",
       "   'the',\n",
       "   'morning'],\n",
       "  ['what',\n",
       "   'flights',\n",
       "   'are',\n",
       "   'available',\n",
       "   'from',\n",
       "   'pittsburgh',\n",
       "   'to',\n",
       "   'baltimore',\n",
       "   'on',\n",
       "   'thursday',\n",
       "   'morning'],\n",
       "  ['what',\n",
       "   'is',\n",
       "   'the',\n",
       "   'arrival',\n",
       "   'time',\n",
       "   'in',\n",
       "   'san',\n",
       "   'francisco',\n",
       "   'for',\n",
       "   'the',\n",
       "   '755',\n",
       "   'am',\n",
       "   'flight',\n",
       "   'leaving',\n",
       "   'washington']],\n",
       " 'tags_name': [['O',\n",
       "   'O',\n",
       "   'O',\n",
       "   'O',\n",
       "   'O',\n",
       "   'B-fromloc.city_name',\n",
       "   'O',\n",
       "   'B-depart_time.time',\n",
       "   'I-depart_time.time',\n",
       "   'O',\n",
       "   'O',\n",
       "   'O',\n",
       "   'B-toloc.city_name',\n",
       "   'O',\n",
       "   'B-arrive_time.time',\n",
       "   'O',\n",
       "   'O',\n",
       "   'B-arrive_time.period_of_day'],\n",
       "  ['O',\n",
       "   'O',\n",
       "   'O',\n",
       "   'O',\n",
       "   'O',\n",
       "   'B-fromloc.city_name',\n",
       "   'O',\n",
       "   'B-toloc.city_name',\n",
       "   'O',\n",
       "   'B-depart_date.day_name',\n",
       "   'B-depart_time.period_of_day'],\n",
       "  ['O',\n",
       "   'O',\n",
       "   'O',\n",
       "   'B-flight_time',\n",
       "   'I-flight_time',\n",
       "   'O',\n",
       "   'B-fromloc.city_name',\n",
       "   'I-fromloc.city_name',\n",
       "   'O',\n",
       "   'O',\n",
       "   'B-depart_time.time',\n",
       "   'I-depart_time.time',\n",
       "   'O',\n",
       "   'O',\n",
       "   'B-fromloc.city_name']],\n",
       " 'tags': [[126,\n",
       "   126,\n",
       "   126,\n",
       "   126,\n",
       "   126,\n",
       "   48,\n",
       "   126,\n",
       "   35,\n",
       "   99,\n",
       "   126,\n",
       "   126,\n",
       "   126,\n",
       "   78,\n",
       "   126,\n",
       "   14,\n",
       "   126,\n",
       "   126,\n",
       "   12],\n",
       "  [126, 126, 126, 126, 126, 48, 126, 78, 126, 26, 33],\n",
       "  [126, 126, 126, 45, 107, 126, 48, 109, 126, 126, 35, 99, 126, 126, 48]]}"
      ]
     },
     "execution_count": 92,
     "metadata": {},
     "output_type": "execute_result"
    }
   ],
   "source": [
    "atis_dataset_taged[\"train\"][0:3]"
   ]
  },
  {
   "cell_type": "markdown",
   "id": "9ea1ac38-b040-49f6-907d-b24bb9fa7ff5",
   "metadata": {},
   "source": [
    "## 保存数据集"
   ]
  },
  {
   "cell_type": "code",
   "execution_count": 93,
   "id": "9116165f-02fe-4ff6-ba7e-033ae6f3207e",
   "metadata": {},
   "outputs": [],
   "source": [
    "atis_dataset_taged.save_to_disk(\"dataset\\\\atis\\\\atis\")"
   ]
  },
  {
   "cell_type": "code",
   "execution_count": null,
   "id": "ec8423e9-22f4-4d56-8547-8e3c5b0e9e10",
   "metadata": {},
   "outputs": [],
   "source": []
  }
 ],
 "metadata": {
  "kernelspec": {
   "display_name": "Python 3 (ipykernel)",
   "language": "python",
   "name": "python3"
  },
  "language_info": {
   "codemirror_mode": {
    "name": "ipython",
    "version": 3
   },
   "file_extension": ".py",
   "mimetype": "text/x-python",
   "name": "python",
   "nbconvert_exporter": "python",
   "pygments_lexer": "ipython3",
   "version": "3.9.13"
  }
 },
 "nbformat": 4,
 "nbformat_minor": 5
}
