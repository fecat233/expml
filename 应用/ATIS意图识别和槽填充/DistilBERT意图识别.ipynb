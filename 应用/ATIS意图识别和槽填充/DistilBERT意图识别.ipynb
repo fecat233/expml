{
 "cells": [
  {
   "cell_type": "markdown",
   "id": "dd03c3ed-db4d-4070-b752-cac71e65957b",
   "metadata": {},
   "source": [
    "## ATIS数据预处理"
   ]
  },
  {
   "cell_type": "markdown",
   "id": "9f0db639-6b9d-49a3-90eb-ae43c356f890",
   "metadata": {},
   "source": [
    "### 加载数据集"
   ]
  },
  {
   "cell_type": "code",
   "execution_count": 4,
   "id": "fc4dd715-5e8d-402b-93c6-f458a93177a2",
   "metadata": {},
   "outputs": [
    {
     "name": "stderr",
     "output_type": "stream",
     "text": [
      "Using custom data configuration default-506e80681ce53c1a\n"
     ]
    },
    {
     "name": "stdout",
     "output_type": "stream",
     "text": [
      "Downloading and preparing dataset csv/default to F:\\cachefile\\huggingface\\datasets\\csv\\default-506e80681ce53c1a\\0.0.0\\652c3096f041ee27b04d2232d41f10547a8fecda3e284a79a0ec4053c916ef7a...\n"
     ]
    },
    {
     "data": {
      "application/vnd.jupyter.widget-view+json": {
       "model_id": "b1204ea3e55d4083accb765dadc47eaf",
       "version_major": 2,
       "version_minor": 0
      },
      "text/plain": [
       "Downloading data files:   0%|          | 0/1 [00:00<?, ?it/s]"
      ]
     },
     "metadata": {},
     "output_type": "display_data"
    },
    {
     "data": {
      "application/vnd.jupyter.widget-view+json": {
       "model_id": "9bf836e16f614b4e9465cd4eac49c69a",
       "version_major": 2,
       "version_minor": 0
      },
      "text/plain": [
       "Extracting data files:   0%|          | 0/1 [00:00<?, ?it/s]"
      ]
     },
     "metadata": {},
     "output_type": "display_data"
    },
    {
     "data": {
      "application/vnd.jupyter.widget-view+json": {
       "model_id": "",
       "version_major": 2,
       "version_minor": 0
      },
      "text/plain": [
       "0 tables [00:00, ? tables/s]"
      ]
     },
     "metadata": {},
     "output_type": "display_data"
    },
    {
     "name": "stdout",
     "output_type": "stream",
     "text": [
      "Dataset csv downloaded and prepared to F:\\cachefile\\huggingface\\datasets\\csv\\default-506e80681ce53c1a\\0.0.0\\652c3096f041ee27b04d2232d41f10547a8fecda3e284a79a0ec4053c916ef7a. Subsequent calls will reuse this data.\n"
     ]
    },
    {
     "name": "stderr",
     "output_type": "stream",
     "text": [
      "D:\\miniconda3\\envs\\expml\\lib\\site-packages\\datasets\\download\\streaming_download_manager.py:695: FutureWarning: the 'mangle_dupe_cols' keyword is deprecated and will be removed in a future version. Please take steps to stop the use of 'mangle_dupe_cols'\n",
      "  return pd.read_csv(xopen(filepath_or_buffer, \"rb\", use_auth_token=use_auth_token), **kwargs)\n"
     ]
    },
    {
     "data": {
      "application/vnd.jupyter.widget-view+json": {
       "model_id": "adb6bc2cd03f4f14a91614f1ad0daf8f",
       "version_major": 2,
       "version_minor": 0
      },
      "text/plain": [
       "  0%|          | 0/1 [00:00<?, ?it/s]"
      ]
     },
     "metadata": {},
     "output_type": "display_data"
    },
    {
     "name": "stderr",
     "output_type": "stream",
     "text": [
      "Using custom data configuration default-6af9716ba887cc56\n"
     ]
    },
    {
     "name": "stdout",
     "output_type": "stream",
     "text": [
      "Downloading and preparing dataset csv/default to F:\\cachefile\\huggingface\\datasets\\csv\\default-6af9716ba887cc56\\0.0.0\\652c3096f041ee27b04d2232d41f10547a8fecda3e284a79a0ec4053c916ef7a...\n"
     ]
    },
    {
     "data": {
      "application/vnd.jupyter.widget-view+json": {
       "model_id": "161e41c59af0488c93d3b4f3913b49f1",
       "version_major": 2,
       "version_minor": 0
      },
      "text/plain": [
       "Downloading data files:   0%|          | 0/1 [00:00<?, ?it/s]"
      ]
     },
     "metadata": {},
     "output_type": "display_data"
    },
    {
     "data": {
      "application/vnd.jupyter.widget-view+json": {
       "model_id": "876095ec0254474eb9abc7396ee0836e",
       "version_major": 2,
       "version_minor": 0
      },
      "text/plain": [
       "Extracting data files:   0%|          | 0/1 [00:00<?, ?it/s]"
      ]
     },
     "metadata": {},
     "output_type": "display_data"
    },
    {
     "data": {
      "application/vnd.jupyter.widget-view+json": {
       "model_id": "",
       "version_major": 2,
       "version_minor": 0
      },
      "text/plain": [
       "0 tables [00:00, ? tables/s]"
      ]
     },
     "metadata": {},
     "output_type": "display_data"
    },
    {
     "name": "stdout",
     "output_type": "stream",
     "text": [
      "Dataset csv downloaded and prepared to F:\\cachefile\\huggingface\\datasets\\csv\\default-6af9716ba887cc56\\0.0.0\\652c3096f041ee27b04d2232d41f10547a8fecda3e284a79a0ec4053c916ef7a. Subsequent calls will reuse this data.\n"
     ]
    },
    {
     "name": "stderr",
     "output_type": "stream",
     "text": [
      "D:\\miniconda3\\envs\\expml\\lib\\site-packages\\datasets\\download\\streaming_download_manager.py:695: FutureWarning: the 'mangle_dupe_cols' keyword is deprecated and will be removed in a future version. Please take steps to stop the use of 'mangle_dupe_cols'\n",
      "  return pd.read_csv(xopen(filepath_or_buffer, \"rb\", use_auth_token=use_auth_token), **kwargs)\n"
     ]
    },
    {
     "data": {
      "application/vnd.jupyter.widget-view+json": {
       "model_id": "61155f39dbda4d0a8ee4e134ae3c8903",
       "version_major": 2,
       "version_minor": 0
      },
      "text/plain": [
       "  0%|          | 0/1 [00:00<?, ?it/s]"
      ]
     },
     "metadata": {},
     "output_type": "display_data"
    },
    {
     "name": "stderr",
     "output_type": "stream",
     "text": [
      "Using custom data configuration default-9adeb785cb2f578f\n",
      "Reusing dataset csv (F:\\cachefile\\huggingface\\datasets\\csv\\default-9adeb785cb2f578f\\0.0.0\\652c3096f041ee27b04d2232d41f10547a8fecda3e284a79a0ec4053c916ef7a)\n"
     ]
    },
    {
     "data": {
      "application/vnd.jupyter.widget-view+json": {
       "model_id": "53c018bbb02645658080a8bdbf62fbe8",
       "version_major": 2,
       "version_minor": 0
      },
      "text/plain": [
       "  0%|          | 0/1 [00:00<?, ?it/s]"
      ]
     },
     "metadata": {},
     "output_type": "display_data"
    }
   ],
   "source": [
    "from datasets import load_dataset\n",
    "\n",
    "train_file = {\"train\":\"dataset\\\\atis\\\\atis_intents.csv\"}\n",
    "validate_file = {\"validate\": \"dataset\\\\atis\\\\atis_intents_val.csv\"}\n",
    "test_file = {\"test\":\"dataset\\\\atis\\\\atis_intents_test.csv\"}\n",
    "\n",
    "train_data = load_dataset(\"csv\", data_files=train_file, names=[\"label_name\", \"text\"])\n",
    "validate_data = load_dataset(\"csv\", data_files=validate_file, names=[\"label_name\", \"text\"])\n",
    "test_data = load_dataset(\"csv\", data_files=test_file, names=[\"label_name\", \"text\"])"
   ]
  },
  {
   "cell_type": "code",
   "execution_count": 5,
   "id": "bd74ff19-ebfe-4a72-ba88-e130ecded388",
   "metadata": {},
   "outputs": [
    {
     "data": {
      "text/plain": [
       "DatasetDict({\n",
       "    train: Dataset({\n",
       "        features: ['label_name', 'text'],\n",
       "        num_rows: 4978\n",
       "    })\n",
       "})"
      ]
     },
     "execution_count": 5,
     "metadata": {},
     "output_type": "execute_result"
    }
   ],
   "source": [
    "train_data"
   ]
  },
  {
   "cell_type": "code",
   "execution_count": 6,
   "id": "fc657d54-60f0-47d2-bfff-29a145da9c62",
   "metadata": {},
   "outputs": [
    {
     "data": {
      "text/plain": [
       "DatasetDict({\n",
       "    validate: Dataset({\n",
       "        features: ['label_name', 'text'],\n",
       "        num_rows: 4834\n",
       "    })\n",
       "})"
      ]
     },
     "execution_count": 6,
     "metadata": {},
     "output_type": "execute_result"
    }
   ],
   "source": [
    "validate_data"
   ]
  },
  {
   "cell_type": "code",
   "execution_count": 7,
   "id": "355958a9-652b-4628-8ff2-d082a63c4137",
   "metadata": {},
   "outputs": [
    {
     "data": {
      "text/plain": [
       "DatasetDict({\n",
       "    test: Dataset({\n",
       "        features: ['label_name', 'text'],\n",
       "        num_rows: 800\n",
       "    })\n",
       "})"
      ]
     },
     "execution_count": 7,
     "metadata": {},
     "output_type": "execute_result"
    }
   ],
   "source": [
    "test_data"
   ]
  },
  {
   "cell_type": "code",
   "execution_count": 8,
   "id": "235831e0-9393-45e7-9fc3-90707b74c6ad",
   "metadata": {},
   "outputs": [
    {
     "data": {
      "text/plain": [
       "{'label_name': 'atis_flight',\n",
       " 'text': ' i want to fly from boston at 838 am and arrive in denver at 1110 in the morning'}"
      ]
     },
     "execution_count": 8,
     "metadata": {},
     "output_type": "execute_result"
    }
   ],
   "source": [
    "train_data[\"train\"][0]"
   ]
  },
  {
   "cell_type": "markdown",
   "id": "a85c5d5e-6ba3-445f-a43a-1f2df822f010",
   "metadata": {},
   "source": [
    "### 将Dataset转换成DataFrame"
   ]
  },
  {
   "cell_type": "code",
   "execution_count": 9,
   "id": "b4ab6f88-f563-483e-9429-84ed41d1676c",
   "metadata": {},
   "outputs": [],
   "source": [
    "train_data.set_format(type=\"pandas\")\n",
    "validate_data.set_format(type=\"pandas\")\n",
    "test_data.set_format(type=\"pandas\")\n",
    "df_train = train_data[\"train\"][:]\n",
    "df_val = validate_data[\"validate\"][:]\n",
    "df_test = test_data[\"test\"][:]"
   ]
  },
  {
   "cell_type": "code",
   "execution_count": 10,
   "id": "7d9598dd-44bc-4736-872a-82d78c381c10",
   "metadata": {},
   "outputs": [
    {
     "data": {
      "text/html": [
       "<div>\n",
       "<style scoped>\n",
       "    .dataframe tbody tr th:only-of-type {\n",
       "        vertical-align: middle;\n",
       "    }\n",
       "\n",
       "    .dataframe tbody tr th {\n",
       "        vertical-align: top;\n",
       "    }\n",
       "\n",
       "    .dataframe thead th {\n",
       "        text-align: right;\n",
       "    }\n",
       "</style>\n",
       "<table border=\"1\" class=\"dataframe\">\n",
       "  <thead>\n",
       "    <tr style=\"text-align: right;\">\n",
       "      <th></th>\n",
       "      <th>label_name</th>\n",
       "      <th>text</th>\n",
       "    </tr>\n",
       "  </thead>\n",
       "  <tbody>\n",
       "    <tr>\n",
       "      <th>0</th>\n",
       "      <td>atis_flight</td>\n",
       "      <td>i want to fly from boston at 838 am and arriv...</td>\n",
       "    </tr>\n",
       "    <tr>\n",
       "      <th>1</th>\n",
       "      <td>atis_flight</td>\n",
       "      <td>what flights are available from pittsburgh to...</td>\n",
       "    </tr>\n",
       "    <tr>\n",
       "      <th>2</th>\n",
       "      <td>atis_flight_time</td>\n",
       "      <td>what is the arrival time in san francisco for...</td>\n",
       "    </tr>\n",
       "    <tr>\n",
       "      <th>3</th>\n",
       "      <td>atis_airfare</td>\n",
       "      <td>cheapest airfare from tacoma to orlando</td>\n",
       "    </tr>\n",
       "    <tr>\n",
       "      <th>4</th>\n",
       "      <td>atis_airfare</td>\n",
       "      <td>round trip fares from pittsburgh to philadelp...</td>\n",
       "    </tr>\n",
       "  </tbody>\n",
       "</table>\n",
       "</div>"
      ],
      "text/plain": [
       "         label_name                                               text\n",
       "0       atis_flight   i want to fly from boston at 838 am and arriv...\n",
       "1       atis_flight   what flights are available from pittsburgh to...\n",
       "2  atis_flight_time   what is the arrival time in san francisco for...\n",
       "3      atis_airfare            cheapest airfare from tacoma to orlando\n",
       "4      atis_airfare   round trip fares from pittsburgh to philadelp..."
      ]
     },
     "execution_count": 10,
     "metadata": {},
     "output_type": "execute_result"
    }
   ],
   "source": [
    "df_train.head()"
   ]
  },
  {
   "cell_type": "code",
   "execution_count": 11,
   "id": "fa9f977f-1bf3-4f2c-bc50-1b283b31f8b3",
   "metadata": {},
   "outputs": [
    {
     "data": {
      "text/html": [
       "<div>\n",
       "<style scoped>\n",
       "    .dataframe tbody tr th:only-of-type {\n",
       "        vertical-align: middle;\n",
       "    }\n",
       "\n",
       "    .dataframe tbody tr th {\n",
       "        vertical-align: top;\n",
       "    }\n",
       "\n",
       "    .dataframe thead th {\n",
       "        text-align: right;\n",
       "    }\n",
       "</style>\n",
       "<table border=\"1\" class=\"dataframe\">\n",
       "  <thead>\n",
       "    <tr style=\"text-align: right;\">\n",
       "      <th></th>\n",
       "      <th>label_name</th>\n",
       "      <th>text</th>\n",
       "    </tr>\n",
       "  </thead>\n",
       "  <tbody>\n",
       "    <tr>\n",
       "      <th>0</th>\n",
       "      <td>atis_flight</td>\n",
       "      <td>i want to fly from boston at 838 am and arriv...</td>\n",
       "    </tr>\n",
       "    <tr>\n",
       "      <th>1</th>\n",
       "      <td>atis_flight</td>\n",
       "      <td>what flights are available from pittsburgh to...</td>\n",
       "    </tr>\n",
       "    <tr>\n",
       "      <th>2</th>\n",
       "      <td>atis_flight_time</td>\n",
       "      <td>what is the arrival time in san francisco for...</td>\n",
       "    </tr>\n",
       "    <tr>\n",
       "      <th>3</th>\n",
       "      <td>atis_airfare</td>\n",
       "      <td>cheapest airfare from tacoma to orlando</td>\n",
       "    </tr>\n",
       "    <tr>\n",
       "      <th>4</th>\n",
       "      <td>atis_airfare</td>\n",
       "      <td>round trip fares from pittsburgh to philadelp...</td>\n",
       "    </tr>\n",
       "  </tbody>\n",
       "</table>\n",
       "</div>"
      ],
      "text/plain": [
       "         label_name                                               text\n",
       "0       atis_flight   i want to fly from boston at 838 am and arriv...\n",
       "1       atis_flight   what flights are available from pittsburgh to...\n",
       "2  atis_flight_time   what is the arrival time in san francisco for...\n",
       "3      atis_airfare            cheapest airfare from tacoma to orlando\n",
       "4      atis_airfare   round trip fares from pittsburgh to philadelp..."
      ]
     },
     "execution_count": 11,
     "metadata": {},
     "output_type": "execute_result"
    }
   ],
   "source": [
    "df_val.head()"
   ]
  },
  {
   "cell_type": "code",
   "execution_count": 12,
   "id": "d18f24bb-77dd-45aa-a27e-c0808d64d207",
   "metadata": {},
   "outputs": [
    {
     "data": {
      "text/html": [
       "<div>\n",
       "<style scoped>\n",
       "    .dataframe tbody tr th:only-of-type {\n",
       "        vertical-align: middle;\n",
       "    }\n",
       "\n",
       "    .dataframe tbody tr th {\n",
       "        vertical-align: top;\n",
       "    }\n",
       "\n",
       "    .dataframe thead th {\n",
       "        text-align: right;\n",
       "    }\n",
       "</style>\n",
       "<table border=\"1\" class=\"dataframe\">\n",
       "  <thead>\n",
       "    <tr style=\"text-align: right;\">\n",
       "      <th></th>\n",
       "      <th>label_name</th>\n",
       "      <th>text</th>\n",
       "    </tr>\n",
       "  </thead>\n",
       "  <tbody>\n",
       "    <tr>\n",
       "      <th>0</th>\n",
       "      <td>atis_flight</td>\n",
       "      <td>i would like to find a flight from charlotte ...</td>\n",
       "    </tr>\n",
       "    <tr>\n",
       "      <th>1</th>\n",
       "      <td>atis_airfare</td>\n",
       "      <td>on april first i need a ticket from tacoma to...</td>\n",
       "    </tr>\n",
       "    <tr>\n",
       "      <th>2</th>\n",
       "      <td>atis_flight</td>\n",
       "      <td>on april first i need a flight going from pho...</td>\n",
       "    </tr>\n",
       "    <tr>\n",
       "      <th>3</th>\n",
       "      <td>atis_flight</td>\n",
       "      <td>i would like a flight traveling one way from ...</td>\n",
       "    </tr>\n",
       "    <tr>\n",
       "      <th>4</th>\n",
       "      <td>atis_flight</td>\n",
       "      <td>i would like a flight from orlando to salt la...</td>\n",
       "    </tr>\n",
       "  </tbody>\n",
       "</table>\n",
       "</div>"
      ],
      "text/plain": [
       "     label_name                                               text\n",
       "0   atis_flight   i would like to find a flight from charlotte ...\n",
       "1  atis_airfare   on april first i need a ticket from tacoma to...\n",
       "2   atis_flight   on april first i need a flight going from pho...\n",
       "3   atis_flight   i would like a flight traveling one way from ...\n",
       "4   atis_flight   i would like a flight from orlando to salt la..."
      ]
     },
     "execution_count": 12,
     "metadata": {},
     "output_type": "execute_result"
    }
   ],
   "source": [
    "df_test.head()"
   ]
  },
  {
   "cell_type": "markdown",
   "id": "2c427168-a69a-4674-bfc1-73c07006e1bb",
   "metadata": {
    "tags": []
   },
   "source": [
    "### 为数据集中的样本添加数值标签"
   ]
  },
  {
   "cell_type": "code",
   "execution_count": 13,
   "id": "a35dff35-27a5-4f37-b0ab-083df6a32948",
   "metadata": {},
   "outputs": [],
   "source": [
    "from sklearn.preprocessing import LabelEncoder\n",
    "label_encoder = LabelEncoder()\n",
    "df_train['label'] = label_encoder.fit_transform(df_train['label_name'])\n",
    "df_val[\"label\"] = label_encoder.transform(df_val[\"label_name\"])\n",
    "df_test[\"label\"] = label_encoder.transform(df_test[\"label_name\"])"
   ]
  },
  {
   "cell_type": "code",
   "execution_count": 14,
   "id": "fa016c8c-d4d8-40df-bd6e-d874b485730f",
   "metadata": {},
   "outputs": [
    {
     "data": {
      "text/html": [
       "<div>\n",
       "<style scoped>\n",
       "    .dataframe tbody tr th:only-of-type {\n",
       "        vertical-align: middle;\n",
       "    }\n",
       "\n",
       "    .dataframe tbody tr th {\n",
       "        vertical-align: top;\n",
       "    }\n",
       "\n",
       "    .dataframe thead th {\n",
       "        text-align: right;\n",
       "    }\n",
       "</style>\n",
       "<table border=\"1\" class=\"dataframe\">\n",
       "  <thead>\n",
       "    <tr style=\"text-align: right;\">\n",
       "      <th></th>\n",
       "      <th>label_name</th>\n",
       "      <th>text</th>\n",
       "      <th>label</th>\n",
       "    </tr>\n",
       "  </thead>\n",
       "  <tbody>\n",
       "    <tr>\n",
       "      <th>0</th>\n",
       "      <td>atis_flight</td>\n",
       "      <td>i want to fly from boston at 838 am and arriv...</td>\n",
       "      <td>12</td>\n",
       "    </tr>\n",
       "    <tr>\n",
       "      <th>1</th>\n",
       "      <td>atis_flight</td>\n",
       "      <td>what flights are available from pittsburgh to...</td>\n",
       "      <td>12</td>\n",
       "    </tr>\n",
       "    <tr>\n",
       "      <th>2</th>\n",
       "      <td>atis_flight_time</td>\n",
       "      <td>what is the arrival time in san francisco for...</td>\n",
       "      <td>15</td>\n",
       "    </tr>\n",
       "    <tr>\n",
       "      <th>3</th>\n",
       "      <td>atis_airfare</td>\n",
       "      <td>cheapest airfare from tacoma to orlando</td>\n",
       "      <td>3</td>\n",
       "    </tr>\n",
       "    <tr>\n",
       "      <th>4</th>\n",
       "      <td>atis_airfare</td>\n",
       "      <td>round trip fares from pittsburgh to philadelp...</td>\n",
       "      <td>3</td>\n",
       "    </tr>\n",
       "  </tbody>\n",
       "</table>\n",
       "</div>"
      ],
      "text/plain": [
       "         label_name                                               text  label\n",
       "0       atis_flight   i want to fly from boston at 838 am and arriv...     12\n",
       "1       atis_flight   what flights are available from pittsburgh to...     12\n",
       "2  atis_flight_time   what is the arrival time in san francisco for...     15\n",
       "3      atis_airfare            cheapest airfare from tacoma to orlando      3\n",
       "4      atis_airfare   round trip fares from pittsburgh to philadelp...      3"
      ]
     },
     "execution_count": 14,
     "metadata": {},
     "output_type": "execute_result"
    }
   ],
   "source": [
    "df_train.head()"
   ]
  },
  {
   "cell_type": "code",
   "execution_count": 15,
   "id": "56e7b228-82f6-491e-91c4-536851fc2f14",
   "metadata": {},
   "outputs": [
    {
     "data": {
      "text/html": [
       "<div>\n",
       "<style scoped>\n",
       "    .dataframe tbody tr th:only-of-type {\n",
       "        vertical-align: middle;\n",
       "    }\n",
       "\n",
       "    .dataframe tbody tr th {\n",
       "        vertical-align: top;\n",
       "    }\n",
       "\n",
       "    .dataframe thead th {\n",
       "        text-align: right;\n",
       "    }\n",
       "</style>\n",
       "<table border=\"1\" class=\"dataframe\">\n",
       "  <thead>\n",
       "    <tr style=\"text-align: right;\">\n",
       "      <th></th>\n",
       "      <th>label_name</th>\n",
       "      <th>text</th>\n",
       "      <th>label</th>\n",
       "    </tr>\n",
       "  </thead>\n",
       "  <tbody>\n",
       "    <tr>\n",
       "      <th>0</th>\n",
       "      <td>atis_flight</td>\n",
       "      <td>i would like to find a flight from charlotte ...</td>\n",
       "      <td>12</td>\n",
       "    </tr>\n",
       "    <tr>\n",
       "      <th>1</th>\n",
       "      <td>atis_airfare</td>\n",
       "      <td>on april first i need a ticket from tacoma to...</td>\n",
       "      <td>3</td>\n",
       "    </tr>\n",
       "    <tr>\n",
       "      <th>2</th>\n",
       "      <td>atis_flight</td>\n",
       "      <td>on april first i need a flight going from pho...</td>\n",
       "      <td>12</td>\n",
       "    </tr>\n",
       "    <tr>\n",
       "      <th>3</th>\n",
       "      <td>atis_flight</td>\n",
       "      <td>i would like a flight traveling one way from ...</td>\n",
       "      <td>12</td>\n",
       "    </tr>\n",
       "    <tr>\n",
       "      <th>4</th>\n",
       "      <td>atis_flight</td>\n",
       "      <td>i would like a flight from orlando to salt la...</td>\n",
       "      <td>12</td>\n",
       "    </tr>\n",
       "  </tbody>\n",
       "</table>\n",
       "</div>"
      ],
      "text/plain": [
       "     label_name                                               text  label\n",
       "0   atis_flight   i would like to find a flight from charlotte ...     12\n",
       "1  atis_airfare   on april first i need a ticket from tacoma to...      3\n",
       "2   atis_flight   on april first i need a flight going from pho...     12\n",
       "3   atis_flight   i would like a flight traveling one way from ...     12\n",
       "4   atis_flight   i would like a flight from orlando to salt la...     12"
      ]
     },
     "execution_count": 15,
     "metadata": {},
     "output_type": "execute_result"
    }
   ],
   "source": [
    "df_test.head()"
   ]
  },
  {
   "cell_type": "code",
   "execution_count": 16,
   "id": "ed48e9ad-9ed9-4e29-a435-fe56dcd3a940",
   "metadata": {},
   "outputs": [
    {
     "data": {
      "text/plain": [
       "array(['atis_abbreviation', 'atis_aircraft',\n",
       "       'atis_aircraft#atis_flight#atis_flight_no', 'atis_airfare',\n",
       "       'atis_airfare#atis_flight_time', 'atis_airline',\n",
       "       'atis_airline#atis_flight_no', 'atis_airport', 'atis_capacity',\n",
       "       'atis_cheapest', 'atis_city', 'atis_distance', 'atis_flight',\n",
       "       'atis_flight#atis_airfare', 'atis_flight_no', 'atis_flight_time',\n",
       "       'atis_ground_fare', 'atis_ground_service',\n",
       "       'atis_ground_service#atis_ground_fare', 'atis_meal',\n",
       "       'atis_quantity', 'atis_restriction'], dtype=object)"
      ]
     },
     "execution_count": 16,
     "metadata": {},
     "output_type": "execute_result"
    }
   ],
   "source": [
    "label_encoder.classes_"
   ]
  },
  {
   "cell_type": "code",
   "execution_count": 17,
   "id": "36d348ff-efd1-4286-9f69-2f06fa72b6f7",
   "metadata": {},
   "outputs": [
    {
     "data": {
      "text/plain": [
       "22"
      ]
     },
     "execution_count": 17,
     "metadata": {},
     "output_type": "execute_result"
    }
   ],
   "source": [
    "len(label_encoder.classes_)"
   ]
  },
  {
   "cell_type": "code",
   "execution_count": 18,
   "id": "4d9ef268-96f5-4b4a-9f7a-4d7be18a98cd",
   "metadata": {},
   "outputs": [],
   "source": [
    "from datasets import Dataset\n",
    "train_dataset = Dataset.from_pandas(df_train)\n",
    "val_dataset = Dataset.from_pandas(df_val)\n",
    "test_dataset = Dataset.from_pandas(df_test)"
   ]
  },
  {
   "cell_type": "code",
   "execution_count": 19,
   "id": "1108307e-a897-4723-af2f-1823d7978a8c",
   "metadata": {},
   "outputs": [
    {
     "data": {
      "text/plain": [
       "Dataset({\n",
       "    features: ['label_name', 'text', 'label'],\n",
       "    num_rows: 4978\n",
       "})"
      ]
     },
     "execution_count": 19,
     "metadata": {},
     "output_type": "execute_result"
    }
   ],
   "source": [
    "train_dataset"
   ]
  },
  {
   "cell_type": "code",
   "execution_count": 20,
   "id": "d47c49a1-9fa5-4f99-b538-e89057930ea7",
   "metadata": {},
   "outputs": [
    {
     "data": {
      "text/plain": [
       "Dataset({\n",
       "    features: ['label_name', 'text', 'label'],\n",
       "    num_rows: 4834\n",
       "})"
      ]
     },
     "execution_count": 20,
     "metadata": {},
     "output_type": "execute_result"
    }
   ],
   "source": [
    "val_dataset"
   ]
  },
  {
   "cell_type": "code",
   "execution_count": 21,
   "id": "c667aa03-0804-4828-b7b1-c689bdea98f4",
   "metadata": {},
   "outputs": [
    {
     "data": {
      "text/plain": [
       "Dataset({\n",
       "    features: ['label_name', 'text', 'label'],\n",
       "    num_rows: 800\n",
       "})"
      ]
     },
     "execution_count": 21,
     "metadata": {},
     "output_type": "execute_result"
    }
   ],
   "source": [
    "test_dataset"
   ]
  },
  {
   "cell_type": "markdown",
   "id": "d1de2641-afed-4ebf-9de4-ce1db8ee965e",
   "metadata": {},
   "source": [
    "### Tokenizer"
   ]
  },
  {
   "cell_type": "code",
   "execution_count": 22,
   "id": "e173ce3e-15ce-4fbf-b6a8-1520f4b189aa",
   "metadata": {},
   "outputs": [],
   "source": [
    "from transformers import AutoTokenizer\n",
    "model_ckpt = \"distilbert-base-uncased\"\n",
    "tokenizer = AutoTokenizer.from_pretrained(model_ckpt)"
   ]
  },
  {
   "cell_type": "code",
   "execution_count": 23,
   "id": "ed05c19c-d9e5-4468-87a6-91fd71b027d1",
   "metadata": {},
   "outputs": [
    {
     "data": {
      "text/plain": [
       "30522"
      ]
     },
     "execution_count": 23,
     "metadata": {},
     "output_type": "execute_result"
    }
   ],
   "source": [
    "tokenizer.vocab_size"
   ]
  },
  {
   "cell_type": "code",
   "execution_count": 24,
   "id": "972c04e6-4333-4133-8014-bc382e9ba261",
   "metadata": {},
   "outputs": [
    {
     "data": {
      "text/plain": [
       "['input_ids', 'attention_mask']"
      ]
     },
     "execution_count": 24,
     "metadata": {},
     "output_type": "execute_result"
    }
   ],
   "source": [
    "tokenizer.model_input_names"
   ]
  },
  {
   "cell_type": "code",
   "execution_count": 25,
   "id": "779666c8-9680-418c-8470-567c64feca0f",
   "metadata": {},
   "outputs": [],
   "source": [
    "def tokenize(batch):\n",
    "    return tokenizer(batch[\"text\"], padding=True, truncation=True)"
   ]
  },
  {
   "cell_type": "code",
   "execution_count": 26,
   "id": "c2995769-e38a-4fa8-9c91-8756af8bda6f",
   "metadata": {},
   "outputs": [
    {
     "name": "stdout",
     "output_type": "stream",
     "text": [
      "{'input_ids': [[101, 1045, 2215, 2000, 4875, 2013, 3731, 2012, 6640, 2620, 2572, 1998, 7180, 1999, 7573, 2012, 11118, 2692, 1999, 1996, 2851, 102], [101, 2054, 7599, 2024, 2800, 2013, 6278, 2000, 6222, 2006, 9432, 2851, 102, 0, 0, 0, 0, 0, 0, 0, 0, 0], [101, 2054, 2003, 1996, 5508, 2051, 1999, 2624, 3799, 2005, 1996, 4293, 2629, 2572, 3462, 2975, 2899, 102, 0, 0, 0, 0]], 'attention_mask': [[1, 1, 1, 1, 1, 1, 1, 1, 1, 1, 1, 1, 1, 1, 1, 1, 1, 1, 1, 1, 1, 1], [1, 1, 1, 1, 1, 1, 1, 1, 1, 1, 1, 1, 1, 0, 0, 0, 0, 0, 0, 0, 0, 0], [1, 1, 1, 1, 1, 1, 1, 1, 1, 1, 1, 1, 1, 1, 1, 1, 1, 1, 0, 0, 0, 0]]}\n"
     ]
    }
   ],
   "source": [
    "print(tokenize(train_dataset[:3]))"
   ]
  },
  {
   "cell_type": "code",
   "execution_count": 27,
   "id": "8cdaffe6-26bd-4d7d-b054-e69e8a05881e",
   "metadata": {},
   "outputs": [
    {
     "data": {
      "application/vnd.jupyter.widget-view+json": {
       "model_id": "c645a6d220a54cb59d8abeb3bd55b57e",
       "version_major": 2,
       "version_minor": 0
      },
      "text/plain": [
       "  0%|          | 0/1 [00:00<?, ?ba/s]"
      ]
     },
     "metadata": {},
     "output_type": "display_data"
    },
    {
     "data": {
      "application/vnd.jupyter.widget-view+json": {
       "model_id": "5e9eaa39e7064243ad89770e6bf2b8f4",
       "version_major": 2,
       "version_minor": 0
      },
      "text/plain": [
       "  0%|          | 0/1 [00:00<?, ?ba/s]"
      ]
     },
     "metadata": {},
     "output_type": "display_data"
    },
    {
     "data": {
      "application/vnd.jupyter.widget-view+json": {
       "model_id": "021c424562bb4a59bfd17d8a75745f1c",
       "version_major": 2,
       "version_minor": 0
      },
      "text/plain": [
       "  0%|          | 0/1 [00:00<?, ?ba/s]"
      ]
     },
     "metadata": {},
     "output_type": "display_data"
    }
   ],
   "source": [
    "train_dataset_encoded = train_dataset.map(tokenize, batched=True, batch_size=None)\n",
    "val_dataset_encoded = val_dataset.map(tokenize, batched=True, batch_size=None)\n",
    "test_dataset_encoded = test_dataset.map(tokenize, batched=True, batch_size=None)"
   ]
  },
  {
   "cell_type": "code",
   "execution_count": 28,
   "id": "526a4faa-8d5d-46d3-ab7e-78f067a6da2e",
   "metadata": {},
   "outputs": [
    {
     "data": {
      "text/plain": [
       "Dataset({\n",
       "    features: ['label_name', 'text', 'label', 'input_ids', 'attention_mask'],\n",
       "    num_rows: 4978\n",
       "})"
      ]
     },
     "execution_count": 28,
     "metadata": {},
     "output_type": "execute_result"
    }
   ],
   "source": [
    "train_dataset_encoded"
   ]
  },
  {
   "cell_type": "code",
   "execution_count": 29,
   "id": "9e24d465-2e2f-4c4a-9ead-a9ed07579711",
   "metadata": {},
   "outputs": [
    {
     "data": {
      "text/plain": [
       "Dataset({\n",
       "    features: ['label_name', 'text', 'label', 'input_ids', 'attention_mask'],\n",
       "    num_rows: 4834\n",
       "})"
      ]
     },
     "execution_count": 29,
     "metadata": {},
     "output_type": "execute_result"
    }
   ],
   "source": [
    "val_dataset_encoded"
   ]
  },
  {
   "cell_type": "code",
   "execution_count": 30,
   "id": "fd4538d0-8465-4db4-8702-724d4c06a066",
   "metadata": {},
   "outputs": [
    {
     "data": {
      "text/plain": [
       "Dataset({\n",
       "    features: ['label_name', 'text', 'label', 'input_ids', 'attention_mask'],\n",
       "    num_rows: 800\n",
       "})"
      ]
     },
     "execution_count": 30,
     "metadata": {},
     "output_type": "execute_result"
    }
   ],
   "source": [
    "test_dataset_encoded"
   ]
  },
  {
   "cell_type": "markdown",
   "id": "0b9d228f-5a0c-467d-9532-7003b12151da",
   "metadata": {},
   "source": [
    "### 将Dataset转为torch"
   ]
  },
  {
   "cell_type": "code",
   "execution_count": 31,
   "id": "7edd56b9-9e02-48a7-a764-e3ef7f6fde57",
   "metadata": {},
   "outputs": [],
   "source": [
    "train_dataset_encoded.set_format(\"torch\", columns=[\"input_ids\", \"attention_mask\", \"label\"])\n",
    "val_dataset_encoded.set_format(\"torch\", columns=[\"input_ids\", \"attention_mask\", \"label\"])\n",
    "test_dataset_encoded.set_format(\"torch\", columns=[\"input_ids\", \"attention_mask\", \"label\"])"
   ]
  },
  {
   "cell_type": "code",
   "execution_count": 32,
   "id": "44715812-8278-412e-b024-fc2357a0d31e",
   "metadata": {},
   "outputs": [
    {
     "data": {
      "text/plain": [
       "{'label': tensor(12),\n",
       " 'input_ids': tensor([ 101, 1045, 2052, 2066, 2000, 2424, 1037, 3462, 2013, 5904, 2000, 5869,\n",
       "         7136, 2008, 3084, 1037, 2644, 1999, 2358, 1012, 3434,  102,    0,    0,\n",
       "            0,    0,    0,    0,    0,    0,    0,    0,    0,    0,    0]),\n",
       " 'attention_mask': tensor([1, 1, 1, 1, 1, 1, 1, 1, 1, 1, 1, 1, 1, 1, 1, 1, 1, 1, 1, 1, 1, 1, 0, 0,\n",
       "         0, 0, 0, 0, 0, 0, 0, 0, 0, 0, 0])}"
      ]
     },
     "execution_count": 32,
     "metadata": {},
     "output_type": "execute_result"
    }
   ],
   "source": [
    "test_dataset_encoded[0]"
   ]
  },
  {
   "cell_type": "markdown",
   "id": "100d8d9e-d8c9-4793-b0ca-045dadae25c3",
   "metadata": {},
   "source": [
    "## fine-turning DistilBERT"
   ]
  },
  {
   "cell_type": "markdown",
   "id": "d45a0152-a1b0-44d9-b451-9644d14b3a9a",
   "metadata": {},
   "source": [
    "### 加载预训练模型"
   ]
  },
  {
   "cell_type": "code",
   "execution_count": 33,
   "id": "57a926ba-5f48-41f1-8421-ec9b99a0cb60",
   "metadata": {},
   "outputs": [],
   "source": [
    "import torch\n",
    "device = torch.device(\"cuda\" if torch.cuda.is_available() else \"cpu\")"
   ]
  },
  {
   "cell_type": "code",
   "execution_count": 34,
   "id": "0afe8bdd-ccce-46cc-9e5c-0b01ade290c6",
   "metadata": {},
   "outputs": [
    {
     "data": {
      "text/plain": [
       "device(type='cuda')"
      ]
     },
     "execution_count": 34,
     "metadata": {},
     "output_type": "execute_result"
    }
   ],
   "source": [
    "device"
   ]
  },
  {
   "cell_type": "code",
   "execution_count": 35,
   "id": "a6424818-6790-4384-8a4f-6595fef20c34",
   "metadata": {},
   "outputs": [
    {
     "name": "stderr",
     "output_type": "stream",
     "text": [
      "Some weights of the model checkpoint at distilbert-base-uncased were not used when initializing DistilBertForSequenceClassification: ['vocab_projector.bias', 'vocab_layer_norm.bias', 'vocab_transform.bias', 'vocab_projector.weight', 'vocab_transform.weight', 'vocab_layer_norm.weight']\n",
      "- This IS expected if you are initializing DistilBertForSequenceClassification from the checkpoint of a model trained on another task or with another architecture (e.g. initializing a BertForSequenceClassification model from a BertForPreTraining model).\n",
      "- This IS NOT expected if you are initializing DistilBertForSequenceClassification from the checkpoint of a model that you expect to be exactly identical (initializing a BertForSequenceClassification model from a BertForSequenceClassification model).\n",
      "Some weights of DistilBertForSequenceClassification were not initialized from the model checkpoint at distilbert-base-uncased and are newly initialized: ['classifier.weight', 'pre_classifier.weight', 'classifier.bias', 'pre_classifier.bias']\n",
      "You should probably TRAIN this model on a down-stream task to be able to use it for predictions and inference.\n"
     ]
    }
   ],
   "source": [
    "from transformers import AutoModelForSequenceClassification\n",
    "\n",
    "num_labels = len(label_encoder.classes_)\n",
    "model = (AutoModelForSequenceClassification.from_pretrained(model_ckpt, num_labels=num_labels).to(device))"
   ]
  },
  {
   "cell_type": "markdown",
   "id": "79558436-5cb2-41ca-ba65-9cd00305fa53",
   "metadata": {},
   "source": [
    "### 定义性能指标"
   ]
  },
  {
   "cell_type": "code",
   "execution_count": 36,
   "id": "2783d1d4-b0f3-4fcc-9910-0f8088a9417f",
   "metadata": {},
   "outputs": [],
   "source": [
    "from sklearn.metrics import accuracy_score, f1_score\n",
    "\n",
    "def compute_metrics(pred):\n",
    "    labels = pred.label_ids\n",
    "    preds = pred.predictions.argmax(-1)\n",
    "    f1 = f1_score(labels, preds, average=\"weighted\")\n",
    "    acc = accuracy_score(labels, preds)\n",
    "    return {\"accuracy\": acc, \"f1\": f1}"
   ]
  },
  {
   "cell_type": "markdown",
   "id": "09e7e15a-93a4-48e4-9434-3bda467821f0",
   "metadata": {},
   "source": [
    "### 定义模型参数"
   ]
  },
  {
   "cell_type": "code",
   "execution_count": 37,
   "id": "d66b1dff-7a7e-46cd-8b7e-c8ccf898bd22",
   "metadata": {},
   "outputs": [],
   "source": [
    "from transformers import TrainingArguments\n",
    "\n",
    "batch_size = 4\n",
    "model_name = f\"{model_ckpt}-finetuned-atis\"\n",
    "logging_steps = len(train_dataset_encoded) // batch_size\n",
    "training_args = TrainingArguments(output_dir=model_name,\n",
    "                                  num_train_epochs=2,\n",
    "                                  learning_rate=2e-5,\n",
    "                                  per_device_train_batch_size=batch_size,\n",
    "                                  per_device_eval_batch_size=batch_size,\n",
    "                                  weight_decay=0.01,\n",
    "                                  evaluation_strategy=\"epoch\",\n",
    "                                  disable_tqdm=False,\n",
    "                                  logging_steps=logging_steps,\n",
    "                                  push_to_hub=False, \n",
    "                                  log_level=\"error\")"
   ]
  },
  {
   "cell_type": "markdown",
   "id": "f0a6cfbf-d6b4-4df8-83b6-c0d6378465b7",
   "metadata": {},
   "source": [
    "### 模型训练"
   ]
  },
  {
   "cell_type": "code",
   "execution_count": 38,
   "id": "016f2f1e-63fc-4a54-957f-b8b637d794dc",
   "metadata": {},
   "outputs": [
    {
     "name": "stderr",
     "output_type": "stream",
     "text": [
      "D:\\miniconda3\\envs\\expml\\lib\\site-packages\\transformers\\optimization.py:306: FutureWarning: This implementation of AdamW is deprecated and will be removed in a future version. Use the PyTorch implementation torch.optim.AdamW instead, or set `no_deprecation_warning=True` to disable this warning\n",
      "  warnings.warn(\n"
     ]
    },
    {
     "data": {
      "text/html": [
       "\n",
       "    <div>\n",
       "      \n",
       "      <progress value='2490' max='2490' style='width:300px; height:20px; vertical-align: middle;'></progress>\n",
       "      [2490/2490 11:21, Epoch 2/2]\n",
       "    </div>\n",
       "    <table border=\"1\" class=\"dataframe\">\n",
       "  <thead>\n",
       " <tr style=\"text-align: left;\">\n",
       "      <th>Epoch</th>\n",
       "      <th>Training Loss</th>\n",
       "      <th>Validation Loss</th>\n",
       "      <th>Accuracy</th>\n",
       "      <th>F1</th>\n",
       "    </tr>\n",
       "  </thead>\n",
       "  <tbody>\n",
       "    <tr>\n",
       "      <td>1</td>\n",
       "      <td>0.375800</td>\n",
       "      <td>0.019917</td>\n",
       "      <td>0.997311</td>\n",
       "      <td>0.997300</td>\n",
       "    </tr>\n",
       "    <tr>\n",
       "      <td>2</td>\n",
       "      <td>0.100000</td>\n",
       "      <td>0.012927</td>\n",
       "      <td>0.998138</td>\n",
       "      <td>0.998135</td>\n",
       "    </tr>\n",
       "  </tbody>\n",
       "</table><p>"
      ],
      "text/plain": [
       "<IPython.core.display.HTML object>"
      ]
     },
     "metadata": {},
     "output_type": "display_data"
    },
    {
     "data": {
      "text/plain": [
       "TrainOutput(global_step=2490, training_loss=0.23770994924936428, metrics={'train_runtime': 683.3421, 'train_samples_per_second': 14.57, 'train_steps_per_second': 3.644, 'total_flos': 133993012535616.0, 'train_loss': 0.23770994924936428, 'epoch': 2.0})"
      ]
     },
     "execution_count": 38,
     "metadata": {},
     "output_type": "execute_result"
    }
   ],
   "source": [
    "from transformers import Trainer\n",
    "\n",
    "trainer =Trainer(model=model,\n",
    "                 args=training_args,\n",
    "                 compute_metrics=compute_metrics,\n",
    "                 train_dataset=train_dataset_encoded,\n",
    "                 eval_dataset=val_dataset_encoded)\n",
    "trainer.train()"
   ]
  },
  {
   "cell_type": "markdown",
   "id": "c74e5f22-e0fa-4c7d-a3db-9cadd7fdf1a3",
   "metadata": {},
   "source": [
    "### 模型推理"
   ]
  },
  {
   "cell_type": "code",
   "execution_count": 39,
   "id": "c773fde1-5946-4461-8dd5-55335072775c",
   "metadata": {},
   "outputs": [
    {
     "data": {
      "text/html": [],
      "text/plain": [
       "<IPython.core.display.HTML object>"
      ]
     },
     "metadata": {},
     "output_type": "display_data"
    }
   ],
   "source": [
    "output = trainer.predict(test_dataset_encoded)"
   ]
  },
  {
   "cell_type": "code",
   "execution_count": 40,
   "id": "5f929f9c-8341-430f-8c93-2e14c1e916e5",
   "metadata": {},
   "outputs": [
    {
     "data": {
      "text/plain": [
       "PredictionOutput(predictions=array([[-1.6838893 , -1.1118135 , -2.834503  , ..., -2.5243676 ,\n",
       "        -2.1954243 , -2.6545844 ],\n",
       "       [-0.49421772, -1.0653832 , -2.6451037 , ..., -2.0465512 ,\n",
       "        -1.4942018 , -1.567963  ],\n",
       "       [-1.620597  , -1.0888493 , -2.8559325 , ..., -2.5177147 ,\n",
       "        -2.1322212 , -2.6416466 ],\n",
       "       ...,\n",
       "       [-1.6584004 , -1.1416012 , -2.8087847 , ..., -2.5008392 ,\n",
       "        -2.1393173 , -2.6267593 ],\n",
       "       [-1.7118394 , -1.1374418 , -2.8598917 , ..., -2.5268302 ,\n",
       "        -2.1865268 , -2.6490262 ],\n",
       "       [-1.6047516 , -1.087887  , -2.7990947 , ..., -2.5273504 ,\n",
       "        -2.1210654 , -2.6061435 ]], dtype=float32), label_ids=array([12,  3, 12, 12, 12, 12, 12, 12, 12, 12, 12, 12, 12, 12, 12, 12, 12,\n",
       "       12, 12, 12, 12, 12, 12, 12, 12, 12, 12, 12, 12, 12, 12, 17, 12, 12,\n",
       "       12, 12, 12, 12, 12, 12, 12, 12, 12, 12, 12, 12, 12, 12, 12, 12, 12,\n",
       "       12, 12, 12, 12, 12, 12, 12, 12, 12, 12, 12, 12, 12, 12, 12, 12, 12,\n",
       "       12, 12, 12, 12, 12, 12, 12, 12, 12, 12, 12, 12, 12, 12, 12, 12, 12,\n",
       "       12, 12, 12, 12, 12, 12, 12, 12, 12, 12, 12, 12,  3,  5, 15, 12, 12,\n",
       "        5, 12, 12, 12, 12, 12, 12, 12, 12, 12, 17, 12, 12, 12, 12, 12, 12,\n",
       "       12, 12, 12,  5, 12, 12, 12, 12, 12, 12, 17, 12, 17, 12, 12, 12, 12,\n",
       "       12, 12, 12, 12, 12, 12, 12, 12, 12,  5, 12, 12, 12, 12, 12, 12, 12,\n",
       "       12, 20, 20, 20, 12, 12, 12, 12, 12,  3,  3, 12,  0, 12, 12, 12, 12,\n",
       "       12, 12, 12, 12, 12, 12, 12, 12, 12,  5, 12, 12,  3,  1, 12,  3, 12,\n",
       "       12, 12, 12, 12,  5,  5, 12, 12, 12, 12, 12, 12, 12, 12, 12, 12, 12,\n",
       "       12,  0, 12, 12, 12, 12, 12,  5, 12, 12, 12, 12, 12, 12, 12,  3,  0,\n",
       "       12, 12, 12, 12, 12, 12, 12, 12,  5,  3,  3, 12, 12, 12, 12, 12, 12,\n",
       "       12, 12, 12, 12, 12, 12, 12, 12, 12, 12,  0, 12, 12, 12, 12, 12, 12,\n",
       "       12, 12, 12, 12,  0,  5, 12, 12, 12, 12, 12, 12, 12, 12, 12, 12, 12,\n",
       "        5, 12, 12, 12, 12,  3,  3,  3,  3, 17, 12, 17,  5,  3, 12, 12, 12,\n",
       "       12, 12, 12, 12, 12,  0, 12, 12, 17, 12, 12,  3,  0,  3, 12, 12, 12,\n",
       "       12, 12,  0,  0, 12, 12, 12,  0, 12, 12, 12, 12, 17, 12, 17, 12, 12,\n",
       "       12,  5, 12,  0,  0, 12,  0, 12,  5, 12, 12, 17, 12, 17, 12,  5, 12,\n",
       "       12, 17, 12, 17, 12, 17,  1, 12, 12, 12, 12, 12, 12, 12, 12, 12, 12,\n",
       "       12, 12, 12, 12, 12, 12, 12, 12, 12, 12, 12, 12,  3,  3,  3, 12, 12,\n",
       "       12, 12, 12, 12, 12, 12, 12, 12, 12, 12, 17, 12, 12, 12, 12, 12, 12,\n",
       "       12, 12, 12, 12, 12, 12, 12,  3, 12,  3,  3, 12, 12, 12, 12, 12, 12,\n",
       "       12, 17, 12, 17, 12, 12, 12, 12, 12, 12, 12, 12, 12, 12,  3, 12, 12,\n",
       "        3,  3,  3,  3,  3,  3, 12, 12, 12, 12, 12, 12, 12, 12, 12, 12, 12,\n",
       "       12, 12, 12, 17, 12, 12, 12, 12, 12, 12, 17, 17, 12, 17, 12, 12, 12,\n",
       "       12,  5, 12,  0, 12, 12,  1, 12, 12,  3,  3, 12, 17, 12, 12, 12, 12,\n",
       "       12, 12, 12,  0, 12,  0,  3, 12,  0,  0,  0,  0, 12, 12, 12,  5, 12,\n",
       "       12,  5, 12,  0, 12,  0,  0,  0,  0, 12, 12, 12, 12, 12, 12, 12, 12,\n",
       "       12, 12, 12, 12,  5, 17, 17, 12, 12, 12,  5,  5,  5,  5,  5, 12,  5,\n",
       "       12, 12, 12,  5, 12, 12,  5, 17, 12, 17, 12, 12, 12, 12, 12, 12,  0,\n",
       "       12,  0,  0,  5,  5,  5,  5, 12, 12, 12, 12, 12,  5, 12, 12, 12, 12,\n",
       "       12, 12, 12, 12, 12, 12, 12, 12, 12, 12, 12, 12, 12, 12, 12, 12, 12,\n",
       "       12,  1,  0, 12,  3,  3, 12, 12, 12, 12, 12,  5, 12, 12, 17, 17, 12,\n",
       "       12, 12, 12,  3, 12,  3, 12, 12, 12, 12, 12, 12, 12, 12, 12, 12, 12,\n",
       "       12, 12, 12, 12, 12, 12, 12, 12, 12, 12,  3,  3, 12,  3,  3, 12, 12,\n",
       "       12, 12, 12, 12, 12,  3,  3, 12, 12, 12, 12, 12, 12, 12, 12, 12, 12,\n",
       "       12, 12, 12, 12, 12, 12, 12, 12, 12, 12, 12, 12, 12,  0,  1,  0, 12,\n",
       "       12, 12, 12, 12, 12, 12,  3,  3,  3,  3,  3, 12, 12, 12, 12, 12, 12,\n",
       "       12, 12, 12,  5,  5,  5, 12,  0, 12, 12, 12,  1,  1,  1, 12, 12, 12,\n",
       "       12, 12, 17, 12,  0, 17, 17, 17, 17, 12, 12, 17, 12, 12, 12, 12,  5,\n",
       "       12, 12, 12, 12, 12,  3, 12, 12, 12, 12, 12, 12, 12, 12, 12,  1, 12,\n",
       "       12, 12, 12, 12, 17, 17, 12, 12, 12, 12, 12, 12, 12, 12, 12, 12, 12,\n",
       "       12, 12, 12, 12, 12, 12, 12, 12, 12, 12, 12, 12, 12, 12, 12, 12, 12,\n",
       "       12, 12, 12, 12, 12, 12, 12, 12, 12, 12, 12, 12, 12, 12, 12, 12, 12,\n",
       "       12, 12, 12, 12, 12, 12, 12, 12,  5, 12, 12, 12, 12, 12, 12, 12, 12,\n",
       "       12], dtype=int64), metrics={'test_loss': 0.04392093047499657, 'test_accuracy': 0.99125, 'test_f1': 0.9938658043069808, 'test_runtime': 5.5693, 'test_samples_per_second': 143.645, 'test_steps_per_second': 35.911})"
      ]
     },
     "execution_count": 40,
     "metadata": {},
     "output_type": "execute_result"
    }
   ],
   "source": [
    "output"
   ]
  },
  {
   "cell_type": "code",
   "execution_count": 41,
   "id": "9e432a73-fbbe-4056-a10e-a918e584c98e",
   "metadata": {},
   "outputs": [],
   "source": [
    "text = 'I want to go to Beijing from Shanghai'"
   ]
  },
  {
   "cell_type": "code",
   "execution_count": 42,
   "id": "07e893b6-b62a-43ce-86c1-ebd5841a9cd8",
   "metadata": {},
   "outputs": [],
   "source": [
    "text_encoded = tokenizer(text, return_tensors='pt')"
   ]
  },
  {
   "cell_type": "code",
   "execution_count": 43,
   "id": "0ea6be14-a6e9-43d9-82d6-32dd166c88f1",
   "metadata": {},
   "outputs": [
    {
     "data": {
      "text/plain": [
       "{'input_ids': tensor([[ 101, 1045, 2215, 2000, 2175, 2000, 7211, 2013, 8344,  102]]), 'attention_mask': tensor([[1, 1, 1, 1, 1, 1, 1, 1, 1, 1]])}"
      ]
     },
     "execution_count": 43,
     "metadata": {},
     "output_type": "execute_result"
    }
   ],
   "source": [
    "text_encoded"
   ]
  },
  {
   "cell_type": "code",
   "execution_count": 45,
   "id": "86942aca-5324-4c6f-b57d-cbe4e4743ab8",
   "metadata": {},
   "outputs": [],
   "source": [
    "text_input = {k:v.to(device) for k,v in text_encoded.items()}"
   ]
  },
  {
   "cell_type": "code",
   "execution_count": 46,
   "id": "85cd59a1-5f43-4a30-8bf0-470277e6e239",
   "metadata": {},
   "outputs": [
    {
     "data": {
      "text/plain": [
       "{'input_ids': tensor([[ 101, 1045, 2215, 2000, 2175, 2000, 7211, 2013, 8344,  102]],\n",
       "        device='cuda:0'),\n",
       " 'attention_mask': tensor([[1, 1, 1, 1, 1, 1, 1, 1, 1, 1]], device='cuda:0')}"
      ]
     },
     "execution_count": 46,
     "metadata": {},
     "output_type": "execute_result"
    }
   ],
   "source": [
    "text_input"
   ]
  },
  {
   "cell_type": "code",
   "execution_count": 49,
   "id": "ead38325-a38e-45be-91d7-5c4c27811c4a",
   "metadata": {},
   "outputs": [],
   "source": [
    "with torch.no_grad():\n",
    "    text_out = model(**text_input)"
   ]
  },
  {
   "cell_type": "code",
   "execution_count": 50,
   "id": "983d5519-95b5-4f33-be8f-686949b6c40f",
   "metadata": {},
   "outputs": [
    {
     "data": {
      "text/plain": [
       "SequenceClassifierOutput(loss=None, logits=tensor([[-1.6561, -1.1369, -2.8442, -0.7041, -3.3607, -1.2007, -3.3042, -1.5448,\n",
       "         -2.4016, -3.4611, -1.9773, -2.6465,  9.7547, -1.0693, -1.9104, -0.4944,\n",
       "         -2.4321, -0.8258, -2.9637, -2.5071, -2.1543, -2.6557]],\n",
       "       device='cuda:0'), hidden_states=None, attentions=None)"
      ]
     },
     "execution_count": 50,
     "metadata": {},
     "output_type": "execute_result"
    }
   ],
   "source": [
    "text_out"
   ]
  },
  {
   "cell_type": "code",
   "execution_count": 51,
   "id": "dc56b26c-49d3-4ea1-9d13-c27ad035bbe3",
   "metadata": {},
   "outputs": [
    {
     "data": {
      "text/plain": [
       "array(['atis_abbreviation', 'atis_aircraft',\n",
       "       'atis_aircraft#atis_flight#atis_flight_no', 'atis_airfare',\n",
       "       'atis_airfare#atis_flight_time', 'atis_airline',\n",
       "       'atis_airline#atis_flight_no', 'atis_airport', 'atis_capacity',\n",
       "       'atis_cheapest', 'atis_city', 'atis_distance', 'atis_flight',\n",
       "       'atis_flight#atis_airfare', 'atis_flight_no', 'atis_flight_time',\n",
       "       'atis_ground_fare', 'atis_ground_service',\n",
       "       'atis_ground_service#atis_ground_fare', 'atis_meal',\n",
       "       'atis_quantity', 'atis_restriction'], dtype=object)"
      ]
     },
     "execution_count": 51,
     "metadata": {},
     "output_type": "execute_result"
    }
   ],
   "source": [
    "label_encoder.classes_"
   ]
  },
  {
   "cell_type": "code",
   "execution_count": null,
   "id": "ec416eff-0fa6-4327-ba13-0df0ac4f6600",
   "metadata": {},
   "outputs": [],
   "source": []
  }
 ],
 "metadata": {
  "kernelspec": {
   "display_name": "Python 3 (ipykernel)",
   "language": "python",
   "name": "python3"
  },
  "language_info": {
   "codemirror_mode": {
    "name": "ipython",
    "version": 3
   },
   "file_extension": ".py",
   "mimetype": "text/x-python",
   "name": "python",
   "nbconvert_exporter": "python",
   "pygments_lexer": "ipython3",
   "version": "3.9.13"
  }
 },
 "nbformat": 4,
 "nbformat_minor": 5
}
