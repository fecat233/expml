{
 "cells": [
  {
   "cell_type": "markdown",
   "id": "44ec31b5-82ca-4e52-bd24-c92a78f10b75",
   "metadata": {},
   "source": [
    "# RNN-based Encoder-Decoder实现属性槽预测"
   ]
  },
  {
   "cell_type": "code",
   "execution_count": 1,
   "id": "918f786a-fc1a-43f7-bd56-1788241592cc",
   "metadata": {},
   "outputs": [],
   "source": [
    "import torch\n",
    "import torch.nn as nn"
   ]
  },
  {
   "cell_type": "markdown",
   "id": "984643ea-1d4d-4dfb-9a42-c53eb34b114a",
   "metadata": {},
   "source": [
    "## 模型构建"
   ]
  },
  {
   "cell_type": "code",
   "execution_count": 2,
   "id": "f7c3e03d-9e5a-4183-bc26-aefb76053e98",
   "metadata": {},
   "outputs": [],
   "source": [
    "class Encoder(nn.Module):\n",
    "    def __init__(self, vocab_size, embed_dim, hidden_size, num_layers):\n",
    "        super(Encoder, self).__init__()\n",
    "        self.embeding = nn.Embedding(vocab_size, embed_dim)\n",
    "        self.rnn = nn.LSTM(embed_dim, hidden_size, num_layers, batch_first=True)\n",
    "    \n",
    "    def forward(self, x):\n",
    "        x = self.embeding(x)\n",
    "        output, (h, c) = self.rnn(x)\n",
    "        return output"
   ]
  },
  {
   "cell_type": "code",
   "execution_count": 35,
   "id": "8f6dc1bc-7cb9-419b-8d4e-33196484a500",
   "metadata": {},
   "outputs": [],
   "source": [
    "full_seq = torch.tensor([[0, 2, 3, 4, 5, 1], [6, 7, 8, 9, 10, 6]])"
   ]
  },
  {
   "cell_type": "code",
   "execution_count": 36,
   "id": "9e1bb52b-3631-4106-bebe-1ec806328b80",
   "metadata": {},
   "outputs": [
    {
     "data": {
      "text/plain": [
       "tensor([[0, 2, 3, 4, 5, 1],\n",
       "        [0, 6, 7, 8, 9, 1]])"
      ]
     },
     "execution_count": 36,
     "metadata": {},
     "output_type": "execute_result"
    }
   ],
   "source": [
    "full_seq"
   ]
  },
  {
   "cell_type": "code",
   "execution_count": 37,
   "id": "0ea3a755-fced-4827-9717-bbe8cc6472d0",
   "metadata": {},
   "outputs": [],
   "source": [
    "source_seq = full_seq[:1] # first two\n",
    "target_seq = full_seq[1:] # last two"
   ]
  },
  {
   "cell_type": "code",
   "execution_count": 38,
   "id": "4fcc97f7-2a3b-4eee-9191-12673ca1e51a",
   "metadata": {},
   "outputs": [
    {
     "data": {
      "text/plain": [
       "(tensor([[0, 2, 3, 4, 5, 1]]), tensor([[0, 6, 7, 8, 9, 1]]))"
      ]
     },
     "execution_count": 38,
     "metadata": {},
     "output_type": "execute_result"
    }
   ],
   "source": [
    "source_seq, target_seq"
   ]
  },
  {
   "cell_type": "code",
   "execution_count": 40,
   "id": "2aa12218-7793-413f-b073-7a2d623072ea",
   "metadata": {},
   "outputs": [],
   "source": [
    "with torch.no_grad():\n",
    "    encoder = Encoder(10,10,10,1)\n",
    "    hidden_seq = encoder(source_seq)\n",
    "    hidden_final = hidden_seq[:, -1:]"
   ]
  },
  {
   "cell_type": "code",
   "execution_count": 41,
   "id": "26502678-0c93-49fd-be3a-28cfd04f5e6f",
   "metadata": {},
   "outputs": [
    {
     "data": {
      "text/plain": [
       "tensor([[[-0.2476,  0.0519, -0.0366,  0.0613,  0.0198,  0.0061,  0.1407,\n",
       "           0.0809,  0.0987,  0.1103],\n",
       "         [-0.1229,  0.1263, -0.1942,  0.3224,  0.0229,  0.0441,  0.0986,\n",
       "           0.1420,  0.0580, -0.2052],\n",
       "         [-0.1190,  0.1428, -0.1500,  0.1121, -0.0704,  0.1114,  0.1376,\n",
       "          -0.0477,  0.1730, -0.2858],\n",
       "         [-0.1881,  0.1444, -0.0652,  0.3063, -0.1572, -0.0243,  0.2957,\n",
       "          -0.0518,  0.0281, -0.0133],\n",
       "         [-0.0846,  0.0397, -0.0037,  0.0371, -0.1898,  0.0167,  0.3401,\n",
       "           0.1125, -0.0787, -0.1691],\n",
       "         [-0.0833,  0.0933, -0.0885,  0.2465,  0.0876, -0.1497,  0.0993,\n",
       "           0.0630,  0.0852, -0.0574]]])"
      ]
     },
     "execution_count": 41,
     "metadata": {},
     "output_type": "execute_result"
    }
   ],
   "source": [
    "hidden_seq"
   ]
  },
  {
   "cell_type": "code",
   "execution_count": 42,
   "id": "c07d6a5c-1872-40b4-9015-77199079e42e",
   "metadata": {},
   "outputs": [
    {
     "data": {
      "text/plain": [
       "tensor([[[-0.0833,  0.0933, -0.0885,  0.2465,  0.0876, -0.1497,  0.0993,\n",
       "           0.0630,  0.0852, -0.0574]]])"
      ]
     },
     "execution_count": 42,
     "metadata": {},
     "output_type": "execute_result"
    }
   ],
   "source": [
    "hidden_final"
   ]
  },
  {
   "cell_type": "code",
   "execution_count": 43,
   "id": "bb19069c-4ed6-4766-af0e-6551901ed47d",
   "metadata": {},
   "outputs": [],
   "source": [
    "class Decoder(nn.Module):\n",
    "    def __init__(self, n_features, hidden_size):\n",
    "        super(Decoder, self).__init__()\n",
    "        self.hidden = None\n",
    "        self.cell = None\n",
    "        self.rnn = nn.LSTM(n_features, hidden_size)\n",
    "        self.linear = nn.Linear(hidden_size, n_features)\n",
    "        \n",
    "    def init_hidden(self, hidden_seq):\n",
    "        hidden_final = hidden_seq[:, -1:]\n",
    "        self.hidden = hidden_final.permute(1,0,2)\n",
    "        \n",
    "    def forward(self, x):\n",
    "        output, self.hidden, self.cell = self.rnn(x, self.hidden, self.cell)\n",
    "        last_output = output[:, -1]\n",
    "        out = self.linear(last_output)\n",
    "        return out"
   ]
  },
  {
   "cell_type": "code",
   "execution_count": 65,
   "id": "8645337a-1ed1-4766-97d4-334aeef51bf6",
   "metadata": {},
   "outputs": [
    {
     "name": "stdout",
     "output_type": "stream",
     "text": [
      "tensor([[[-0.0833,  0.0933, -0.0885,  0.2465,  0.0876, -0.1497,  0.0993,\n",
      "           0.0630,  0.0852, -0.0574]]])\n"
     ]
    }
   ],
   "source": [
    "with torch.no_grad():\n",
    "    decoder = Decoder(n_features=10, hidden_size=10)\n",
    "    decoder.init_hidden(hidden_seq)\n",
    "    print(decoder.hidden)\n",
    "    \n",
    "    "
   ]
  }
 ],
 "metadata": {
  "kernelspec": {
   "display_name": "Python 3 (ipykernel)",
   "language": "python",
   "name": "python3"
  },
  "language_info": {
   "codemirror_mode": {
    "name": "ipython",
    "version": 3
   },
   "file_extension": ".py",
   "mimetype": "text/x-python",
   "name": "python",
   "nbconvert_exporter": "python",
   "pygments_lexer": "ipython3",
   "version": "3.9.13"
  }
 },
 "nbformat": 4,
 "nbformat_minor": 5
}
